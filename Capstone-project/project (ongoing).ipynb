{
 "cells": [
  {
   "cell_type": "markdown",
   "metadata": {},
   "source": [
    "The data is scraped from airlinequality.com by quankiquanki: https://github.com/quankiquanki/skytrax-reviews-dataset "
   ]
  },
  {
   "cell_type": "code",
   "execution_count": 96,
   "metadata": {
    "collapsed": true
   },
   "outputs": [],
   "source": [
    "import numpy as np\n",
    "import pandas as pd\n",
    "import matplotlib.pyplot as plt\n",
    "import statsmodels.api as sm\n",
    "from statsmodels.formula.api import ols\n",
    "from sklearn.linear_model import LinearRegression\n",
    "from sklearn import model_selection"
   ]
  },
  {
   "cell_type": "code",
   "execution_count": 97,
   "metadata": {
    "collapsed": false
   },
   "outputs": [],
   "source": [
    "df=pd.read_csv('skytrax-reviews-dataset-master/data/airline.csv')"
   ]
  },
  {
   "cell_type": "code",
   "execution_count": 98,
   "metadata": {
    "collapsed": false
   },
   "outputs": [
    {
     "data": {
      "text/html": [
       "<div>\n",
       "<table border=\"1\" class=\"dataframe\">\n",
       "  <thead>\n",
       "    <tr style=\"text-align: right;\">\n",
       "      <th></th>\n",
       "      <th>airline_name</th>\n",
       "      <th>link</th>\n",
       "      <th>title</th>\n",
       "      <th>author</th>\n",
       "      <th>author_country</th>\n",
       "      <th>date</th>\n",
       "      <th>content</th>\n",
       "      <th>aircraft</th>\n",
       "      <th>type_traveller</th>\n",
       "      <th>cabin_flown</th>\n",
       "      <th>route</th>\n",
       "      <th>overall_rating</th>\n",
       "      <th>seat_comfort_rating</th>\n",
       "      <th>cabin_staff_rating</th>\n",
       "      <th>food_beverages_rating</th>\n",
       "      <th>inflight_entertainment_rating</th>\n",
       "      <th>ground_service_rating</th>\n",
       "      <th>wifi_connectivity_rating</th>\n",
       "      <th>value_money_rating</th>\n",
       "      <th>recommended</th>\n",
       "    </tr>\n",
       "  </thead>\n",
       "  <tbody>\n",
       "    <tr>\n",
       "      <th>0</th>\n",
       "      <td>adria-airways</td>\n",
       "      <td>/airline-reviews/adria-airways</td>\n",
       "      <td>Adria Airways customer review</td>\n",
       "      <td>D Ito</td>\n",
       "      <td>Germany</td>\n",
       "      <td>2015-04-10</td>\n",
       "      <td>Outbound flight FRA/PRN A319. 2 hours 10 min f...</td>\n",
       "      <td>NaN</td>\n",
       "      <td>NaN</td>\n",
       "      <td>Economy</td>\n",
       "      <td>NaN</td>\n",
       "      <td>7.0</td>\n",
       "      <td>4.0</td>\n",
       "      <td>4.0</td>\n",
       "      <td>4.0</td>\n",
       "      <td>0.0</td>\n",
       "      <td>NaN</td>\n",
       "      <td>NaN</td>\n",
       "      <td>4.0</td>\n",
       "      <td>1</td>\n",
       "    </tr>\n",
       "    <tr>\n",
       "      <th>1</th>\n",
       "      <td>adria-airways</td>\n",
       "      <td>/airline-reviews/adria-airways</td>\n",
       "      <td>Adria Airways customer review</td>\n",
       "      <td>Ron Kuhlmann</td>\n",
       "      <td>United States</td>\n",
       "      <td>2015-01-05</td>\n",
       "      <td>Two short hops ZRH-LJU and LJU-VIE. Very fast ...</td>\n",
       "      <td>NaN</td>\n",
       "      <td>NaN</td>\n",
       "      <td>Business Class</td>\n",
       "      <td>NaN</td>\n",
       "      <td>10.0</td>\n",
       "      <td>4.0</td>\n",
       "      <td>5.0</td>\n",
       "      <td>4.0</td>\n",
       "      <td>1.0</td>\n",
       "      <td>NaN</td>\n",
       "      <td>NaN</td>\n",
       "      <td>5.0</td>\n",
       "      <td>1</td>\n",
       "    </tr>\n",
       "  </tbody>\n",
       "</table>\n",
       "</div>"
      ],
      "text/plain": [
       "    airline_name                            link  \\\n",
       "0  adria-airways  /airline-reviews/adria-airways   \n",
       "1  adria-airways  /airline-reviews/adria-airways   \n",
       "\n",
       "                           title        author author_country        date  \\\n",
       "0  Adria Airways customer review         D Ito        Germany  2015-04-10   \n",
       "1  Adria Airways customer review  Ron Kuhlmann  United States  2015-01-05   \n",
       "\n",
       "                                             content aircraft type_traveller  \\\n",
       "0  Outbound flight FRA/PRN A319. 2 hours 10 min f...      NaN            NaN   \n",
       "1  Two short hops ZRH-LJU and LJU-VIE. Very fast ...      NaN            NaN   \n",
       "\n",
       "      cabin_flown route  overall_rating  seat_comfort_rating  \\\n",
       "0         Economy   NaN             7.0                  4.0   \n",
       "1  Business Class   NaN            10.0                  4.0   \n",
       "\n",
       "   cabin_staff_rating  food_beverages_rating  inflight_entertainment_rating  \\\n",
       "0                 4.0                    4.0                            0.0   \n",
       "1                 5.0                    4.0                            1.0   \n",
       "\n",
       "   ground_service_rating  wifi_connectivity_rating  value_money_rating  \\\n",
       "0                    NaN                       NaN                 4.0   \n",
       "1                    NaN                       NaN                 5.0   \n",
       "\n",
       "   recommended  \n",
       "0            1  \n",
       "1            1  "
      ]
     },
     "execution_count": 98,
     "metadata": {},
     "output_type": "execute_result"
    }
   ],
   "source": [
    "df.head(2)"
   ]
  },
  {
   "cell_type": "markdown",
   "metadata": {},
   "source": [
    "# Data exploration"
   ]
  },
  {
   "cell_type": "code",
   "execution_count": 99,
   "metadata": {
    "collapsed": false,
    "scrolled": false
   },
   "outputs": [
    {
     "name": "stderr",
     "output_type": "stream",
     "text": [
      "C:\\Users\\Bao Tram\\AppData\\Local\\Continuum\\Anaconda3\\lib\\site-packages\\numpy\\lib\\function_base.py:3834: RuntimeWarning: Invalid value encountered in percentile\n",
      "  RuntimeWarning)\n"
     ]
    },
    {
     "data": {
      "text/html": [
       "<div>\n",
       "<table border=\"1\" class=\"dataframe\">\n",
       "  <thead>\n",
       "    <tr style=\"text-align: right;\">\n",
       "      <th></th>\n",
       "      <th>overall_rating</th>\n",
       "      <th>seat_comfort_rating</th>\n",
       "      <th>cabin_staff_rating</th>\n",
       "      <th>food_beverages_rating</th>\n",
       "      <th>inflight_entertainment_rating</th>\n",
       "      <th>ground_service_rating</th>\n",
       "      <th>wifi_connectivity_rating</th>\n",
       "      <th>value_money_rating</th>\n",
       "      <th>recommended</th>\n",
       "    </tr>\n",
       "  </thead>\n",
       "  <tbody>\n",
       "    <tr>\n",
       "      <th>count</th>\n",
       "      <td>36861.000000</td>\n",
       "      <td>33706.000000</td>\n",
       "      <td>33708.000000</td>\n",
       "      <td>33264.000000</td>\n",
       "      <td>31114.000000</td>\n",
       "      <td>2203.000000</td>\n",
       "      <td>565.000000</td>\n",
       "      <td>39723.000000</td>\n",
       "      <td>41396.000000</td>\n",
       "    </tr>\n",
       "    <tr>\n",
       "      <th>mean</th>\n",
       "      <td>6.039527</td>\n",
       "      <td>3.094612</td>\n",
       "      <td>3.319212</td>\n",
       "      <td>2.805886</td>\n",
       "      <td>2.392364</td>\n",
       "      <td>2.736723</td>\n",
       "      <td>2.249558</td>\n",
       "      <td>3.164111</td>\n",
       "      <td>0.533820</td>\n",
       "    </tr>\n",
       "    <tr>\n",
       "      <th>std</th>\n",
       "      <td>3.214680</td>\n",
       "      <td>1.405515</td>\n",
       "      <td>1.541307</td>\n",
       "      <td>1.580246</td>\n",
       "      <td>1.704753</td>\n",
       "      <td>1.569073</td>\n",
       "      <td>1.541283</td>\n",
       "      <td>1.523486</td>\n",
       "      <td>0.498861</td>\n",
       "    </tr>\n",
       "    <tr>\n",
       "      <th>min</th>\n",
       "      <td>1.000000</td>\n",
       "      <td>0.000000</td>\n",
       "      <td>0.000000</td>\n",
       "      <td>0.000000</td>\n",
       "      <td>0.000000</td>\n",
       "      <td>1.000000</td>\n",
       "      <td>1.000000</td>\n",
       "      <td>0.000000</td>\n",
       "      <td>0.000000</td>\n",
       "    </tr>\n",
       "    <tr>\n",
       "      <th>25%</th>\n",
       "      <td>NaN</td>\n",
       "      <td>NaN</td>\n",
       "      <td>NaN</td>\n",
       "      <td>NaN</td>\n",
       "      <td>NaN</td>\n",
       "      <td>NaN</td>\n",
       "      <td>NaN</td>\n",
       "      <td>NaN</td>\n",
       "      <td>0.000000</td>\n",
       "    </tr>\n",
       "    <tr>\n",
       "      <th>50%</th>\n",
       "      <td>NaN</td>\n",
       "      <td>NaN</td>\n",
       "      <td>NaN</td>\n",
       "      <td>NaN</td>\n",
       "      <td>NaN</td>\n",
       "      <td>NaN</td>\n",
       "      <td>NaN</td>\n",
       "      <td>NaN</td>\n",
       "      <td>1.000000</td>\n",
       "    </tr>\n",
       "    <tr>\n",
       "      <th>75%</th>\n",
       "      <td>NaN</td>\n",
       "      <td>NaN</td>\n",
       "      <td>NaN</td>\n",
       "      <td>NaN</td>\n",
       "      <td>NaN</td>\n",
       "      <td>NaN</td>\n",
       "      <td>NaN</td>\n",
       "      <td>NaN</td>\n",
       "      <td>1.000000</td>\n",
       "    </tr>\n",
       "    <tr>\n",
       "      <th>max</th>\n",
       "      <td>10.000000</td>\n",
       "      <td>5.000000</td>\n",
       "      <td>5.000000</td>\n",
       "      <td>5.000000</td>\n",
       "      <td>5.000000</td>\n",
       "      <td>5.000000</td>\n",
       "      <td>5.000000</td>\n",
       "      <td>5.000000</td>\n",
       "      <td>1.000000</td>\n",
       "    </tr>\n",
       "  </tbody>\n",
       "</table>\n",
       "</div>"
      ],
      "text/plain": [
       "       overall_rating  seat_comfort_rating  cabin_staff_rating  \\\n",
       "count    36861.000000         33706.000000        33708.000000   \n",
       "mean         6.039527             3.094612            3.319212   \n",
       "std          3.214680             1.405515            1.541307   \n",
       "min          1.000000             0.000000            0.000000   \n",
       "25%               NaN                  NaN                 NaN   \n",
       "50%               NaN                  NaN                 NaN   \n",
       "75%               NaN                  NaN                 NaN   \n",
       "max         10.000000             5.000000            5.000000   \n",
       "\n",
       "       food_beverages_rating  inflight_entertainment_rating  \\\n",
       "count           33264.000000                   31114.000000   \n",
       "mean                2.805886                       2.392364   \n",
       "std                 1.580246                       1.704753   \n",
       "min                 0.000000                       0.000000   \n",
       "25%                      NaN                            NaN   \n",
       "50%                      NaN                            NaN   \n",
       "75%                      NaN                            NaN   \n",
       "max                 5.000000                       5.000000   \n",
       "\n",
       "       ground_service_rating  wifi_connectivity_rating  value_money_rating  \\\n",
       "count            2203.000000                565.000000        39723.000000   \n",
       "mean                2.736723                  2.249558            3.164111   \n",
       "std                 1.569073                  1.541283            1.523486   \n",
       "min                 1.000000                  1.000000            0.000000   \n",
       "25%                      NaN                       NaN                 NaN   \n",
       "50%                      NaN                       NaN                 NaN   \n",
       "75%                      NaN                       NaN                 NaN   \n",
       "max                 5.000000                  5.000000            5.000000   \n",
       "\n",
       "        recommended  \n",
       "count  41396.000000  \n",
       "mean       0.533820  \n",
       "std        0.498861  \n",
       "min        0.000000  \n",
       "25%        0.000000  \n",
       "50%        1.000000  \n",
       "75%        1.000000  \n",
       "max        1.000000  "
      ]
     },
     "execution_count": 99,
     "metadata": {},
     "output_type": "execute_result"
    }
   ],
   "source": [
    "df.describe()"
   ]
  },
  {
   "cell_type": "code",
   "execution_count": 100,
   "metadata": {
    "collapsed": false
   },
   "outputs": [
    {
     "data": {
      "text/plain": [
       "airline_name                         0\n",
       "link                                 0\n",
       "title                                0\n",
       "author                               0\n",
       "author_country                    1591\n",
       "date                                 0\n",
       "content                              0\n",
       "aircraft                         40118\n",
       "type_traveller                   39018\n",
       "cabin_flown                       2876\n",
       "route                            39055\n",
       "overall_rating                    4535\n",
       "seat_comfort_rating               7690\n",
       "cabin_staff_rating                7688\n",
       "food_beverages_rating             8132\n",
       "inflight_entertainment_rating    10282\n",
       "ground_service_rating            39193\n",
       "wifi_connectivity_rating         40831\n",
       "value_money_rating                1673\n",
       "recommended                          0\n",
       "dtype: int64"
      ]
     },
     "execution_count": 100,
     "metadata": {},
     "output_type": "execute_result"
    }
   ],
   "source": [
    "df.isnull().sum()"
   ]
  },
  {
   "cell_type": "markdown",
   "metadata": {},
   "source": [
    "* From this descriptive table, we see that we only have problem with missing values, but there is no outliers. Note that for some features, we see the min of rating is 0, which is invalid (from 1 to 5) so those are also missing values. \n",
    "* It is noticeable that data for overall rating, recommended and value_money rating are nearly full while rating data for ground service and wifi connectivity are mostly missing.However, we should not assume that it is becaus travellers tend to pay more attention to these rating when they score and leave out other ratings or because some airlines simply don't provide these amenities in some routes. Hence, I think it's more logical to replace those missing values by 0 than by imputed values(mean, median). \n",
    "* The data points with missing values for overall rating will be deleted as it is our main concern. "
   ]
  },
  {
   "cell_type": "code",
   "execution_count": 101,
   "metadata": {
    "collapsed": false
   },
   "outputs": [
    {
     "data": {
      "text/plain": [
       "airline_name                      object\n",
       "link                              object\n",
       "title                             object\n",
       "author                            object\n",
       "author_country                    object\n",
       "date                              object\n",
       "content                           object\n",
       "aircraft                          object\n",
       "type_traveller                    object\n",
       "cabin_flown                       object\n",
       "route                             object\n",
       "overall_rating                   float64\n",
       "seat_comfort_rating              float64\n",
       "cabin_staff_rating               float64\n",
       "food_beverages_rating            float64\n",
       "inflight_entertainment_rating    float64\n",
       "ground_service_rating            float64\n",
       "wifi_connectivity_rating         float64\n",
       "value_money_rating               float64\n",
       "recommended                        int64\n",
       "dtype: object"
      ]
     },
     "execution_count": 101,
     "metadata": {},
     "output_type": "execute_result"
    }
   ],
   "source": [
    "df.dtypes"
   ]
  },
  {
   "cell_type": "markdown",
   "metadata": {},
   "source": [
    "* we will need to change some categorical features above into category type. Date into date type, but we may not need it in this model"
   ]
  },
  {
   "cell_type": "code",
   "execution_count": 102,
   "metadata": {
    "collapsed": false
   },
   "outputs": [
    {
     "data": {
      "text/plain": [
       "type_traveller\n",
       "Business          362\n",
       "Couple Leisure    601\n",
       "FamilyLeisure     611\n",
       "Solo Leisure      804\n",
       "dtype: int64"
      ]
     },
     "execution_count": 102,
     "metadata": {},
     "output_type": "execute_result"
    }
   ],
   "source": [
    "df.groupby('type_traveller').size()"
   ]
  },
  {
   "cell_type": "markdown",
   "metadata": {},
   "source": [
    "* This shows that we have lots of missing data for type of travellers"
   ]
  },
  {
   "cell_type": "code",
   "execution_count": 103,
   "metadata": {
    "collapsed": false
   },
   "outputs": [
    {
     "data": {
      "text/plain": [
       "cabin_flown\n",
       "Business Class      6347\n",
       "Economy            29784\n",
       "First Class          879\n",
       "Premium Economy     1510\n",
       "dtype: int64"
      ]
     },
     "execution_count": 103,
     "metadata": {},
     "output_type": "execute_result"
    }
   ],
   "source": [
    "df.groupby('cabin_flown').size()"
   ]
  },
  {
   "cell_type": "markdown",
   "metadata": {},
   "source": [
    "* Those missing points in this case are not many, so we just replace with 0 for missing values"
   ]
  },
  {
   "cell_type": "code",
   "execution_count": 104,
   "metadata": {
    "collapsed": false
   },
   "outputs": [
    {
     "data": {
      "text/plain": [
       "362"
      ]
     },
     "execution_count": 104,
     "metadata": {},
     "output_type": "execute_result"
    }
   ],
   "source": [
    "len(df['airline_name'].unique()) #how many airlines operate"
   ]
  },
  {
   "cell_type": "code",
   "execution_count": 105,
   "metadata": {
    "collapsed": false
   },
   "outputs": [
    {
     "data": {
      "text/plain": [
       "159"
      ]
     },
     "execution_count": 105,
     "metadata": {},
     "output_type": "execute_result"
    }
   ],
   "source": [
    "len(df['author_country'].unique()) #to see whether the reviews come from just some countries"
   ]
  },
  {
   "cell_type": "code",
   "execution_count": 106,
   "metadata": {
    "collapsed": false
   },
   "outputs": [
    {
     "data": {
      "text/plain": [
       "364"
      ]
     },
     "execution_count": 106,
     "metadata": {},
     "output_type": "execute_result"
    }
   ],
   "source": [
    "len(df['aircraft'].unique()) #how many types of aircraft"
   ]
  },
  {
   "cell_type": "code",
   "execution_count": 107,
   "metadata": {
    "collapsed": false
   },
   "outputs": [
    {
     "data": {
      "text/plain": [
       "2209"
      ]
     },
     "execution_count": 107,
     "metadata": {},
     "output_type": "execute_result"
    }
   ],
   "source": [
    "len(df['route'].unique()) #how many routes"
   ]
  },
  {
   "cell_type": "code",
   "execution_count": 108,
   "metadata": {
    "collapsed": false
   },
   "outputs": [
    {
     "data": {
      "image/png": "[encoded data removed]",
      "text/plain": [
       "<matplotlib.figure.Figure at 0x28bbdab7860>"
      ]
     },
     "metadata": {},
     "output_type": "display_data"
    }
   ],
   "source": [
    "df.plot.box()\n",
    "plt.xticks(rotation='vertical')\n",
    "plt.title('Boxplots for overall and each feature ratings')\n",
    "plt.show()"
   ]
  },
  {
   "cell_type": "markdown",
   "metadata": {},
   "source": [
    "* the boxplot may not be useful yet because of many missing values and denoted as 0 in our data"
   ]
  },
  {
   "cell_type": "markdown",
   "metadata": {},
   "source": [
    "# Data wrangling"
   ]
  },
  {
   "cell_type": "code",
   "execution_count": 109,
   "metadata": {
    "collapsed": false
   },
   "outputs": [],
   "source": [
    "#get rid of data points without overall rating\n",
    "df_clean=df[df['overall_rating'].notnull()]"
   ]
  },
  {
   "cell_type": "code",
   "execution_count": 110,
   "metadata": {
    "collapsed": false
   },
   "outputs": [
    {
     "name": "stderr",
     "output_type": "stream",
     "text": [
      "C:\\Users\\Bao Tram\\AppData\\Local\\Continuum\\Anaconda3\\lib\\site-packages\\ipykernel\\__main__.py:2: SettingWithCopyWarning: \n",
      "A value is trying to be set on a copy of a slice from a DataFrame\n",
      "\n",
      "See the caveats in the documentation: http://pandas.pydata.org/pandas-docs/stable/indexing.html#indexing-view-versus-copy\n",
      "  from ipykernel import kernelapp as app\n"
     ]
    }
   ],
   "source": [
    "#'link','title','author','author_country','date','content','aircraft','route'\n",
    "df_clean.drop(['link','title','author','author_country','date','content','aircraft','route'],axis=1, inplace=True)\n"
   ]
  },
  {
   "cell_type": "code",
   "execution_count": 111,
   "metadata": {
    "collapsed": false
   },
   "outputs": [
    {
     "data": {
      "text/html": [
       "<div>\n",
       "<table border=\"1\" class=\"dataframe\">\n",
       "  <thead>\n",
       "    <tr style=\"text-align: right;\">\n",
       "      <th></th>\n",
       "      <th>airline_name</th>\n",
       "      <th>type_traveller</th>\n",
       "      <th>cabin_flown</th>\n",
       "      <th>overall_rating</th>\n",
       "      <th>seat_comfort_rating</th>\n",
       "      <th>cabin_staff_rating</th>\n",
       "      <th>food_beverages_rating</th>\n",
       "      <th>inflight_entertainment_rating</th>\n",
       "      <th>ground_service_rating</th>\n",
       "      <th>wifi_connectivity_rating</th>\n",
       "      <th>value_money_rating</th>\n",
       "      <th>recommended</th>\n",
       "    </tr>\n",
       "  </thead>\n",
       "  <tbody>\n",
       "    <tr>\n",
       "      <th>0</th>\n",
       "      <td>adria-airways</td>\n",
       "      <td>NaN</td>\n",
       "      <td>Economy</td>\n",
       "      <td>7.0</td>\n",
       "      <td>4.0</td>\n",
       "      <td>4.0</td>\n",
       "      <td>4.0</td>\n",
       "      <td>0.0</td>\n",
       "      <td>NaN</td>\n",
       "      <td>NaN</td>\n",
       "      <td>4.0</td>\n",
       "      <td>1</td>\n",
       "    </tr>\n",
       "    <tr>\n",
       "      <th>1</th>\n",
       "      <td>adria-airways</td>\n",
       "      <td>NaN</td>\n",
       "      <td>Business Class</td>\n",
       "      <td>10.0</td>\n",
       "      <td>4.0</td>\n",
       "      <td>5.0</td>\n",
       "      <td>4.0</td>\n",
       "      <td>1.0</td>\n",
       "      <td>NaN</td>\n",
       "      <td>NaN</td>\n",
       "      <td>5.0</td>\n",
       "      <td>1</td>\n",
       "    </tr>\n",
       "    <tr>\n",
       "      <th>2</th>\n",
       "      <td>adria-airways</td>\n",
       "      <td>NaN</td>\n",
       "      <td>Economy</td>\n",
       "      <td>9.0</td>\n",
       "      <td>5.0</td>\n",
       "      <td>5.0</td>\n",
       "      <td>4.0</td>\n",
       "      <td>0.0</td>\n",
       "      <td>NaN</td>\n",
       "      <td>NaN</td>\n",
       "      <td>5.0</td>\n",
       "      <td>1</td>\n",
       "    </tr>\n",
       "    <tr>\n",
       "      <th>3</th>\n",
       "      <td>adria-airways</td>\n",
       "      <td>NaN</td>\n",
       "      <td>Business Class</td>\n",
       "      <td>8.0</td>\n",
       "      <td>4.0</td>\n",
       "      <td>4.0</td>\n",
       "      <td>3.0</td>\n",
       "      <td>1.0</td>\n",
       "      <td>NaN</td>\n",
       "      <td>NaN</td>\n",
       "      <td>4.0</td>\n",
       "      <td>1</td>\n",
       "    </tr>\n",
       "    <tr>\n",
       "      <th>4</th>\n",
       "      <td>adria-airways</td>\n",
       "      <td>NaN</td>\n",
       "      <td>Economy</td>\n",
       "      <td>4.0</td>\n",
       "      <td>4.0</td>\n",
       "      <td>2.0</td>\n",
       "      <td>1.0</td>\n",
       "      <td>2.0</td>\n",
       "      <td>NaN</td>\n",
       "      <td>NaN</td>\n",
       "      <td>2.0</td>\n",
       "      <td>0</td>\n",
       "    </tr>\n",
       "  </tbody>\n",
       "</table>\n",
       "</div>"
      ],
      "text/plain": [
       "    airline_name type_traveller     cabin_flown  overall_rating  \\\n",
       "0  adria-airways            NaN         Economy             7.0   \n",
       "1  adria-airways            NaN  Business Class            10.0   \n",
       "2  adria-airways            NaN         Economy             9.0   \n",
       "3  adria-airways            NaN  Business Class             8.0   \n",
       "4  adria-airways            NaN         Economy             4.0   \n",
       "\n",
       "   seat_comfort_rating  cabin_staff_rating  food_beverages_rating  \\\n",
       "0                  4.0                 4.0                    4.0   \n",
       "1                  4.0                 5.0                    4.0   \n",
       "2                  5.0                 5.0                    4.0   \n",
       "3                  4.0                 4.0                    3.0   \n",
       "4                  4.0                 2.0                    1.0   \n",
       "\n",
       "   inflight_entertainment_rating  ground_service_rating  \\\n",
       "0                            0.0                    NaN   \n",
       "1                            1.0                    NaN   \n",
       "2                            0.0                    NaN   \n",
       "3                            1.0                    NaN   \n",
       "4                            2.0                    NaN   \n",
       "\n",
       "   wifi_connectivity_rating  value_money_rating  recommended  \n",
       "0                       NaN                 4.0            1  \n",
       "1                       NaN                 5.0            1  \n",
       "2                       NaN                 5.0            1  \n",
       "3                       NaN                 4.0            1  \n",
       "4                       NaN                 2.0            0  "
      ]
     },
     "execution_count": 111,
     "metadata": {},
     "output_type": "execute_result"
    }
   ],
   "source": [
    "df_clean.head()"
   ]
  },
  {
   "cell_type": "code",
   "execution_count": 112,
   "metadata": {
    "collapsed": false,
    "scrolled": true
   },
   "outputs": [
    {
     "name": "stderr",
     "output_type": "stream",
     "text": [
      "C:\\Users\\Bao Tram\\AppData\\Local\\Continuum\\Anaconda3\\lib\\site-packages\\pandas\\core\\generic.py:3191: SettingWithCopyWarning: \n",
      "A value is trying to be set on a copy of a slice from a DataFrame\n",
      "\n",
      "See the caveats in the documentation: http://pandas.pydata.org/pandas-docs/stable/indexing.html#indexing-view-versus-copy\n",
      "  self._update_inplace(new_data)\n"
     ]
    }
   ],
   "source": [
    "#deal with missing values\n",
    "df_clean=df_clean.fillna({'ground_service_rating':0, 'wifi_connectivity_rating':0,'seat_comfort_rating':0,'cabin_staff_rating':0,'food_beverages_rating':0,'inflight_entertainment_rating':0, 'value_money_rating':0}, inplace=True)\n"
   ]
  },
  {
   "cell_type": "code",
   "execution_count": 113,
   "metadata": {
    "collapsed": false
   },
   "outputs": [],
   "source": [
    "#replace missing value of categorical variables with their mode\n",
    "#df_clean=df_clean.fillna(df_clean.mode().iloc[0])\n"
   ]
  },
  {
   "cell_type": "code",
   "execution_count": 114,
   "metadata": {
    "collapsed": false
   },
   "outputs": [],
   "source": [
    "#change types of columns traveller types, recommended and cabin flown into category type\n",
    "df_traveller= pd.get_dummies(df_clean['type_traveller'])\n",
    "df_cabin_flown= pd.get_dummies(df_clean['cabin_flown'])\n",
    "df_clean=pd.concat([df_clean, df_traveller, df_cabin_flown], axis=1)\n",
    "df_clean.drop(['type_traveller','cabin_flown'], axis=1, inplace=True)"
   ]
  },
  {
   "cell_type": "code",
   "execution_count": 115,
   "metadata": {
    "collapsed": false
   },
   "outputs": [
    {
     "data": {
      "text/plain": [
       "False"
      ]
     },
     "execution_count": 115,
     "metadata": {},
     "output_type": "execute_result"
    }
   ],
   "source": [
    "df_clean.isnull().values.any() #check if there are any missing values in dataframe"
   ]
  },
  {
   "cell_type": "code",
   "execution_count": 116,
   "metadata": {
    "collapsed": false
   },
   "outputs": [
    {
     "data": {
      "text/html": [
       "<div>\n",
       "<table border=\"1\" class=\"dataframe\">\n",
       "  <thead>\n",
       "    <tr style=\"text-align: right;\">\n",
       "      <th></th>\n",
       "      <th>airline_name</th>\n",
       "      <th>overall_rating</th>\n",
       "      <th>seat_comfort_rating</th>\n",
       "      <th>cabin_staff_rating</th>\n",
       "      <th>food_beverages_rating</th>\n",
       "      <th>inflight_entertainment_rating</th>\n",
       "      <th>ground_service_rating</th>\n",
       "      <th>wifi_connectivity_rating</th>\n",
       "      <th>value_money_rating</th>\n",
       "      <th>recommended</th>\n",
       "      <th>Business</th>\n",
       "      <th>Couple Leisure</th>\n",
       "      <th>FamilyLeisure</th>\n",
       "      <th>Solo Leisure</th>\n",
       "      <th>Business Class</th>\n",
       "      <th>Economy</th>\n",
       "      <th>First Class</th>\n",
       "      <th>Premium Economy</th>\n",
       "    </tr>\n",
       "  </thead>\n",
       "  <tbody>\n",
       "    <tr>\n",
       "      <th>0</th>\n",
       "      <td>adria-airways</td>\n",
       "      <td>7.0</td>\n",
       "      <td>4.0</td>\n",
       "      <td>4.0</td>\n",
       "      <td>4.0</td>\n",
       "      <td>0.0</td>\n",
       "      <td>0.0</td>\n",
       "      <td>0.0</td>\n",
       "      <td>4.0</td>\n",
       "      <td>1</td>\n",
       "      <td>0.0</td>\n",
       "      <td>0.0</td>\n",
       "      <td>0.0</td>\n",
       "      <td>0.0</td>\n",
       "      <td>0.0</td>\n",
       "      <td>1.0</td>\n",
       "      <td>0.0</td>\n",
       "      <td>0.0</td>\n",
       "    </tr>\n",
       "    <tr>\n",
       "      <th>1</th>\n",
       "      <td>adria-airways</td>\n",
       "      <td>10.0</td>\n",
       "      <td>4.0</td>\n",
       "      <td>5.0</td>\n",
       "      <td>4.0</td>\n",
       "      <td>1.0</td>\n",
       "      <td>0.0</td>\n",
       "      <td>0.0</td>\n",
       "      <td>5.0</td>\n",
       "      <td>1</td>\n",
       "      <td>0.0</td>\n",
       "      <td>0.0</td>\n",
       "      <td>0.0</td>\n",
       "      <td>0.0</td>\n",
       "      <td>1.0</td>\n",
       "      <td>0.0</td>\n",
       "      <td>0.0</td>\n",
       "      <td>0.0</td>\n",
       "    </tr>\n",
       "    <tr>\n",
       "      <th>2</th>\n",
       "      <td>adria-airways</td>\n",
       "      <td>9.0</td>\n",
       "      <td>5.0</td>\n",
       "      <td>5.0</td>\n",
       "      <td>4.0</td>\n",
       "      <td>0.0</td>\n",
       "      <td>0.0</td>\n",
       "      <td>0.0</td>\n",
       "      <td>5.0</td>\n",
       "      <td>1</td>\n",
       "      <td>0.0</td>\n",
       "      <td>0.0</td>\n",
       "      <td>0.0</td>\n",
       "      <td>0.0</td>\n",
       "      <td>0.0</td>\n",
       "      <td>1.0</td>\n",
       "      <td>0.0</td>\n",
       "      <td>0.0</td>\n",
       "    </tr>\n",
       "    <tr>\n",
       "      <th>3</th>\n",
       "      <td>adria-airways</td>\n",
       "      <td>8.0</td>\n",
       "      <td>4.0</td>\n",
       "      <td>4.0</td>\n",
       "      <td>3.0</td>\n",
       "      <td>1.0</td>\n",
       "      <td>0.0</td>\n",
       "      <td>0.0</td>\n",
       "      <td>4.0</td>\n",
       "      <td>1</td>\n",
       "      <td>0.0</td>\n",
       "      <td>0.0</td>\n",
       "      <td>0.0</td>\n",
       "      <td>0.0</td>\n",
       "      <td>1.0</td>\n",
       "      <td>0.0</td>\n",
       "      <td>0.0</td>\n",
       "      <td>0.0</td>\n",
       "    </tr>\n",
       "    <tr>\n",
       "      <th>4</th>\n",
       "      <td>adria-airways</td>\n",
       "      <td>4.0</td>\n",
       "      <td>4.0</td>\n",
       "      <td>2.0</td>\n",
       "      <td>1.0</td>\n",
       "      <td>2.0</td>\n",
       "      <td>0.0</td>\n",
       "      <td>0.0</td>\n",
       "      <td>2.0</td>\n",
       "      <td>0</td>\n",
       "      <td>0.0</td>\n",
       "      <td>0.0</td>\n",
       "      <td>0.0</td>\n",
       "      <td>0.0</td>\n",
       "      <td>0.0</td>\n",
       "      <td>1.0</td>\n",
       "      <td>0.0</td>\n",
       "      <td>0.0</td>\n",
       "    </tr>\n",
       "  </tbody>\n",
       "</table>\n",
       "</div>"
      ],
      "text/plain": [
       "    airline_name  overall_rating  seat_comfort_rating  cabin_staff_rating  \\\n",
       "0  adria-airways             7.0                  4.0                 4.0   \n",
       "1  adria-airways            10.0                  4.0                 5.0   \n",
       "2  adria-airways             9.0                  5.0                 5.0   \n",
       "3  adria-airways             8.0                  4.0                 4.0   \n",
       "4  adria-airways             4.0                  4.0                 2.0   \n",
       "\n",
       "   food_beverages_rating  inflight_entertainment_rating  \\\n",
       "0                    4.0                            0.0   \n",
       "1                    4.0                            1.0   \n",
       "2                    4.0                            0.0   \n",
       "3                    3.0                            1.0   \n",
       "4                    1.0                            2.0   \n",
       "\n",
       "   ground_service_rating  wifi_connectivity_rating  value_money_rating  \\\n",
       "0                    0.0                       0.0                 4.0   \n",
       "1                    0.0                       0.0                 5.0   \n",
       "2                    0.0                       0.0                 5.0   \n",
       "3                    0.0                       0.0                 4.0   \n",
       "4                    0.0                       0.0                 2.0   \n",
       "\n",
       "   recommended  Business  Couple Leisure  FamilyLeisure  Solo Leisure  \\\n",
       "0            1       0.0             0.0            0.0           0.0   \n",
       "1            1       0.0             0.0            0.0           0.0   \n",
       "2            1       0.0             0.0            0.0           0.0   \n",
       "3            1       0.0             0.0            0.0           0.0   \n",
       "4            0       0.0             0.0            0.0           0.0   \n",
       "\n",
       "   Business Class  Economy  First Class  Premium Economy  \n",
       "0             0.0      1.0          0.0              0.0  \n",
       "1             1.0      0.0          0.0              0.0  \n",
       "2             0.0      1.0          0.0              0.0  \n",
       "3             1.0      0.0          0.0              0.0  \n",
       "4             0.0      1.0          0.0              0.0  "
      ]
     },
     "execution_count": 116,
     "metadata": {},
     "output_type": "execute_result"
    }
   ],
   "source": [
    "df_clean.head()"
   ]
  },
  {
   "cell_type": "code",
   "execution_count": 117,
   "metadata": {
    "collapsed": false
   },
   "outputs": [
    {
     "data": {
      "text/plain": [
       "(36861, 18)"
      ]
     },
     "execution_count": 117,
     "metadata": {},
     "output_type": "execute_result"
    }
   ],
   "source": [
    "df_clean.shape"
   ]
  },
  {
   "cell_type": "markdown",
   "metadata": {},
   "source": [
    "# Modelling"
   ]
  },
  {
   "cell_type": "markdown",
   "metadata": {},
   "source": [
    "#### Ridge regression"
   ]
  },
  {
   "cell_type": "code",
   "execution_count": 118,
   "metadata": {
    "collapsed": true
   },
   "outputs": [],
   "source": [
    "y=df_clean.overall_rating\n",
    "X=df_clean.drop(['overall_rating','airline_name'], axis=1)"
   ]
  },
  {
   "cell_type": "code",
   "execution_count": 120,
   "metadata": {
    "collapsed": false
   },
   "outputs": [],
   "source": [
    "from sklearn.model_selection import train_test_split\n",
    "Xlr, Xtestlr, ylr, ytestlr = train_test_split(X,y,random_state=1)"
   ]
  },
  {
   "cell_type": "code",
   "execution_count": 155,
   "metadata": {
    "collapsed": false
   },
   "outputs": [
    {
     "data": {
      "text/plain": [
       "(27645, 7)"
      ]
     },
     "execution_count": 155,
     "metadata": {},
     "output_type": "execute_result"
    }
   ],
   "source": [
    "from sklearn.feature_selection import SelectFromModel\n",
    "from sklearn.linear_model import RidgeCV\n",
    "ridge_model=RidgeCV(alphas=(0.1, 1.0, 10.0), cv=5).fit(Xlr,ylr)\n",
    "model=SelectFromModel(ridge_model, prefit=True)\n",
    "model_new=model.transform(Xlr)\n",
    "model_new.shape\n"
   ]
  },
  {
   "cell_type": "code",
   "execution_count": 152,
   "metadata": {
    "collapsed": false
   },
   "outputs": [
    {
     "name": "stdout",
     "output_type": "stream",
     "text": [
      "alpha= 0.1\n",
      "R^2 score:  0.797751283969\n"
     ]
    }
   ],
   "source": [
    "#RSS_ridge=sum((ridge_model.predict(Xlr)-ylr)**2)\n",
    "print('alpha=', ridge_model.alpha_)\n",
    "print('R^2 score: ',ridge_model.score(Xlr,ylr))"
   ]
  },
  {
   "cell_type": "code",
   "execution_count": 153,
   "metadata": {
    "collapsed": false
   },
   "outputs": [
    {
     "name": "stdout",
     "output_type": "stream",
     "text": [
      "R^2 on test set:  0.804197048726\n"
     ]
    }
   ],
   "source": [
    "RSS_ridge=sum((ridge_model.predict(Xtestlr)-ytestlr)**2)\n",
    "print('R^2 on test set: ',ridge_model.score(Xtestlr,ytestlr))"
   ]
  },
  {
   "cell_type": "markdown",
   "metadata": {},
   "source": [
    "#### Random forest"
   ]
  },
  {
   "cell_type": "code",
   "execution_count": 125,
   "metadata": {
    "collapsed": false
   },
   "outputs": [
    {
     "data": {
      "text/plain": [
       "RandomForestRegressor(bootstrap=True, criterion='mse', max_depth=None,\n",
       "           max_features=8, max_leaf_nodes=None, min_impurity_split=1e-07,\n",
       "           min_samples_leaf=1, min_samples_split=2,\n",
       "           min_weight_fraction_leaf=0.0, n_estimators=200, n_jobs=1,\n",
       "           oob_score=False, random_state=1, verbose=0, warm_start=False)"
      ]
     },
     "execution_count": 125,
     "metadata": {},
     "output_type": "execute_result"
    }
   ],
   "source": [
    "from sklearn.ensemble import RandomForestRegressor\n",
    "forest=RandomForestRegressor(n_estimators=200, random_state=1, max_features=8)\n",
    "forest.fit(Xlr,ylr)"
   ]
  },
  {
   "cell_type": "code",
   "execution_count": 132,
   "metadata": {
    "collapsed": false
   },
   "outputs": [
    {
     "name": "stdout",
     "output_type": "stream",
     "text": [
      "Feature ranking:\n",
      "1. feature 7 (0.522277)\n",
      "2. feature 6 (0.270990)\n",
      "3. feature 1 (0.086915)\n",
      "4. feature 0 (0.056448)\n",
      "5. feature 2 (0.027987)\n",
      "6. feature 3 (0.018815)\n",
      "7. feature 13 (0.003871)\n",
      "8. feature 12 (0.003211)\n",
      "9. feature 4 (0.002384)\n",
      "10. feature 14 (0.001614)\n",
      "11. feature 15 (0.001597)\n",
      "12. feature 11 (0.001142)\n",
      "13. feature 5 (0.000907)\n",
      "14. feature 10 (0.000624)\n",
      "15. feature 9 (0.000623)\n",
      "16. feature 8 (0.000596)\n"
     ]
    },
    {
     "data": {
      "image/png": "[encoded data removed]",
      "text/plain": [
       "<matplotlib.figure.Figure at 0x28bdc332470>"
      ]
     },
     "metadata": {},
     "output_type": "display_data"
    }
   ],
   "source": [
    "importances = forest.feature_importances_\n",
    "std = np.std([tree.feature_importances_ for tree in forest.estimators_],\n",
    "             axis=0)\n",
    "indices = np.argsort(importances)[::-1]\n",
    "\n",
    "# Print the feature ranking\n",
    "print(\"Feature ranking:\")\n",
    "\n",
    "for f in range(X.shape[1]):\n",
    "    print(\"%d. feature %d (%f)\" % (f + 1, indices[f], importances[indices[f]]))\n",
    "\n",
    "# Plot the feature importances of the forest\n",
    "plt.figure()\n",
    "plt.title(\"Feature importances\")\n",
    "plt.bar(range(X.shape[1]), importances[indices],\n",
    "       color=\"r\", yerr=std[indices], align=\"center\")\n",
    "plt.xticks(range(X.shape[1]), indices)\n",
    "plt.xlim([-1, X.shape[1]])\n",
    "plt.show()"
   ]
  },
  {
   "cell_type": "markdown",
   "metadata": {},
   "source": [
    "* So value-money rating and wifi connectivity are most important features that may affect overall rating"
   ]
  },
  {
   "cell_type": "code",
   "execution_count": 149,
   "metadata": {
    "collapsed": false
   },
   "outputs": [
    {
     "name": "stdout",
     "output_type": "stream",
     "text": [
      "R^2 on train set 0.844871735854\n"
     ]
    }
   ],
   "source": [
    "results = model_selection.cross_val_score(forest, Xlr, ylr, cv=5)\n",
    "print('R^2 on train set', results.mean())"
   ]
  },
  {
   "cell_type": "code",
   "execution_count": 137,
   "metadata": {
    "collapsed": false
   },
   "outputs": [
    {
     "name": "stdout",
     "output_type": "stream",
     "text": [
      "R^2 on test set: 0.851120141861\n"
     ]
    }
   ],
   "source": [
    "print('R^2 on test set:',forest.score(Xtestlr,ytestlr))"
   ]
  },
  {
   "cell_type": "code",
   "execution_count": null,
   "metadata": {
    "collapsed": true
   },
   "outputs": [],
   "source": []
  }
 ],
 "metadata": {
  "anaconda-cloud": {},
  "kernelspec": {
   "display_name": "Python [default]",
   "language": "python",
   "name": "python3"
  },
  "language_info": {
   "codemirror_mode": {
    "name": "ipython",
    "version": 3
   },
   "file_extension": ".py",
   "mimetype": "text/x-python",
   "name": "python",
   "nbconvert_exporter": "python",
   "pygments_lexer": "ipython3",
   "version": "3.5.2"
  }
 },
 "nbformat": 4,
 "nbformat_minor": 1
}
