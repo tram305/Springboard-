{
 "cells": [
  {
   "cell_type": "markdown",
   "metadata": {},
   "source": [
    "# HOW BOOSTING THE RATING OF A FEATURE WILL AFFECT OVERALL RATING OF AN AIRLINE\n",
    "\n",
    "In the service industry, keep high customer satisfaction is always among the top priority. Hence, for all airlines understanding how customers view their service through reviews are good metrics to measure the performance. Skytrax website has long been a great site for customers reviews of airlines, where it collects reviews and ratings for each airlines, lounges, seats and airports. However, there are a lot of feature ratings that an airline should consider to improve their general customer satisfaction, so it is highly important for airlines to put some priorities on which to focus and invest more effort in. \n",
    "In this project, my aim is to find the most important features that ailines should put higher weight of effort and a quantitative metrics on how to improve their ratings.\n",
    "\n",
    "### Data\n",
    "The data is scraped from airlinequality.com by quankiquanki: https://github.com/quankiquanki/skytrax-reviews-dataset. The airline dataset has a total sample of 42.396 observations with 20 columns containing information of ailines, the reviewers and their ratings for each features as well as comments on the airlines. The ratings for each feature range from 1 to 5, while overall rating is from 1 to 10. \n",
    "\n",
    "### Approach\n",
    "* First, I build a model that can predict well the overall rating based on each feature's rating. In order to do that, I conduct OLS Linear model, Ridge linear for parameter regularization and random forest. \n",
    "* Then, I select the best model among these methods and choose the important features for airlines.\n",
    "* Finally, using these features on the best models, I get the predicted rating for airlines and using this result for analyzing the possible improvement of overall rating on some feature ratings.\n",
    "\n",
    "### Result\n",
    "While OLS has the greatest fit in R^2, its mean squared error (MSE) is much higher than other two models. Random forest is the best performance on both train and test set with the lowest MSE of 1.87. The most important factors that may affect overall rating are value-money rating (46.6%), cabin staff (20.5%), seat comfort (14.5), food beverages (11%) and inflight entertainment (5.7%). \n",
    "\n",
    "### Further research\n",
    "* Conduct the same approach for a specific airline. \n",
    "* Do topic and sentiment analysis on the travellers' reviews for this airline to see which topics are most discussed, and alerts on negative reviews to take in-time action.\n"
   ]
  },
  {
   "cell_type": "code",
   "execution_count": 87,
   "metadata": {
    "collapsed": true
   },
   "outputs": [],
   "source": [
    "import numpy as np\n",
    "import pandas as pd\n",
    "import matplotlib.pyplot as plt\n",
    "import statsmodels.api as sm\n",
    "from statsmodels.formula.api import ols\n",
    "from sklearn.linear_model import LinearRegression\n",
    "from sklearn import model_selection"
   ]
  },
  {
   "cell_type": "code",
   "execution_count": 88,
   "metadata": {
    "collapsed": false
   },
   "outputs": [],
   "source": [
    "df=pd.read_csv('skytrax-reviews-dataset-master/data/airline.csv')"
   ]
  },
  {
   "cell_type": "code",
   "execution_count": 89,
   "metadata": {
    "collapsed": false
   },
   "outputs": [
    {
     "data": {
      "text/html": [
       "<div>\n",
       "<table border=\"1\" class=\"dataframe\">\n",
       "  <thead>\n",
       "    <tr style=\"text-align: right;\">\n",
       "      <th></th>\n",
       "      <th>airline_name</th>\n",
       "      <th>link</th>\n",
       "      <th>title</th>\n",
       "      <th>author</th>\n",
       "      <th>author_country</th>\n",
       "      <th>date</th>\n",
       "      <th>content</th>\n",
       "      <th>aircraft</th>\n",
       "      <th>type_traveller</th>\n",
       "      <th>cabin_flown</th>\n",
       "      <th>route</th>\n",
       "      <th>overall_rating</th>\n",
       "      <th>seat_comfort_rating</th>\n",
       "      <th>cabin_staff_rating</th>\n",
       "      <th>food_beverages_rating</th>\n",
       "      <th>inflight_entertainment_rating</th>\n",
       "      <th>ground_service_rating</th>\n",
       "      <th>wifi_connectivity_rating</th>\n",
       "      <th>value_money_rating</th>\n",
       "      <th>recommended</th>\n",
       "    </tr>\n",
       "  </thead>\n",
       "  <tbody>\n",
       "    <tr>\n",
       "      <th>0</th>\n",
       "      <td>adria-airways</td>\n",
       "      <td>/airline-reviews/adria-airways</td>\n",
       "      <td>Adria Airways customer review</td>\n",
       "      <td>D Ito</td>\n",
       "      <td>Germany</td>\n",
       "      <td>2015-04-10</td>\n",
       "      <td>Outbound flight FRA/PRN A319. 2 hours 10 min f...</td>\n",
       "      <td>NaN</td>\n",
       "      <td>NaN</td>\n",
       "      <td>Economy</td>\n",
       "      <td>NaN</td>\n",
       "      <td>7.0</td>\n",
       "      <td>4.0</td>\n",
       "      <td>4.0</td>\n",
       "      <td>4.0</td>\n",
       "      <td>0.0</td>\n",
       "      <td>NaN</td>\n",
       "      <td>NaN</td>\n",
       "      <td>4.0</td>\n",
       "      <td>1</td>\n",
       "    </tr>\n",
       "    <tr>\n",
       "      <th>1</th>\n",
       "      <td>adria-airways</td>\n",
       "      <td>/airline-reviews/adria-airways</td>\n",
       "      <td>Adria Airways customer review</td>\n",
       "      <td>Ron Kuhlmann</td>\n",
       "      <td>United States</td>\n",
       "      <td>2015-01-05</td>\n",
       "      <td>Two short hops ZRH-LJU and LJU-VIE. Very fast ...</td>\n",
       "      <td>NaN</td>\n",
       "      <td>NaN</td>\n",
       "      <td>Business Class</td>\n",
       "      <td>NaN</td>\n",
       "      <td>10.0</td>\n",
       "      <td>4.0</td>\n",
       "      <td>5.0</td>\n",
       "      <td>4.0</td>\n",
       "      <td>1.0</td>\n",
       "      <td>NaN</td>\n",
       "      <td>NaN</td>\n",
       "      <td>5.0</td>\n",
       "      <td>1</td>\n",
       "    </tr>\n",
       "  </tbody>\n",
       "</table>\n",
       "</div>"
      ],
      "text/plain": [
       "    airline_name                            link  \\\n",
       "0  adria-airways  /airline-reviews/adria-airways   \n",
       "1  adria-airways  /airline-reviews/adria-airways   \n",
       "\n",
       "                           title        author author_country        date  \\\n",
       "0  Adria Airways customer review         D Ito        Germany  2015-04-10   \n",
       "1  Adria Airways customer review  Ron Kuhlmann  United States  2015-01-05   \n",
       "\n",
       "                                             content aircraft type_traveller  \\\n",
       "0  Outbound flight FRA/PRN A319. 2 hours 10 min f...      NaN            NaN   \n",
       "1  Two short hops ZRH-LJU and LJU-VIE. Very fast ...      NaN            NaN   \n",
       "\n",
       "      cabin_flown route  overall_rating  seat_comfort_rating  \\\n",
       "0         Economy   NaN             7.0                  4.0   \n",
       "1  Business Class   NaN            10.0                  4.0   \n",
       "\n",
       "   cabin_staff_rating  food_beverages_rating  inflight_entertainment_rating  \\\n",
       "0                 4.0                    4.0                            0.0   \n",
       "1                 5.0                    4.0                            1.0   \n",
       "\n",
       "   ground_service_rating  wifi_connectivity_rating  value_money_rating  \\\n",
       "0                    NaN                       NaN                 4.0   \n",
       "1                    NaN                       NaN                 5.0   \n",
       "\n",
       "   recommended  \n",
       "0            1  \n",
       "1            1  "
      ]
     },
     "execution_count": 89,
     "metadata": {},
     "output_type": "execute_result"
    }
   ],
   "source": [
    "df.head(2)"
   ]
  },
  {
   "cell_type": "markdown",
   "metadata": {},
   "source": [
    "## Data exploration"
   ]
  },
  {
   "cell_type": "code",
   "execution_count": 90,
   "metadata": {
    "collapsed": false,
    "scrolled": false
   },
   "outputs": [
    {
     "name": "stderr",
     "output_type": "stream",
     "text": [
      "C:\\Users\\Bao Tram\\AppData\\Local\\Continuum\\Anaconda3\\lib\\site-packages\\numpy\\lib\\function_base.py:3834: RuntimeWarning: Invalid value encountered in percentile\n",
      "  RuntimeWarning)\n"
     ]
    },
    {
     "data": {
      "text/html": [
       "<div>\n",
       "<table border=\"1\" class=\"dataframe\">\n",
       "  <thead>\n",
       "    <tr style=\"text-align: right;\">\n",
       "      <th></th>\n",
       "      <th>overall_rating</th>\n",
       "      <th>seat_comfort_rating</th>\n",
       "      <th>cabin_staff_rating</th>\n",
       "      <th>food_beverages_rating</th>\n",
       "      <th>inflight_entertainment_rating</th>\n",
       "      <th>ground_service_rating</th>\n",
       "      <th>wifi_connectivity_rating</th>\n",
       "      <th>value_money_rating</th>\n",
       "      <th>recommended</th>\n",
       "    </tr>\n",
       "  </thead>\n",
       "  <tbody>\n",
       "    <tr>\n",
       "      <th>count</th>\n",
       "      <td>36861.000000</td>\n",
       "      <td>33706.000000</td>\n",
       "      <td>33708.000000</td>\n",
       "      <td>33264.000000</td>\n",
       "      <td>31114.000000</td>\n",
       "      <td>2203.000000</td>\n",
       "      <td>565.000000</td>\n",
       "      <td>39723.000000</td>\n",
       "      <td>41396.000000</td>\n",
       "    </tr>\n",
       "    <tr>\n",
       "      <th>mean</th>\n",
       "      <td>6.039527</td>\n",
       "      <td>3.094612</td>\n",
       "      <td>3.319212</td>\n",
       "      <td>2.805886</td>\n",
       "      <td>2.392364</td>\n",
       "      <td>2.736723</td>\n",
       "      <td>2.249558</td>\n",
       "      <td>3.164111</td>\n",
       "      <td>0.533820</td>\n",
       "    </tr>\n",
       "    <tr>\n",
       "      <th>std</th>\n",
       "      <td>3.214680</td>\n",
       "      <td>1.405515</td>\n",
       "      <td>1.541307</td>\n",
       "      <td>1.580246</td>\n",
       "      <td>1.704753</td>\n",
       "      <td>1.569073</td>\n",
       "      <td>1.541283</td>\n",
       "      <td>1.523486</td>\n",
       "      <td>0.498861</td>\n",
       "    </tr>\n",
       "    <tr>\n",
       "      <th>min</th>\n",
       "      <td>1.000000</td>\n",
       "      <td>0.000000</td>\n",
       "      <td>0.000000</td>\n",
       "      <td>0.000000</td>\n",
       "      <td>0.000000</td>\n",
       "      <td>1.000000</td>\n",
       "      <td>1.000000</td>\n",
       "      <td>0.000000</td>\n",
       "      <td>0.000000</td>\n",
       "    </tr>\n",
       "    <tr>\n",
       "      <th>25%</th>\n",
       "      <td>NaN</td>\n",
       "      <td>NaN</td>\n",
       "      <td>NaN</td>\n",
       "      <td>NaN</td>\n",
       "      <td>NaN</td>\n",
       "      <td>NaN</td>\n",
       "      <td>NaN</td>\n",
       "      <td>NaN</td>\n",
       "      <td>0.000000</td>\n",
       "    </tr>\n",
       "    <tr>\n",
       "      <th>50%</th>\n",
       "      <td>NaN</td>\n",
       "      <td>NaN</td>\n",
       "      <td>NaN</td>\n",
       "      <td>NaN</td>\n",
       "      <td>NaN</td>\n",
       "      <td>NaN</td>\n",
       "      <td>NaN</td>\n",
       "      <td>NaN</td>\n",
       "      <td>1.000000</td>\n",
       "    </tr>\n",
       "    <tr>\n",
       "      <th>75%</th>\n",
       "      <td>NaN</td>\n",
       "      <td>NaN</td>\n",
       "      <td>NaN</td>\n",
       "      <td>NaN</td>\n",
       "      <td>NaN</td>\n",
       "      <td>NaN</td>\n",
       "      <td>NaN</td>\n",
       "      <td>NaN</td>\n",
       "      <td>1.000000</td>\n",
       "    </tr>\n",
       "    <tr>\n",
       "      <th>max</th>\n",
       "      <td>10.000000</td>\n",
       "      <td>5.000000</td>\n",
       "      <td>5.000000</td>\n",
       "      <td>5.000000</td>\n",
       "      <td>5.000000</td>\n",
       "      <td>5.000000</td>\n",
       "      <td>5.000000</td>\n",
       "      <td>5.000000</td>\n",
       "      <td>1.000000</td>\n",
       "    </tr>\n",
       "  </tbody>\n",
       "</table>\n",
       "</div>"
      ],
      "text/plain": [
       "       overall_rating  seat_comfort_rating  cabin_staff_rating  \\\n",
       "count    36861.000000         33706.000000        33708.000000   \n",
       "mean         6.039527             3.094612            3.319212   \n",
       "std          3.214680             1.405515            1.541307   \n",
       "min          1.000000             0.000000            0.000000   \n",
       "25%               NaN                  NaN                 NaN   \n",
       "50%               NaN                  NaN                 NaN   \n",
       "75%               NaN                  NaN                 NaN   \n",
       "max         10.000000             5.000000            5.000000   \n",
       "\n",
       "       food_beverages_rating  inflight_entertainment_rating  \\\n",
       "count           33264.000000                   31114.000000   \n",
       "mean                2.805886                       2.392364   \n",
       "std                 1.580246                       1.704753   \n",
       "min                 0.000000                       0.000000   \n",
       "25%                      NaN                            NaN   \n",
       "50%                      NaN                            NaN   \n",
       "75%                      NaN                            NaN   \n",
       "max                 5.000000                       5.000000   \n",
       "\n",
       "       ground_service_rating  wifi_connectivity_rating  value_money_rating  \\\n",
       "count            2203.000000                565.000000        39723.000000   \n",
       "mean                2.736723                  2.249558            3.164111   \n",
       "std                 1.569073                  1.541283            1.523486   \n",
       "min                 1.000000                  1.000000            0.000000   \n",
       "25%                      NaN                       NaN                 NaN   \n",
       "50%                      NaN                       NaN                 NaN   \n",
       "75%                      NaN                       NaN                 NaN   \n",
       "max                 5.000000                  5.000000            5.000000   \n",
       "\n",
       "        recommended  \n",
       "count  41396.000000  \n",
       "mean       0.533820  \n",
       "std        0.498861  \n",
       "min        0.000000  \n",
       "25%        0.000000  \n",
       "50%        1.000000  \n",
       "75%        1.000000  \n",
       "max        1.000000  "
      ]
     },
     "execution_count": 90,
     "metadata": {},
     "output_type": "execute_result"
    }
   ],
   "source": [
    "df.describe()"
   ]
  },
  {
   "cell_type": "code",
   "execution_count": 91,
   "metadata": {
    "collapsed": false
   },
   "outputs": [
    {
     "name": "stdout",
     "output_type": "stream",
     "text": [
      "<class 'pandas.core.frame.DataFrame'>\n",
      "RangeIndex: 41396 entries, 0 to 41395\n",
      "Data columns (total 20 columns):\n",
      "airline_name                     41396 non-null object\n",
      "link                             41396 non-null object\n",
      "title                            41396 non-null object\n",
      "author                           41396 non-null object\n",
      "author_country                   39805 non-null object\n",
      "date                             41396 non-null object\n",
      "content                          41396 non-null object\n",
      "aircraft                         1278 non-null object\n",
      "type_traveller                   2378 non-null object\n",
      "cabin_flown                      38520 non-null object\n",
      "route                            2341 non-null object\n",
      "overall_rating                   36861 non-null float64\n",
      "seat_comfort_rating              33706 non-null float64\n",
      "cabin_staff_rating               33708 non-null float64\n",
      "food_beverages_rating            33264 non-null float64\n",
      "inflight_entertainment_rating    31114 non-null float64\n",
      "ground_service_rating            2203 non-null float64\n",
      "wifi_connectivity_rating         565 non-null float64\n",
      "value_money_rating               39723 non-null float64\n",
      "recommended                      41396 non-null int64\n",
      "dtypes: float64(8), int64(1), object(11)\n",
      "memory usage: 6.3+ MB\n"
     ]
    }
   ],
   "source": [
    "df.info()"
   ]
  },
  {
   "cell_type": "markdown",
   "metadata": {},
   "source": [
    "* From this descriptive table, we see that we only have problem with missing values, but there is no outliers. Note that for some features, we see the min of rating is 0, which is invalid (from 1 to 5) so those are also missing values. \n",
    "* It is noticeable that data for overall rating, recommended and value_money rating are nearly full while rating data for ground service and wifi connectivity are mostly missing.However, we should not assume that it is becaus travellers tend to pay more attention to these rating when they score and leave out other ratings or because some airlines simply don't provide these amenities in some routes. Hence, I think it's more logical to replace those missing values by 0 than by imputed values(mean, median). \n",
    "* The data points with missing values for overall rating will be deleted as it is our main concern. "
   ]
  },
  {
   "cell_type": "markdown",
   "metadata": {},
   "source": [
    "* we will need to change some categorical features above into category type. Date into date type, but we may not need it in this model"
   ]
  },
  {
   "cell_type": "code",
   "execution_count": 92,
   "metadata": {
    "collapsed": false
   },
   "outputs": [
    {
     "data": {
      "text/plain": [
       "type_traveller\n",
       "Business          362\n",
       "Couple Leisure    601\n",
       "FamilyLeisure     611\n",
       "Solo Leisure      804\n",
       "dtype: int64"
      ]
     },
     "execution_count": 92,
     "metadata": {},
     "output_type": "execute_result"
    }
   ],
   "source": [
    "df.groupby('type_traveller').size()"
   ]
  },
  {
   "cell_type": "markdown",
   "metadata": {},
   "source": [
    "* This shows that we have lots of missing data for type of travellers"
   ]
  },
  {
   "cell_type": "code",
   "execution_count": 93,
   "metadata": {
    "collapsed": false
   },
   "outputs": [
    {
     "data": {
      "text/plain": [
       "cabin_flown\n",
       "Business Class      6347\n",
       "Economy            29784\n",
       "First Class          879\n",
       "Premium Economy     1510\n",
       "dtype: int64"
      ]
     },
     "execution_count": 93,
     "metadata": {},
     "output_type": "execute_result"
    }
   ],
   "source": [
    "df.groupby('cabin_flown').size()"
   ]
  },
  {
   "cell_type": "markdown",
   "metadata": {},
   "source": [
    "* Those missing points in this case are not many, so we just replace with 0 for missing values"
   ]
  },
  {
   "cell_type": "code",
   "execution_count": 94,
   "metadata": {
    "collapsed": false
   },
   "outputs": [
    {
     "data": {
      "text/plain": [
       "362"
      ]
     },
     "execution_count": 94,
     "metadata": {},
     "output_type": "execute_result"
    }
   ],
   "source": [
    "len(df['airline_name'].unique()) #how many airlines operate"
   ]
  },
  {
   "cell_type": "code",
   "execution_count": 95,
   "metadata": {
    "collapsed": false
   },
   "outputs": [
    {
     "data": {
      "text/plain": [
       "159"
      ]
     },
     "execution_count": 95,
     "metadata": {},
     "output_type": "execute_result"
    }
   ],
   "source": [
    "len(df['author_country'].unique()) #to see whether the reviews come from just some countries"
   ]
  },
  {
   "cell_type": "code",
   "execution_count": 96,
   "metadata": {
    "collapsed": false
   },
   "outputs": [
    {
     "data": {
      "text/plain": [
       "364"
      ]
     },
     "execution_count": 96,
     "metadata": {},
     "output_type": "execute_result"
    }
   ],
   "source": [
    "len(df['aircraft'].unique()) #how many types of aircraft"
   ]
  },
  {
   "cell_type": "code",
   "execution_count": 97,
   "metadata": {
    "collapsed": false
   },
   "outputs": [
    {
     "data": {
      "text/plain": [
       "2209"
      ]
     },
     "execution_count": 97,
     "metadata": {},
     "output_type": "execute_result"
    }
   ],
   "source": [
    "len(df['route'].unique()) #how many routes"
   ]
  },
  {
   "cell_type": "code",
   "execution_count": 98,
   "metadata": {
    "collapsed": false
   },
   "outputs": [
    {
     "data": {
      "image/png": "[encoded data removed]",
      "text/plain": [
       "<matplotlib.figure.Figure at 0x1b126bb8be0>"
      ]
     },
     "metadata": {},
     "output_type": "display_data"
    }
   ],
   "source": [
    "df.plot.box()\n",
    "plt.xticks(rotation='vertical')\n",
    "plt.title('Boxplots for overall and each feature ratings')\n",
    "plt.show()"
   ]
  },
  {
   "cell_type": "markdown",
   "metadata": {},
   "source": [
    "* the boxplot may not be useful yet because of many missing values and denoted as 0 in our data"
   ]
  },
  {
   "cell_type": "markdown",
   "metadata": {},
   "source": [
    "## Data wrangling"
   ]
  },
  {
   "cell_type": "markdown",
   "metadata": {},
   "source": [
    "In the data cleaning step, I do the following:\n",
    "* Only choose data since 2010\n",
    "* Drop data without overall rating\n",
    "* Drop information that is not needed for feature selection purpose: link, title, author, author country, date, content, aircraft type, route\n",
    "* Encode missing values as 0\n",
    "* Get dummies for traveller type and cabin flown "
   ]
  },
  {
   "cell_type": "code",
   "execution_count": 99,
   "metadata": {
    "collapsed": false
   },
   "outputs": [
    {
     "data": {
      "text/plain": [
       "(39539, 20)"
      ]
     },
     "execution_count": 99,
     "metadata": {},
     "output_type": "execute_result"
    }
   ],
   "source": [
    "df.date=pd.to_datetime(df.date) #change date object into datetime format\n",
    "df=df[df.date>='2010-01-01'] #choose recent dates only\n",
    "df.shape"
   ]
  },
  {
   "cell_type": "code",
   "execution_count": 100,
   "metadata": {
    "collapsed": false
   },
   "outputs": [],
   "source": [
    "#drop data points without overall rating\n",
    "df_clean=df[df['overall_rating'].notnull()]"
   ]
  },
  {
   "cell_type": "code",
   "execution_count": 101,
   "metadata": {
    "collapsed": false
   },
   "outputs": [
    {
     "name": "stderr",
     "output_type": "stream",
     "text": [
      "C:\\Users\\Bao Tram\\AppData\\Local\\Continuum\\Anaconda3\\lib\\site-packages\\ipykernel\\__main__.py:2: SettingWithCopyWarning: \n",
      "A value is trying to be set on a copy of a slice from a DataFrame\n",
      "\n",
      "See the caveats in the documentation: http://pandas.pydata.org/pandas-docs/stable/indexing.html#indexing-view-versus-copy\n",
      "  from ipykernel import kernelapp as app\n"
     ]
    }
   ],
   "source": [
    "#'link','title','author','author_country','date','content','aircraft','route'\n",
    "df_clean.drop(['airline_name','link','title','author','author_country','date','content','aircraft','route'],axis=1, inplace=True)\n"
   ]
  },
  {
   "cell_type": "code",
   "execution_count": 102,
   "metadata": {
    "collapsed": false
   },
   "outputs": [
    {
     "data": {
      "text/html": [
       "<div>\n",
       "<table border=\"1\" class=\"dataframe\">\n",
       "  <thead>\n",
       "    <tr style=\"text-align: right;\">\n",
       "      <th></th>\n",
       "      <th>type_traveller</th>\n",
       "      <th>cabin_flown</th>\n",
       "      <th>overall_rating</th>\n",
       "      <th>seat_comfort_rating</th>\n",
       "      <th>cabin_staff_rating</th>\n",
       "      <th>food_beverages_rating</th>\n",
       "      <th>inflight_entertainment_rating</th>\n",
       "      <th>ground_service_rating</th>\n",
       "      <th>wifi_connectivity_rating</th>\n",
       "      <th>value_money_rating</th>\n",
       "      <th>recommended</th>\n",
       "    </tr>\n",
       "  </thead>\n",
       "  <tbody>\n",
       "    <tr>\n",
       "      <th>0</th>\n",
       "      <td>NaN</td>\n",
       "      <td>Economy</td>\n",
       "      <td>7.0</td>\n",
       "      <td>4.0</td>\n",
       "      <td>4.0</td>\n",
       "      <td>4.0</td>\n",
       "      <td>0.0</td>\n",
       "      <td>NaN</td>\n",
       "      <td>NaN</td>\n",
       "      <td>4.0</td>\n",
       "      <td>1</td>\n",
       "    </tr>\n",
       "    <tr>\n",
       "      <th>1</th>\n",
       "      <td>NaN</td>\n",
       "      <td>Business Class</td>\n",
       "      <td>10.0</td>\n",
       "      <td>4.0</td>\n",
       "      <td>5.0</td>\n",
       "      <td>4.0</td>\n",
       "      <td>1.0</td>\n",
       "      <td>NaN</td>\n",
       "      <td>NaN</td>\n",
       "      <td>5.0</td>\n",
       "      <td>1</td>\n",
       "    </tr>\n",
       "    <tr>\n",
       "      <th>2</th>\n",
       "      <td>NaN</td>\n",
       "      <td>Economy</td>\n",
       "      <td>9.0</td>\n",
       "      <td>5.0</td>\n",
       "      <td>5.0</td>\n",
       "      <td>4.0</td>\n",
       "      <td>0.0</td>\n",
       "      <td>NaN</td>\n",
       "      <td>NaN</td>\n",
       "      <td>5.0</td>\n",
       "      <td>1</td>\n",
       "    </tr>\n",
       "    <tr>\n",
       "      <th>3</th>\n",
       "      <td>NaN</td>\n",
       "      <td>Business Class</td>\n",
       "      <td>8.0</td>\n",
       "      <td>4.0</td>\n",
       "      <td>4.0</td>\n",
       "      <td>3.0</td>\n",
       "      <td>1.0</td>\n",
       "      <td>NaN</td>\n",
       "      <td>NaN</td>\n",
       "      <td>4.0</td>\n",
       "      <td>1</td>\n",
       "    </tr>\n",
       "    <tr>\n",
       "      <th>4</th>\n",
       "      <td>NaN</td>\n",
       "      <td>Economy</td>\n",
       "      <td>4.0</td>\n",
       "      <td>4.0</td>\n",
       "      <td>2.0</td>\n",
       "      <td>1.0</td>\n",
       "      <td>2.0</td>\n",
       "      <td>NaN</td>\n",
       "      <td>NaN</td>\n",
       "      <td>2.0</td>\n",
       "      <td>0</td>\n",
       "    </tr>\n",
       "  </tbody>\n",
       "</table>\n",
       "</div>"
      ],
      "text/plain": [
       "  type_traveller     cabin_flown  overall_rating  seat_comfort_rating  \\\n",
       "0            NaN         Economy             7.0                  4.0   \n",
       "1            NaN  Business Class            10.0                  4.0   \n",
       "2            NaN         Economy             9.0                  5.0   \n",
       "3            NaN  Business Class             8.0                  4.0   \n",
       "4            NaN         Economy             4.0                  4.0   \n",
       "\n",
       "   cabin_staff_rating  food_beverages_rating  inflight_entertainment_rating  \\\n",
       "0                 4.0                    4.0                            0.0   \n",
       "1                 5.0                    4.0                            1.0   \n",
       "2                 5.0                    4.0                            0.0   \n",
       "3                 4.0                    3.0                            1.0   \n",
       "4                 2.0                    1.0                            2.0   \n",
       "\n",
       "   ground_service_rating  wifi_connectivity_rating  value_money_rating  \\\n",
       "0                    NaN                       NaN                 4.0   \n",
       "1                    NaN                       NaN                 5.0   \n",
       "2                    NaN                       NaN                 5.0   \n",
       "3                    NaN                       NaN                 4.0   \n",
       "4                    NaN                       NaN                 2.0   \n",
       "\n",
       "   recommended  \n",
       "0            1  \n",
       "1            1  \n",
       "2            1  \n",
       "3            1  \n",
       "4            0  "
      ]
     },
     "execution_count": 102,
     "metadata": {},
     "output_type": "execute_result"
    }
   ],
   "source": [
    "df_clean.head()"
   ]
  },
  {
   "cell_type": "code",
   "execution_count": 103,
   "metadata": {
    "collapsed": false,
    "scrolled": true
   },
   "outputs": [
    {
     "name": "stderr",
     "output_type": "stream",
     "text": [
      "C:\\Users\\Bao Tram\\AppData\\Local\\Continuum\\Anaconda3\\lib\\site-packages\\pandas\\core\\generic.py:3191: SettingWithCopyWarning: \n",
      "A value is trying to be set on a copy of a slice from a DataFrame\n",
      "\n",
      "See the caveats in the documentation: http://pandas.pydata.org/pandas-docs/stable/indexing.html#indexing-view-versus-copy\n",
      "  self._update_inplace(new_data)\n"
     ]
    }
   ],
   "source": [
    "#deal with missing values\n",
    "df_clean=df_clean.fillna({'ground_service_rating':0, 'wifi_connectivity_rating':0,'seat_comfort_rating':0,'cabin_staff_rating':0,'food_beverages_rating':0,'inflight_entertainment_rating':0, 'value_money_rating':0}, inplace=True)\n"
   ]
  },
  {
   "cell_type": "code",
   "execution_count": 104,
   "metadata": {
    "collapsed": false
   },
   "outputs": [],
   "source": [
    "#replace missing value of categorical variables with their mode\n",
    "#df_clean=df_clean.fillna(df_clean.mode().iloc[0])\n"
   ]
  },
  {
   "cell_type": "code",
   "execution_count": 105,
   "metadata": {
    "collapsed": false
   },
   "outputs": [],
   "source": [
    "#change types cabin flown and traveler types into category type\n",
    "df_cabin_flown= pd.get_dummies(df_clean['cabin_flown'])\n",
    "df_clean=pd.concat([df_clean, df_cabin_flown], axis=1)\n",
    "df_clean.drop(['cabin_flown'], axis=1, inplace=True)\n",
    "\n",
    "df_type_traveller= pd.get_dummies(df_clean['type_traveller'])\n",
    "df_clean=pd.concat([df_clean, df_type_traveller], axis=1)\n",
    "df_clean.drop(['type_traveller'], axis=1, inplace=True)"
   ]
  },
  {
   "cell_type": "code",
   "execution_count": 106,
   "metadata": {
    "collapsed": false
   },
   "outputs": [
    {
     "data": {
      "text/plain": [
       "False"
      ]
     },
     "execution_count": 106,
     "metadata": {},
     "output_type": "execute_result"
    }
   ],
   "source": [
    "df_clean.isnull().values.any() #check if there are any missing values in dataframe"
   ]
  },
  {
   "cell_type": "code",
   "execution_count": 107,
   "metadata": {
    "collapsed": false
   },
   "outputs": [
    {
     "data": {
      "text/html": [
       "<div>\n",
       "<table border=\"1\" class=\"dataframe\">\n",
       "  <thead>\n",
       "    <tr style=\"text-align: right;\">\n",
       "      <th></th>\n",
       "      <th>overall_rating</th>\n",
       "      <th>seat_comfort_rating</th>\n",
       "      <th>cabin_staff_rating</th>\n",
       "      <th>food_beverages_rating</th>\n",
       "      <th>inflight_entertainment_rating</th>\n",
       "      <th>ground_service_rating</th>\n",
       "      <th>wifi_connectivity_rating</th>\n",
       "      <th>value_money_rating</th>\n",
       "      <th>recommended</th>\n",
       "      <th>Business Class</th>\n",
       "      <th>Economy</th>\n",
       "      <th>First Class</th>\n",
       "      <th>Premium Economy</th>\n",
       "      <th>Business</th>\n",
       "      <th>Couple Leisure</th>\n",
       "      <th>FamilyLeisure</th>\n",
       "      <th>Solo Leisure</th>\n",
       "    </tr>\n",
       "  </thead>\n",
       "  <tbody>\n",
       "    <tr>\n",
       "      <th>0</th>\n",
       "      <td>7.0</td>\n",
       "      <td>4.0</td>\n",
       "      <td>4.0</td>\n",
       "      <td>4.0</td>\n",
       "      <td>0.0</td>\n",
       "      <td>0.0</td>\n",
       "      <td>0.0</td>\n",
       "      <td>4.0</td>\n",
       "      <td>1</td>\n",
       "      <td>0.0</td>\n",
       "      <td>1.0</td>\n",
       "      <td>0.0</td>\n",
       "      <td>0.0</td>\n",
       "      <td>0.0</td>\n",
       "      <td>0.0</td>\n",
       "      <td>0.0</td>\n",
       "      <td>0.0</td>\n",
       "    </tr>\n",
       "    <tr>\n",
       "      <th>1</th>\n",
       "      <td>10.0</td>\n",
       "      <td>4.0</td>\n",
       "      <td>5.0</td>\n",
       "      <td>4.0</td>\n",
       "      <td>1.0</td>\n",
       "      <td>0.0</td>\n",
       "      <td>0.0</td>\n",
       "      <td>5.0</td>\n",
       "      <td>1</td>\n",
       "      <td>1.0</td>\n",
       "      <td>0.0</td>\n",
       "      <td>0.0</td>\n",
       "      <td>0.0</td>\n",
       "      <td>0.0</td>\n",
       "      <td>0.0</td>\n",
       "      <td>0.0</td>\n",
       "      <td>0.0</td>\n",
       "    </tr>\n",
       "    <tr>\n",
       "      <th>2</th>\n",
       "      <td>9.0</td>\n",
       "      <td>5.0</td>\n",
       "      <td>5.0</td>\n",
       "      <td>4.0</td>\n",
       "      <td>0.0</td>\n",
       "      <td>0.0</td>\n",
       "      <td>0.0</td>\n",
       "      <td>5.0</td>\n",
       "      <td>1</td>\n",
       "      <td>0.0</td>\n",
       "      <td>1.0</td>\n",
       "      <td>0.0</td>\n",
       "      <td>0.0</td>\n",
       "      <td>0.0</td>\n",
       "      <td>0.0</td>\n",
       "      <td>0.0</td>\n",
       "      <td>0.0</td>\n",
       "    </tr>\n",
       "    <tr>\n",
       "      <th>3</th>\n",
       "      <td>8.0</td>\n",
       "      <td>4.0</td>\n",
       "      <td>4.0</td>\n",
       "      <td>3.0</td>\n",
       "      <td>1.0</td>\n",
       "      <td>0.0</td>\n",
       "      <td>0.0</td>\n",
       "      <td>4.0</td>\n",
       "      <td>1</td>\n",
       "      <td>1.0</td>\n",
       "      <td>0.0</td>\n",
       "      <td>0.0</td>\n",
       "      <td>0.0</td>\n",
       "      <td>0.0</td>\n",
       "      <td>0.0</td>\n",
       "      <td>0.0</td>\n",
       "      <td>0.0</td>\n",
       "    </tr>\n",
       "    <tr>\n",
       "      <th>4</th>\n",
       "      <td>4.0</td>\n",
       "      <td>4.0</td>\n",
       "      <td>2.0</td>\n",
       "      <td>1.0</td>\n",
       "      <td>2.0</td>\n",
       "      <td>0.0</td>\n",
       "      <td>0.0</td>\n",
       "      <td>2.0</td>\n",
       "      <td>0</td>\n",
       "      <td>0.0</td>\n",
       "      <td>1.0</td>\n",
       "      <td>0.0</td>\n",
       "      <td>0.0</td>\n",
       "      <td>0.0</td>\n",
       "      <td>0.0</td>\n",
       "      <td>0.0</td>\n",
       "      <td>0.0</td>\n",
       "    </tr>\n",
       "  </tbody>\n",
       "</table>\n",
       "</div>"
      ],
      "text/plain": [
       "   overall_rating  seat_comfort_rating  cabin_staff_rating  \\\n",
       "0             7.0                  4.0                 4.0   \n",
       "1            10.0                  4.0                 5.0   \n",
       "2             9.0                  5.0                 5.0   \n",
       "3             8.0                  4.0                 4.0   \n",
       "4             4.0                  4.0                 2.0   \n",
       "\n",
       "   food_beverages_rating  inflight_entertainment_rating  \\\n",
       "0                    4.0                            0.0   \n",
       "1                    4.0                            1.0   \n",
       "2                    4.0                            0.0   \n",
       "3                    3.0                            1.0   \n",
       "4                    1.0                            2.0   \n",
       "\n",
       "   ground_service_rating  wifi_connectivity_rating  value_money_rating  \\\n",
       "0                    0.0                       0.0                 4.0   \n",
       "1                    0.0                       0.0                 5.0   \n",
       "2                    0.0                       0.0                 5.0   \n",
       "3                    0.0                       0.0                 4.0   \n",
       "4                    0.0                       0.0                 2.0   \n",
       "\n",
       "   recommended  Business Class  Economy  First Class  Premium Economy  \\\n",
       "0            1             0.0      1.0          0.0              0.0   \n",
       "1            1             1.0      0.0          0.0              0.0   \n",
       "2            1             0.0      1.0          0.0              0.0   \n",
       "3            1             1.0      0.0          0.0              0.0   \n",
       "4            0             0.0      1.0          0.0              0.0   \n",
       "\n",
       "   Business  Couple Leisure  FamilyLeisure  Solo Leisure  \n",
       "0       0.0             0.0            0.0           0.0  \n",
       "1       0.0             0.0            0.0           0.0  \n",
       "2       0.0             0.0            0.0           0.0  \n",
       "3       0.0             0.0            0.0           0.0  \n",
       "4       0.0             0.0            0.0           0.0  "
      ]
     },
     "execution_count": 107,
     "metadata": {},
     "output_type": "execute_result"
    }
   ],
   "source": [
    "df_clean.head()"
   ]
  },
  {
   "cell_type": "code",
   "execution_count": 108,
   "metadata": {
    "collapsed": false
   },
   "outputs": [
    {
     "data": {
      "text/plain": [
       "(35799, 17)"
      ]
     },
     "execution_count": 108,
     "metadata": {},
     "output_type": "execute_result"
    }
   ],
   "source": [
    "df_clean.shape"
   ]
  },
  {
   "cell_type": "code",
   "execution_count": 109,
   "metadata": {
    "collapsed": false
   },
   "outputs": [
    {
     "data": {
      "text/html": [
       "<div>\n",
       "<table border=\"1\" class=\"dataframe\">\n",
       "  <thead>\n",
       "    <tr style=\"text-align: right;\">\n",
       "      <th></th>\n",
       "      <th>overall_rating</th>\n",
       "      <th>seat_comfort_rating</th>\n",
       "      <th>cabin_staff_rating</th>\n",
       "      <th>food_beverages_rating</th>\n",
       "      <th>inflight_entertainment_rating</th>\n",
       "      <th>ground_service_rating</th>\n",
       "      <th>wifi_connectivity_rating</th>\n",
       "      <th>value_money_rating</th>\n",
       "      <th>recommended</th>\n",
       "      <th>Business Class</th>\n",
       "      <th>Economy</th>\n",
       "      <th>First Class</th>\n",
       "      <th>Premium Economy</th>\n",
       "      <th>Business</th>\n",
       "      <th>Couple Leisure</th>\n",
       "      <th>FamilyLeisure</th>\n",
       "      <th>Solo Leisure</th>\n",
       "    </tr>\n",
       "  </thead>\n",
       "  <tbody>\n",
       "    <tr>\n",
       "      <th>overall_rating</th>\n",
       "      <td>1.000000</td>\n",
       "      <td>0.462164</td>\n",
       "      <td>0.500847</td>\n",
       "      <td>0.444094</td>\n",
       "      <td>0.287536</td>\n",
       "      <td>0.027525</td>\n",
       "      <td>0.000431</td>\n",
       "      <td>0.813393</td>\n",
       "      <td>0.870102</td>\n",
       "      <td>0.111079</td>\n",
       "      <td>-0.061186</td>\n",
       "      <td>0.027171</td>\n",
       "      <td>-0.014674</td>\n",
       "      <td>-0.049340</td>\n",
       "      <td>-0.051029</td>\n",
       "      <td>-0.056563</td>\n",
       "      <td>-0.033996</td>\n",
       "    </tr>\n",
       "    <tr>\n",
       "      <th>seat_comfort_rating</th>\n",
       "      <td>0.462164</td>\n",
       "      <td>1.000000</td>\n",
       "      <td>0.788034</td>\n",
       "      <td>0.721929</td>\n",
       "      <td>0.560922</td>\n",
       "      <td>0.079728</td>\n",
       "      <td>0.040786</td>\n",
       "      <td>0.537106</td>\n",
       "      <td>0.407606</td>\n",
       "      <td>0.133499</td>\n",
       "      <td>-0.118492</td>\n",
       "      <td>0.067202</td>\n",
       "      <td>0.038234</td>\n",
       "      <td>0.003044</td>\n",
       "      <td>-0.000575</td>\n",
       "      <td>-0.003312</td>\n",
       "      <td>0.018895</td>\n",
       "    </tr>\n",
       "    <tr>\n",
       "      <th>cabin_staff_rating</th>\n",
       "      <td>0.500847</td>\n",
       "      <td>0.788034</td>\n",
       "      <td>1.000000</td>\n",
       "      <td>0.765147</td>\n",
       "      <td>0.527278</td>\n",
       "      <td>0.092275</td>\n",
       "      <td>0.038081</td>\n",
       "      <td>0.542741</td>\n",
       "      <td>0.450083</td>\n",
       "      <td>0.125693</td>\n",
       "      <td>-0.106320</td>\n",
       "      <td>0.046118</td>\n",
       "      <td>0.036429</td>\n",
       "      <td>0.003686</td>\n",
       "      <td>0.007150</td>\n",
       "      <td>-0.000294</td>\n",
       "      <td>0.025469</td>\n",
       "    </tr>\n",
       "    <tr>\n",
       "      <th>food_beverages_rating</th>\n",
       "      <td>0.444094</td>\n",
       "      <td>0.721929</td>\n",
       "      <td>0.765147</td>\n",
       "      <td>1.000000</td>\n",
       "      <td>0.623340</td>\n",
       "      <td>0.054135</td>\n",
       "      <td>0.037187</td>\n",
       "      <td>0.490241</td>\n",
       "      <td>0.391975</td>\n",
       "      <td>0.180899</td>\n",
       "      <td>-0.155305</td>\n",
       "      <td>0.054012</td>\n",
       "      <td>0.046372</td>\n",
       "      <td>-0.005376</td>\n",
       "      <td>-0.019229</td>\n",
       "      <td>-0.020159</td>\n",
       "      <td>-0.005065</td>\n",
       "    </tr>\n",
       "    <tr>\n",
       "      <th>inflight_entertainment_rating</th>\n",
       "      <td>0.287536</td>\n",
       "      <td>0.560922</td>\n",
       "      <td>0.527278</td>\n",
       "      <td>0.623340</td>\n",
       "      <td>1.000000</td>\n",
       "      <td>0.034209</td>\n",
       "      <td>0.066826</td>\n",
       "      <td>0.333109</td>\n",
       "      <td>0.247565</td>\n",
       "      <td>0.178171</td>\n",
       "      <td>-0.181563</td>\n",
       "      <td>0.062387</td>\n",
       "      <td>0.084218</td>\n",
       "      <td>-0.004268</td>\n",
       "      <td>-0.020065</td>\n",
       "      <td>-0.021439</td>\n",
       "      <td>-0.010602</td>\n",
       "    </tr>\n",
       "    <tr>\n",
       "      <th>ground_service_rating</th>\n",
       "      <td>0.027525</td>\n",
       "      <td>0.079728</td>\n",
       "      <td>0.092275</td>\n",
       "      <td>0.054135</td>\n",
       "      <td>0.034209</td>\n",
       "      <td>1.000000</td>\n",
       "      <td>0.428163</td>\n",
       "      <td>0.037458</td>\n",
       "      <td>0.034179</td>\n",
       "      <td>0.005172</td>\n",
       "      <td>0.007803</td>\n",
       "      <td>0.025967</td>\n",
       "      <td>-0.014739</td>\n",
       "      <td>0.293762</td>\n",
       "      <td>0.405659</td>\n",
       "      <td>0.419405</td>\n",
       "      <td>0.471841</td>\n",
       "    </tr>\n",
       "    <tr>\n",
       "      <th>wifi_connectivity_rating</th>\n",
       "      <td>0.000431</td>\n",
       "      <td>0.040786</td>\n",
       "      <td>0.038081</td>\n",
       "      <td>0.037187</td>\n",
       "      <td>0.066826</td>\n",
       "      <td>0.428163</td>\n",
       "      <td>1.000000</td>\n",
       "      <td>0.006540</td>\n",
       "      <td>0.002848</td>\n",
       "      <td>0.002734</td>\n",
       "      <td>-0.005983</td>\n",
       "      <td>0.033684</td>\n",
       "      <td>-0.004293</td>\n",
       "      <td>0.178804</td>\n",
       "      <td>0.179142</td>\n",
       "      <td>0.221789</td>\n",
       "      <td>0.186764</td>\n",
       "    </tr>\n",
       "    <tr>\n",
       "      <th>value_money_rating</th>\n",
       "      <td>0.813393</td>\n",
       "      <td>0.537106</td>\n",
       "      <td>0.542741</td>\n",
       "      <td>0.490241</td>\n",
       "      <td>0.333109</td>\n",
       "      <td>0.037458</td>\n",
       "      <td>0.006540</td>\n",
       "      <td>1.000000</td>\n",
       "      <td>0.773189</td>\n",
       "      <td>0.088623</td>\n",
       "      <td>-0.028545</td>\n",
       "      <td>0.008951</td>\n",
       "      <td>-0.019167</td>\n",
       "      <td>-0.043423</td>\n",
       "      <td>-0.044457</td>\n",
       "      <td>-0.045927</td>\n",
       "      <td>-0.022110</td>\n",
       "    </tr>\n",
       "    <tr>\n",
       "      <th>recommended</th>\n",
       "      <td>0.870102</td>\n",
       "      <td>0.407606</td>\n",
       "      <td>0.450083</td>\n",
       "      <td>0.391975</td>\n",
       "      <td>0.247565</td>\n",
       "      <td>0.034179</td>\n",
       "      <td>0.002848</td>\n",
       "      <td>0.773189</td>\n",
       "      <td>1.000000</td>\n",
       "      <td>0.095460</td>\n",
       "      <td>-0.047063</td>\n",
       "      <td>0.019449</td>\n",
       "      <td>-0.018040</td>\n",
       "      <td>-0.035739</td>\n",
       "      <td>-0.041444</td>\n",
       "      <td>-0.047779</td>\n",
       "      <td>-0.021885</td>\n",
       "    </tr>\n",
       "    <tr>\n",
       "      <th>Business Class</th>\n",
       "      <td>0.111079</td>\n",
       "      <td>0.133499</td>\n",
       "      <td>0.125693</td>\n",
       "      <td>0.180899</td>\n",
       "      <td>0.178171</td>\n",
       "      <td>0.005172</td>\n",
       "      <td>0.002734</td>\n",
       "      <td>0.088623</td>\n",
       "      <td>0.095460</td>\n",
       "      <td>1.000000</td>\n",
       "      <td>-0.747243</td>\n",
       "      <td>-0.070230</td>\n",
       "      <td>-0.092920</td>\n",
       "      <td>0.052992</td>\n",
       "      <td>-0.012931</td>\n",
       "      <td>-0.037327</td>\n",
       "      <td>-0.016014</td>\n",
       "    </tr>\n",
       "    <tr>\n",
       "      <th>Economy</th>\n",
       "      <td>-0.061186</td>\n",
       "      <td>-0.118492</td>\n",
       "      <td>-0.106320</td>\n",
       "      <td>-0.155305</td>\n",
       "      <td>-0.181563</td>\n",
       "      <td>0.007803</td>\n",
       "      <td>-0.005983</td>\n",
       "      <td>-0.028545</td>\n",
       "      <td>-0.047063</td>\n",
       "      <td>-0.747243</td>\n",
       "      <td>1.000000</td>\n",
       "      <td>-0.255656</td>\n",
       "      <td>-0.338253</td>\n",
       "      <td>-0.038852</td>\n",
       "      <td>0.017926</td>\n",
       "      <td>0.052168</td>\n",
       "      <td>0.022164</td>\n",
       "    </tr>\n",
       "    <tr>\n",
       "      <th>First Class</th>\n",
       "      <td>0.027171</td>\n",
       "      <td>0.067202</td>\n",
       "      <td>0.046118</td>\n",
       "      <td>0.054012</td>\n",
       "      <td>0.062387</td>\n",
       "      <td>0.025967</td>\n",
       "      <td>0.033684</td>\n",
       "      <td>0.008951</td>\n",
       "      <td>0.019449</td>\n",
       "      <td>-0.070230</td>\n",
       "      <td>-0.255656</td>\n",
       "      <td>1.000000</td>\n",
       "      <td>-0.031791</td>\n",
       "      <td>0.021222</td>\n",
       "      <td>-0.003019</td>\n",
       "      <td>-0.000480</td>\n",
       "      <td>0.020095</td>\n",
       "    </tr>\n",
       "    <tr>\n",
       "      <th>Premium Economy</th>\n",
       "      <td>-0.014674</td>\n",
       "      <td>0.038234</td>\n",
       "      <td>0.036429</td>\n",
       "      <td>0.046372</td>\n",
       "      <td>0.084218</td>\n",
       "      <td>-0.014739</td>\n",
       "      <td>-0.004293</td>\n",
       "      <td>-0.019167</td>\n",
       "      <td>-0.018040</td>\n",
       "      <td>-0.092920</td>\n",
       "      <td>-0.338253</td>\n",
       "      <td>-0.031791</td>\n",
       "      <td>1.000000</td>\n",
       "      <td>-0.013636</td>\n",
       "      <td>0.001923</td>\n",
       "      <td>-0.022642</td>\n",
       "      <td>-0.011929</td>\n",
       "    </tr>\n",
       "    <tr>\n",
       "      <th>Business</th>\n",
       "      <td>-0.049340</td>\n",
       "      <td>0.003044</td>\n",
       "      <td>0.003686</td>\n",
       "      <td>-0.005376</td>\n",
       "      <td>-0.004268</td>\n",
       "      <td>0.293762</td>\n",
       "      <td>0.178804</td>\n",
       "      <td>-0.043423</td>\n",
       "      <td>-0.035739</td>\n",
       "      <td>0.052992</td>\n",
       "      <td>-0.038852</td>\n",
       "      <td>0.021222</td>\n",
       "      <td>-0.013636</td>\n",
       "      <td>1.000000</td>\n",
       "      <td>-0.013207</td>\n",
       "      <td>-0.013318</td>\n",
       "      <td>-0.015320</td>\n",
       "    </tr>\n",
       "    <tr>\n",
       "      <th>Couple Leisure</th>\n",
       "      <td>-0.051029</td>\n",
       "      <td>-0.000575</td>\n",
       "      <td>0.007150</td>\n",
       "      <td>-0.019229</td>\n",
       "      <td>-0.020065</td>\n",
       "      <td>0.405659</td>\n",
       "      <td>0.179142</td>\n",
       "      <td>-0.044457</td>\n",
       "      <td>-0.041444</td>\n",
       "      <td>-0.012931</td>\n",
       "      <td>0.017926</td>\n",
       "      <td>-0.003019</td>\n",
       "      <td>0.001923</td>\n",
       "      <td>-0.013207</td>\n",
       "      <td>1.000000</td>\n",
       "      <td>-0.017219</td>\n",
       "      <td>-0.019806</td>\n",
       "    </tr>\n",
       "    <tr>\n",
       "      <th>FamilyLeisure</th>\n",
       "      <td>-0.056563</td>\n",
       "      <td>-0.003312</td>\n",
       "      <td>-0.000294</td>\n",
       "      <td>-0.020159</td>\n",
       "      <td>-0.021439</td>\n",
       "      <td>0.419405</td>\n",
       "      <td>0.221789</td>\n",
       "      <td>-0.045927</td>\n",
       "      <td>-0.047779</td>\n",
       "      <td>-0.037327</td>\n",
       "      <td>0.052168</td>\n",
       "      <td>-0.000480</td>\n",
       "      <td>-0.022642</td>\n",
       "      <td>-0.013318</td>\n",
       "      <td>-0.017219</td>\n",
       "      <td>1.000000</td>\n",
       "      <td>-0.019973</td>\n",
       "    </tr>\n",
       "    <tr>\n",
       "      <th>Solo Leisure</th>\n",
       "      <td>-0.033996</td>\n",
       "      <td>0.018895</td>\n",
       "      <td>0.025469</td>\n",
       "      <td>-0.005065</td>\n",
       "      <td>-0.010602</td>\n",
       "      <td>0.471841</td>\n",
       "      <td>0.186764</td>\n",
       "      <td>-0.022110</td>\n",
       "      <td>-0.021885</td>\n",
       "      <td>-0.016014</td>\n",
       "      <td>0.022164</td>\n",
       "      <td>0.020095</td>\n",
       "      <td>-0.011929</td>\n",
       "      <td>-0.015320</td>\n",
       "      <td>-0.019806</td>\n",
       "      <td>-0.019973</td>\n",
       "      <td>1.000000</td>\n",
       "    </tr>\n",
       "  </tbody>\n",
       "</table>\n",
       "</div>"
      ],
      "text/plain": [
       "                               overall_rating  seat_comfort_rating  \\\n",
       "overall_rating                       1.000000             0.462164   \n",
       "seat_comfort_rating                  0.462164             1.000000   \n",
       "cabin_staff_rating                   0.500847             0.788034   \n",
       "food_beverages_rating                0.444094             0.721929   \n",
       "inflight_entertainment_rating        0.287536             0.560922   \n",
       "ground_service_rating                0.027525             0.079728   \n",
       "wifi_connectivity_rating             0.000431             0.040786   \n",
       "value_money_rating                   0.813393             0.537106   \n",
       "recommended                          0.870102             0.407606   \n",
       "Business Class                       0.111079             0.133499   \n",
       "Economy                             -0.061186            -0.118492   \n",
       "First Class                          0.027171             0.067202   \n",
       "Premium Economy                     -0.014674             0.038234   \n",
       "Business                            -0.049340             0.003044   \n",
       "Couple Leisure                      -0.051029            -0.000575   \n",
       "FamilyLeisure                       -0.056563            -0.003312   \n",
       "Solo Leisure                        -0.033996             0.018895   \n",
       "\n",
       "                               cabin_staff_rating  food_beverages_rating  \\\n",
       "overall_rating                           0.500847               0.444094   \n",
       "seat_comfort_rating                      0.788034               0.721929   \n",
       "cabin_staff_rating                       1.000000               0.765147   \n",
       "food_beverages_rating                    0.765147               1.000000   \n",
       "inflight_entertainment_rating            0.527278               0.623340   \n",
       "ground_service_rating                    0.092275               0.054135   \n",
       "wifi_connectivity_rating                 0.038081               0.037187   \n",
       "value_money_rating                       0.542741               0.490241   \n",
       "recommended                              0.450083               0.391975   \n",
       "Business Class                           0.125693               0.180899   \n",
       "Economy                                 -0.106320              -0.155305   \n",
       "First Class                              0.046118               0.054012   \n",
       "Premium Economy                          0.036429               0.046372   \n",
       "Business                                 0.003686              -0.005376   \n",
       "Couple Leisure                           0.007150              -0.019229   \n",
       "FamilyLeisure                           -0.000294              -0.020159   \n",
       "Solo Leisure                             0.025469              -0.005065   \n",
       "\n",
       "                               inflight_entertainment_rating  \\\n",
       "overall_rating                                      0.287536   \n",
       "seat_comfort_rating                                 0.560922   \n",
       "cabin_staff_rating                                  0.527278   \n",
       "food_beverages_rating                               0.623340   \n",
       "inflight_entertainment_rating                       1.000000   \n",
       "ground_service_rating                               0.034209   \n",
       "wifi_connectivity_rating                            0.066826   \n",
       "value_money_rating                                  0.333109   \n",
       "recommended                                         0.247565   \n",
       "Business Class                                      0.178171   \n",
       "Economy                                            -0.181563   \n",
       "First Class                                         0.062387   \n",
       "Premium Economy                                     0.084218   \n",
       "Business                                           -0.004268   \n",
       "Couple Leisure                                     -0.020065   \n",
       "FamilyLeisure                                      -0.021439   \n",
       "Solo Leisure                                       -0.010602   \n",
       "\n",
       "                               ground_service_rating  \\\n",
       "overall_rating                              0.027525   \n",
       "seat_comfort_rating                         0.079728   \n",
       "cabin_staff_rating                          0.092275   \n",
       "food_beverages_rating                       0.054135   \n",
       "inflight_entertainment_rating               0.034209   \n",
       "ground_service_rating                       1.000000   \n",
       "wifi_connectivity_rating                    0.428163   \n",
       "value_money_rating                          0.037458   \n",
       "recommended                                 0.034179   \n",
       "Business Class                              0.005172   \n",
       "Economy                                     0.007803   \n",
       "First Class                                 0.025967   \n",
       "Premium Economy                            -0.014739   \n",
       "Business                                    0.293762   \n",
       "Couple Leisure                              0.405659   \n",
       "FamilyLeisure                               0.419405   \n",
       "Solo Leisure                                0.471841   \n",
       "\n",
       "                               wifi_connectivity_rating  value_money_rating  \\\n",
       "overall_rating                                 0.000431            0.813393   \n",
       "seat_comfort_rating                            0.040786            0.537106   \n",
       "cabin_staff_rating                             0.038081            0.542741   \n",
       "food_beverages_rating                          0.037187            0.490241   \n",
       "inflight_entertainment_rating                  0.066826            0.333109   \n",
       "ground_service_rating                          0.428163            0.037458   \n",
       "wifi_connectivity_rating                       1.000000            0.006540   \n",
       "value_money_rating                             0.006540            1.000000   \n",
       "recommended                                    0.002848            0.773189   \n",
       "Business Class                                 0.002734            0.088623   \n",
       "Economy                                       -0.005983           -0.028545   \n",
       "First Class                                    0.033684            0.008951   \n",
       "Premium Economy                               -0.004293           -0.019167   \n",
       "Business                                       0.178804           -0.043423   \n",
       "Couple Leisure                                 0.179142           -0.044457   \n",
       "FamilyLeisure                                  0.221789           -0.045927   \n",
       "Solo Leisure                                   0.186764           -0.022110   \n",
       "\n",
       "                               recommended  Business Class   Economy  \\\n",
       "overall_rating                    0.870102        0.111079 -0.061186   \n",
       "seat_comfort_rating               0.407606        0.133499 -0.118492   \n",
       "cabin_staff_rating                0.450083        0.125693 -0.106320   \n",
       "food_beverages_rating             0.391975        0.180899 -0.155305   \n",
       "inflight_entertainment_rating     0.247565        0.178171 -0.181563   \n",
       "ground_service_rating             0.034179        0.005172  0.007803   \n",
       "wifi_connectivity_rating          0.002848        0.002734 -0.005983   \n",
       "value_money_rating                0.773189        0.088623 -0.028545   \n",
       "recommended                       1.000000        0.095460 -0.047063   \n",
       "Business Class                    0.095460        1.000000 -0.747243   \n",
       "Economy                          -0.047063       -0.747243  1.000000   \n",
       "First Class                       0.019449       -0.070230 -0.255656   \n",
       "Premium Economy                  -0.018040       -0.092920 -0.338253   \n",
       "Business                         -0.035739        0.052992 -0.038852   \n",
       "Couple Leisure                   -0.041444       -0.012931  0.017926   \n",
       "FamilyLeisure                    -0.047779       -0.037327  0.052168   \n",
       "Solo Leisure                     -0.021885       -0.016014  0.022164   \n",
       "\n",
       "                               First Class  Premium Economy  Business  \\\n",
       "overall_rating                    0.027171        -0.014674 -0.049340   \n",
       "seat_comfort_rating               0.067202         0.038234  0.003044   \n",
       "cabin_staff_rating                0.046118         0.036429  0.003686   \n",
       "food_beverages_rating             0.054012         0.046372 -0.005376   \n",
       "inflight_entertainment_rating     0.062387         0.084218 -0.004268   \n",
       "ground_service_rating             0.025967        -0.014739  0.293762   \n",
       "wifi_connectivity_rating          0.033684        -0.004293  0.178804   \n",
       "value_money_rating                0.008951        -0.019167 -0.043423   \n",
       "recommended                       0.019449        -0.018040 -0.035739   \n",
       "Business Class                   -0.070230        -0.092920  0.052992   \n",
       "Economy                          -0.255656        -0.338253 -0.038852   \n",
       "First Class                       1.000000        -0.031791  0.021222   \n",
       "Premium Economy                  -0.031791         1.000000 -0.013636   \n",
       "Business                          0.021222        -0.013636  1.000000   \n",
       "Couple Leisure                   -0.003019         0.001923 -0.013207   \n",
       "FamilyLeisure                    -0.000480        -0.022642 -0.013318   \n",
       "Solo Leisure                      0.020095        -0.011929 -0.015320   \n",
       "\n",
       "                               Couple Leisure  FamilyLeisure  Solo Leisure  \n",
       "overall_rating                      -0.051029      -0.056563     -0.033996  \n",
       "seat_comfort_rating                 -0.000575      -0.003312      0.018895  \n",
       "cabin_staff_rating                   0.007150      -0.000294      0.025469  \n",
       "food_beverages_rating               -0.019229      -0.020159     -0.005065  \n",
       "inflight_entertainment_rating       -0.020065      -0.021439     -0.010602  \n",
       "ground_service_rating                0.405659       0.419405      0.471841  \n",
       "wifi_connectivity_rating             0.179142       0.221789      0.186764  \n",
       "value_money_rating                  -0.044457      -0.045927     -0.022110  \n",
       "recommended                         -0.041444      -0.047779     -0.021885  \n",
       "Business Class                      -0.012931      -0.037327     -0.016014  \n",
       "Economy                              0.017926       0.052168      0.022164  \n",
       "First Class                         -0.003019      -0.000480      0.020095  \n",
       "Premium Economy                      0.001923      -0.022642     -0.011929  \n",
       "Business                            -0.013207      -0.013318     -0.015320  \n",
       "Couple Leisure                       1.000000      -0.017219     -0.019806  \n",
       "FamilyLeisure                       -0.017219       1.000000     -0.019973  \n",
       "Solo Leisure                        -0.019806      -0.019973      1.000000  "
      ]
     },
     "execution_count": 109,
     "metadata": {},
     "output_type": "execute_result"
    }
   ],
   "source": [
    "df_clean.corr()"
   ]
  },
  {
   "cell_type": "markdown",
   "metadata": {},
   "source": [
    "From the above table, we see that there are much correlations between seat comfort rating, cabin staff, food beverages rating and inflight entertainment rating. Hence, there might be huge bias in case of OLS due to multi-colinearity"
   ]
  },
  {
   "cell_type": "markdown",
   "metadata": {},
   "source": [
    "## Modelling"
   ]
  },
  {
   "cell_type": "markdown",
   "metadata": {},
   "source": [
    "In order to get the most important features that may affect overall rating, the following steps are conducted:\n",
    "    * Classifiers: OLS, Ridge regression,  Random forest\n",
    "    * Divide dataset into train/testset, grid search and cross validation with 10 folds \n",
    "    * Metrics: R^2 and RMSE(root mean squared error)"
   ]
  },
  {
   "cell_type": "code",
   "execution_count": 110,
   "metadata": {
    "collapsed": false
   },
   "outputs": [],
   "source": [
    "y=df_clean.overall_rating\n",
    "X=df_clean.drop(['overall_rating', 'recommended'], axis=1)"
   ]
  },
  {
   "cell_type": "code",
   "execution_count": 111,
   "metadata": {
    "collapsed": false
   },
   "outputs": [],
   "source": [
    "from sklearn.model_selection import train_test_split\n",
    "Xlr, Xtestlr, ylr, ytestlr = train_test_split(X,y,random_state=1)\n",
    "from sklearn.metrics import mean_squared_error"
   ]
  },
  {
   "cell_type": "markdown",
   "metadata": {},
   "source": [
    "### Simple OLS"
   ]
  },
  {
   "cell_type": "code",
   "execution_count": 112,
   "metadata": {
    "collapsed": false
   },
   "outputs": [
    {
     "name": "stdout",
     "output_type": "stream",
     "text": [
      "                            OLS Regression Results                            \n",
      "==============================================================================\n",
      "Dep. Variable:         overall_rating   R-squared:                       0.928\n",
      "Model:                            OLS   Adj. R-squared:                  0.928\n",
      "Method:                 Least Squares   F-statistic:                 2.297e+04\n",
      "Date:                Sat, 29 Oct 2016   Prob (F-statistic):               0.00\n",
      "Time:                        11:50:06   Log-Likelihood:                -54643.\n",
      "No. Observations:               26849   AIC:                         1.093e+05\n",
      "Df Residuals:                   26834   BIC:                         1.094e+05\n",
      "Df Model:                          15                                         \n",
      "Covariance Type:            nonrobust                                         \n",
      "=================================================================================================\n",
      "                                    coef    std err          t      P>|t|      [95.0% Conf. Int.]\n",
      "-------------------------------------------------------------------------------------------------\n",
      "seat_comfort_rating              -0.0794      0.012     -6.748      0.000        -0.102    -0.056\n",
      "cabin_staff_rating                0.1937      0.011     16.865      0.000         0.171     0.216\n",
      "food_beverages_rating             0.0236      0.011      2.119      0.034         0.002     0.045\n",
      "inflight_entertainment_rating    -0.0396      0.008     -4.811      0.000        -0.056    -0.023\n",
      "ground_service_rating             0.2877      0.027     10.559      0.000         0.234     0.341\n",
      "wifi_connectivity_rating          0.0290      0.038      0.765      0.445        -0.045     0.104\n",
      "value_money_rating                1.6804      0.009    179.440      0.000         1.662     1.699\n",
      "Business Class                    0.4243      0.040     10.571      0.000         0.346     0.503\n",
      "Economy                           0.1024      0.029      3.516      0.000         0.045     0.159\n",
      "First Class                       0.5846      0.079      7.400      0.000         0.430     0.739\n",
      "Premium Economy                   0.1406      0.063      2.231      0.026         0.017     0.264\n",
      "Business                         -1.3117      0.131     -9.987      0.000        -1.569    -1.054\n",
      "Couple Leisure                   -1.1973      0.112    -10.701      0.000        -1.417    -0.978\n",
      "FamilyLeisure                    -1.3263      0.112    -11.861      0.000        -1.545    -1.107\n",
      "Solo Leisure                     -1.1852      0.102    -11.639      0.000        -1.385    -0.986\n",
      "==============================================================================\n",
      "Omnibus:                     2331.364   Durbin-Watson:                   2.000\n",
      "Prob(Omnibus):                  0.000   Jarque-Bera (JB):            10180.677\n",
      "Skew:                           0.333   Prob(JB):                         0.00\n",
      "Kurtosis:                       5.942   Cond. No.                         103.\n",
      "==============================================================================\n",
      "\n",
      "Warnings:\n",
      "[1] Standard Errors assume that the covariance matrix of the errors is correctly specified.\n",
      "mean squared error on ols: 3.43179070007\n"
     ]
    }
   ],
   "source": [
    "import statsmodels.api as sm\n",
    "model=sm.OLS(ylr, Xlr)\n",
    "results = model.fit()\n",
    "print(results.summary())\n",
    "print('mean squared error on ols:', results.mse_resid)"
   ]
  },
  {
   "cell_type": "markdown",
   "metadata": {},
   "source": [
    "#### Result analysis\n",
    "\n",
    "Though R^2 is quite high 92.8%, the assumptions for OLS may not hold (multi-colinearity). Thus, as coefficients are biased, we cannot interpret the results from OLS.\n",
    "\n",
    "One weird observation is that seat comfort rating and inflight entertainment rating though are statistically significant, have negative coefficients (we expect all of the features should have positive effect on overall rating). But we will come back to this point after analyzing other models."
   ]
  },
  {
   "cell_type": "markdown",
   "metadata": {},
   "source": [
    "### Ridge regression"
   ]
  },
  {
   "cell_type": "code",
   "execution_count": 113,
   "metadata": {
    "collapsed": false
   },
   "outputs": [],
   "source": [
    "from sklearn.feature_selection import SelectFromModel\n",
    "from sklearn.linear_model import RidgeCV\n",
    "ridge_model=RidgeCV(alphas=(0,0.1,0.3, 0.5,0.7,1.0, 10.0), cv=10).fit(Xlr,ylr)\n",
    "model=SelectFromModel(ridge_model, prefit=True)\n",
    "model_new=model.transform(Xlr)"
   ]
  },
  {
   "cell_type": "code",
   "execution_count": 114,
   "metadata": {
    "collapsed": false
   },
   "outputs": [
    {
     "name": "stdout",
     "output_type": "stream",
     "text": [
      "alpha= 1.0\n",
      "R^2 score:  0.669865949403\n",
      "mean squared error on train set: 3.42980075469\n",
      "R^2 on test set:  0.679989028095\n",
      "mean squared error on test set: 3.32571734039\n"
     ]
    }
   ],
   "source": [
    "#RSS_ridge=sum((ridge_model.predict(Xlr)-ylr)**2)\n",
    "print('alpha=', ridge_model.alpha_)\n",
    "print('R^2 score: ',ridge_model.score(Xlr,ylr))\n",
    "print('mean squared error on train set:', mean_squared_error(ylr,ridge_model.predict(Xlr)))\n",
    "\n",
    "RSS_ridge=sum((ridge_model.predict(Xtestlr)-ytestlr)**2)\n",
    "print('R^2 on test set: ',ridge_model.score(Xtestlr,ytestlr))\n",
    "print('mean squared error on test set:', mean_squared_error(ytestlr,ridge_model.predict(Xtestlr)))"
   ]
  },
  {
   "cell_type": "markdown",
   "metadata": {},
   "source": [
    "#### Result analysis\n",
    "The test set performs better than the train set, thus suggesting underfitting in our model. "
   ]
  },
  {
   "cell_type": "markdown",
   "metadata": {},
   "source": [
    "### Random forest"
   ]
  },
  {
   "cell_type": "code",
   "execution_count": 115,
   "metadata": {
    "collapsed": false
   },
   "outputs": [
    {
     "name": "stdout",
     "output_type": "stream",
     "text": [
      "{'max_depth': 10, 'n_estimators': 300, 'min_samples_split': 4}\n"
     ]
    }
   ],
   "source": [
    "\n",
    "from sklearn.ensemble import RandomForestRegressor\n",
    "from sklearn.model_selection import GridSearchCV\n",
    "forest=RandomForestRegressor(max_features = \"sqrt\", random_state=1)\n",
    "param_grid = { \"n_estimators\"      : [200, 300],\n",
    "           \"max_depth\"         : [10, 20],\n",
    "           \"min_samples_split\" : [2, 4]}\n",
    "%timeit\n",
    "grid_search = GridSearchCV(forest, param_grid, n_jobs=-1, cv=10, scoring='mean_squared_error')\n",
    "grid_search.fit(Xlr, ylr)\n",
    "print(grid_search.best_params_)"
   ]
  },
  {
   "cell_type": "code",
   "execution_count": 116,
   "metadata": {
    "collapsed": false
   },
   "outputs": [
    {
     "name": "stdout",
     "output_type": "stream",
     "text": [
      "best mean squared error: -1.91346952336\n"
     ]
    }
   ],
   "source": [
    "best_max_depth, best_samples_splits, best_n_esti=grid_search.best_params_.values()\n",
    "print('best mean squared error:',grid_search.best_score_)"
   ]
  },
  {
   "cell_type": "code",
   "execution_count": 117,
   "metadata": {
    "collapsed": false
   },
   "outputs": [
    {
     "name": "stdout",
     "output_type": "stream",
     "text": [
      "1. feature 6 (0.629578), value_money_rating\n",
      "2. feature 1 (0.223608), cabin_staff_rating\n",
      "3. feature 2 (0.049306), food_beverages_rating\n",
      "4. feature 0 (0.043799), seat_comfort_rating\n",
      "5. feature 3 (0.042340), inflight_entertainment_rating\n",
      "6. feature 7 (0.004652), Business Class\n",
      "7. feature 4 (0.002374), ground_service_rating\n",
      "8. feature 5 (0.001565), wifi_connectivity_rating\n",
      "9. feature 14 (0.000673), Solo Leisure\n",
      "10. feature 8 (0.000651), Economy\n"
     ]
    }
   ],
   "source": [
    "forest=RandomForestRegressor(max_features = \"sqrt\", random_state=1,n_estimators=best_n_esti, min_samples_split=best_samples_splits,\n",
    "                             max_depth=best_max_depth).fit(Xlr,ylr)\n",
    "importances = forest.feature_importances_\n",
    "names=list(Xlr.columns.values)\n",
    "features = []\n",
    "indices = np.argsort(importances)[::-1]\n",
    "\n",
    "for f in range(len(importances)):\n",
    "    print(\"%d. feature %d (%f), %s\" % (f + 1, indices[f], importances[indices[f]], names[indices[f]]))\n",
    "    features.append(indices[f])\n",
    "    # Print only first 10 most important variables\n",
    "    if len(features) >= 10:\n",
    "        break\n",
    "featurenames = [names[feature] for feature in features]"
   ]
  },
  {
   "cell_type": "code",
   "execution_count": 118,
   "metadata": {
    "collapsed": false
   },
   "outputs": [
    {
     "name": "stdout",
     "output_type": "stream",
     "text": [
      "Feature ranking:\n"
     ]
    },
    {
     "data": {
      "image/png": "[encoded data removed]",
      "text/plain": [
       "<matplotlib.figure.Figure at 0x1b1243f62e8>"
      ]
     },
     "metadata": {},
     "output_type": "display_data"
    }
   ],
   "source": [
    "std = np.std([tree.feature_importances_ for tree in forest.estimators_],axis=0)\n",
    "\n",
    "# Plot the feature importances of the forest\n",
    "print('Feature ranking:')\n",
    "fig=plt.figure()\n",
    "plt.title(\"Feature importances\")\n",
    "plt.bar(range(10), importances[indices[0:10]],\n",
    "       color=\"r\", yerr=std[indices[0:10]], align=\"center\")\n",
    "plt.xticks(range(len(features)), featurenames,rotation=60)\n",
    "plt.show()\n",
    "fig.savefig('feature important.png')"
   ]
  },
  {
   "cell_type": "code",
   "execution_count": 119,
   "metadata": {
    "collapsed": false
   },
   "outputs": [
    {
     "name": "stdout",
     "output_type": "stream",
     "text": [
      "mean squared error on train set: 2.05628078549\n",
      "mean squared error on test set: 2.04202079962\n",
      "R^2 on test set:  0.803510342625\n"
     ]
    }
   ],
   "source": [
    "print('mean squared error on train set:', mean_squared_error(ylr,forest.predict(Xlr) ))\n",
    "print('mean squared error on test set:', mean_squared_error(ytestlr,forest.predict(Xtestlr)))\n",
    "print('R^2 on test set: ',forest.score(Xtestlr,ytestlr))"
   ]
  },
  {
   "cell_type": "markdown",
   "metadata": {},
   "source": [
    "#### Result analysis\n",
    "\n",
    "Based on R^2 and MSE, we see that random forest performs better than Ridge regression for both train and test set. Hence, we will\n",
    "use random forest for building our model."
   ]
  },
  {
   "cell_type": "markdown",
   "metadata": {},
   "source": [
    "In the following, I group the rating for each feature where 1-3 is recorded as low, and 4-5 as high. Then, I take the median of predicted overall rating over these subsets of each feature. "
   ]
  },
  {
   "cell_type": "code",
   "execution_count": 138,
   "metadata": {
    "collapsed": false
   },
   "outputs": [
    {
     "data": {
      "text/plain": [
       "value_money_low\n",
       "False    8.305249\n",
       "True     2.945782\n",
       "Name: y, dtype: float64"
      ]
     },
     "execution_count": 138,
     "metadata": {},
     "output_type": "execute_result"
    }
   ],
   "source": [
    "data_predict=Xtestlr.copy()\n",
    "data_predict['value_money_low']=(data_predict.value_money_rating<=3)\n",
    "data_predict['cabin_low']=(data_predict.cabin_staff_rating<=3)\n",
    "data_predict['seat_comfort_low']=(data_predict.seat_comfort_rating<=3)\n",
    "data_predict['food_beverages_low']=(data_predict.food_beverages_rating<=3)\n",
    "data_predict['inflight_entertainment_low']=(data_predict.inflight_entertainment_rating<=3)\n",
    "data_predict['y']=forest.predict(Xtestlr)\n",
    "pd.pivot_table(data=data_predict,columns=None, index='value_money_low',values='y', aggfunc='median')"
   ]
  },
  {
   "cell_type": "code",
   "execution_count": 139,
   "metadata": {
    "collapsed": false
   },
   "outputs": [
    {
     "data": {
      "text/plain": [
       "cabin_low\n",
       "False    8.493133\n",
       "True     3.259240\n",
       "Name: y, dtype: float64"
      ]
     },
     "execution_count": 139,
     "metadata": {},
     "output_type": "execute_result"
    }
   ],
   "source": [
    "pd.pivot_table(data=data_predict,columns=None, index='cabin_low',values='y', aggfunc='median')"
   ]
  },
  {
   "cell_type": "code",
   "execution_count": 140,
   "metadata": {
    "collapsed": false
   },
   "outputs": [
    {
     "data": {
      "text/plain": [
       "seat_comfort_low\n",
       "False    8.598141\n",
       "True     3.839813\n",
       "Name: y, dtype: float64"
      ]
     },
     "execution_count": 140,
     "metadata": {},
     "output_type": "execute_result"
    }
   ],
   "source": [
    "pd.pivot_table(data=data_predict,columns=None, index='seat_comfort_low',values='y', aggfunc='median')"
   ]
  },
  {
   "cell_type": "code",
   "execution_count": 141,
   "metadata": {
    "collapsed": false
   },
   "outputs": [
    {
     "data": {
      "text/plain": [
       "food_beverages_low\n",
       "False    8.741071\n",
       "True     4.261718\n",
       "Name: y, dtype: float64"
      ]
     },
     "execution_count": 141,
     "metadata": {},
     "output_type": "execute_result"
    }
   ],
   "source": [
    "pd.pivot_table(data=data_predict,columns=None, index='food_beverages_low',values='y', aggfunc='median')"
   ]
  },
  {
   "cell_type": "code",
   "execution_count": 142,
   "metadata": {
    "collapsed": false
   },
   "outputs": [
    {
     "data": {
      "text/plain": [
       "inflight_entertainment_low\n",
       "False    8.582835\n",
       "True     5.659227\n",
       "Name: y, dtype: float64"
      ]
     },
     "execution_count": 142,
     "metadata": {},
     "output_type": "execute_result"
    }
   ],
   "source": [
    "pd.pivot_table(data=data_predict,columns=None, index='inflight_entertainment_low',values='y', aggfunc='median')"
   ]
  },
  {
   "cell_type": "code",
   "execution_count": 143,
   "metadata": {
    "collapsed": false
   },
   "outputs": [
    {
     "data": {
      "text/plain": [
       "value_money_low  cabin_low  seat_comfort_low  food_beverages_low  inflight_entertainment_low\n",
       "False            False      False             False               False                         9.026197\n",
       "                                                                  True                          8.787883\n",
       "                                              True                False                         8.110424\n",
       "                                                                  True                          8.349091\n",
       "                            True              False               False                         7.830798\n",
       "                                                                  True                          8.104806\n",
       "                                              True                False                         6.809716\n",
       "                                                                  True                          7.664592\n",
       "                 True       False             False               False                         7.735857\n",
       "                                                                  True                          6.762716\n",
       "                                              True                False                         6.856856\n",
       "                                                                  True                          6.383794\n",
       "                            True              False               False                         6.963792\n",
       "                                                                  True                          6.365228\n",
       "                                              True                False                         5.717262\n",
       "                                                                  True                          7.572250\n",
       "True             False      False             False               False                         6.829585\n",
       "                                                                  True                          6.111412\n",
       "                                              True                False                         5.558788\n",
       "                                                                  True                          5.593916\n",
       "                            True              False               False                         5.473537\n",
       "                                                                  True                          5.321082\n",
       "                                              True                False                         4.715931\n",
       "                                                                  True                          4.165667\n",
       "                 True       False             False               False                         4.757100\n",
       "                                                                  True                          3.600861\n",
       "                                              True                False                         4.129046\n",
       "                                                                  True                          3.247676\n",
       "                            True              False               False                         4.036219\n",
       "                                                                  True                          3.234444\n",
       "                                              True                False                         3.521900\n",
       "                                                                  True                          2.538345\n",
       "Name: y, dtype: float64"
      ]
     },
     "execution_count": 143,
     "metadata": {},
     "output_type": "execute_result"
    }
   ],
   "source": [
    "pd.pivot_table(data=data_predict,columns=None, index=['value_money_low','cabin_low','seat_comfort_low','food_beverages_low','inflight_entertainment_low'],values='y', aggfunc='mean')"
   ]
  },
  {
   "cell_type": "markdown",
   "metadata": {},
   "source": [
    "##### The above table can be interpreted as follows:\n",
    "\n",
    "We may go upwards or downwards in this table. If we take from bottom up, we see when everything is True, that is when every of these features have low rating, the median overall rating will be 2.538 point. Raising inflight entertainment rating from low (1-3) to high rate (4-5), the overall rating increases by nearly 1 point. And the analysis continues this way. This table can serve as a relative reference table for performance tracking purpose.   \n"
   ]
  }
 ],
 "metadata": {
  "anaconda-cloud": {},
  "kernelspec": {
   "display_name": "Python [default]",
   "language": "python",
   "name": "python3"
  },
  "language_info": {
   "codemirror_mode": {
    "name": "ipython",
    "version": 3
   },
   "file_extension": ".py",
   "mimetype": "text/x-python",
   "name": "python",
   "nbconvert_exporter": "python",
   "pygments_lexer": "ipython3",
   "version": "3.5.2"
  }
 },
 "nbformat": 4,
 "nbformat_minor": 1
}
