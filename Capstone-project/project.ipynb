{
 "cells": [
  {
   "cell_type": "markdown",
   "metadata": {},
   "source": [
    "# IMPROVE CUSTOMER SATISFACTION FOR EMIRATES AIRLINE \n",
    "\n",
    "In the service industry, keep high customer satisfaction is always among the top priority. Hence, for all airlines how customers view their service which reflects in overall rating is a good metric to measure the performance. Emirates airline is one of the airlines in the average range of overall rating (6/10). From 2010 to 2015, the rating for its service has not changed much. Improve certain parts in their service will definitely enhance customer satisfaction, and attract them to use the service more often or even suggest to their friends. However, Emirates needs to know where its investment would be most profitable, that is it needs to analyze cost and benefit related to increasing the performance in certain services. Therefore, in this project my aim is to provide a model where Emirates airlines can use in planning its targetted overall rating. \n",
    "\n",
    "### Data\n",
    "The data is scraped from airlinequality.com by quankiquanki from Skytrax website: https://github.com/quankiquanki/skytrax-reviews-dataset. Skytrax website has long been a great site for customers reviews of airlines, where it collects reviews and ratings for each airlines, lounges, seats and airports.\n",
    "The dataset for Emirates airline has a total sample of 691 observations with 20 columns containing information of the reviewers (name, country, date of review, type of travellers) and their ratings for each features as well as comments on the airlines. The ratings for each attribute range from 1 to 5, while overall rating is from 1 to 10. \n",
    "\n",
    "### Approach\n",
    "* First, I build a model that can predict well the overall rating based on each feature's rating. In order to do that, I conduct OLS Linear model, Ridge linear for parameter regularization and random forest. \n",
    "* Then, I select the best model among these methods and choose the important features for airlines.\n",
    "* Finally, using these features on the best models, I create a table for relative reference in planning targets for attribute ratings. This table together with Ridge model for specific metrics and cost-benefit analysis, Emirates airlines can build a good strategy on where to invest their resources to achieve better performance in customer satisfaction and profits.\n",
    "\n",
    "\n",
    "### Result\n",
    "* Ridge regression is the best performance on both train and test set with the lowest MSE of 1.64 on the train set. The most important factors that may affect overall rating are value-money rating, cabin staff, seat comfort, food beverages and inflight entertainment. These all have positive correlations with overall rating.\n",
    "\n",
    "### Recommendations \n",
    "* Based on its corporate strategy and cost-benefit analysis, Emirates may use the reference table and Ridge model to plan their target for improvement in some services.\n",
    "* While pricing is related closely with business strategy and positioning, Emirates might find it easier to improve its cabin staff and food beverages while still have huge effect on overall rating.\n",
    "\n",
    "### Further research\n",
    "Do topic and sentiment analysis on the travellers' reviews for Emirates airline to see which topics are most discussed, and alerts on negative reviews to take in-time action.\n"
   ]
  },
  {
   "cell_type": "markdown",
   "metadata": {},
   "source": [
    "## Setup"
   ]
  },
  {
   "cell_type": "code",
   "execution_count": 1,
   "metadata": {
    "collapsed": true
   },
   "outputs": [],
   "source": [
    "import numpy as np\n",
    "import pandas as pd\n",
    "import scipy.stats as stats\n",
    "import math\n",
    "import matplotlib.pyplot as plt\n",
    "import statsmodels.api as sm"
   ]
  },
  {
   "cell_type": "code",
   "execution_count": 2,
   "metadata": {
    "collapsed": false
   },
   "outputs": [],
   "source": [
    "df=pd.read_csv('skytrax-reviews-dataset-master/data/airline.csv')"
   ]
  },
  {
   "cell_type": "code",
   "execution_count": 76,
   "metadata": {
    "collapsed": false
   },
   "outputs": [
    {
     "data": {
      "text/html": [
       "<div>\n",
       "<table border=\"1\" class=\"dataframe\">\n",
       "  <thead>\n",
       "    <tr style=\"text-align: right;\">\n",
       "      <th></th>\n",
       "      <th>airline_name</th>\n",
       "      <th>link</th>\n",
       "      <th>title</th>\n",
       "      <th>author</th>\n",
       "      <th>author_country</th>\n",
       "      <th>date</th>\n",
       "      <th>content</th>\n",
       "      <th>aircraft</th>\n",
       "      <th>type_traveller</th>\n",
       "      <th>cabin_flown</th>\n",
       "      <th>route</th>\n",
       "      <th>overall_rating</th>\n",
       "      <th>seat_comfort_rating</th>\n",
       "      <th>cabin_staff_rating</th>\n",
       "      <th>food_beverages_rating</th>\n",
       "      <th>inflight_entertainment_rating</th>\n",
       "      <th>ground_service_rating</th>\n",
       "      <th>wifi_connectivity_rating</th>\n",
       "      <th>value_money_rating</th>\n",
       "      <th>recommended</th>\n",
       "    </tr>\n",
       "  </thead>\n",
       "  <tbody>\n",
       "    <tr>\n",
       "      <th>14773</th>\n",
       "      <td>emirates</td>\n",
       "      <td>/airline-reviews/emirates</td>\n",
       "      <td>Emirates customer review</td>\n",
       "      <td>B Finn</td>\n",
       "      <td>Australia</td>\n",
       "      <td>2015-08-02</td>\n",
       "      <td>Overall we found the experience disappointing....</td>\n",
       "      <td>A380</td>\n",
       "      <td>FamilyLeisure</td>\n",
       "      <td>Economy</td>\n",
       "      <td>Singapore to Paris via Dubai</td>\n",
       "      <td>5.0</td>\n",
       "      <td>3.0</td>\n",
       "      <td>1.0</td>\n",
       "      <td>2.0</td>\n",
       "      <td>3.0</td>\n",
       "      <td>4.0</td>\n",
       "      <td>3.0</td>\n",
       "      <td>3.0</td>\n",
       "      <td>0</td>\n",
       "    </tr>\n",
       "    <tr>\n",
       "      <th>14783</th>\n",
       "      <td>emirates</td>\n",
       "      <td>/airline-reviews/emirates</td>\n",
       "      <td>Emirates customer review</td>\n",
       "      <td>Michael Leibman</td>\n",
       "      <td>South Africa</td>\n",
       "      <td>2015-07-28</td>\n",
       "      <td>Flight from Cape Town was late into Dubai due ...</td>\n",
       "      <td>Boeing 777 and A380</td>\n",
       "      <td>Couple Leisure</td>\n",
       "      <td>Business Class</td>\n",
       "      <td>Cape Town to London via Dubai</td>\n",
       "      <td>7.0</td>\n",
       "      <td>3.0</td>\n",
       "      <td>3.0</td>\n",
       "      <td>3.0</td>\n",
       "      <td>4.0</td>\n",
       "      <td>2.0</td>\n",
       "      <td>2.0</td>\n",
       "      <td>3.0</td>\n",
       "      <td>0</td>\n",
       "    </tr>\n",
       "  </tbody>\n",
       "</table>\n",
       "</div>"
      ],
      "text/plain": [
       "      airline_name                       link                     title  \\\n",
       "14773     emirates  /airline-reviews/emirates  Emirates customer review   \n",
       "14783     emirates  /airline-reviews/emirates  Emirates customer review   \n",
       "\n",
       "                author author_country        date  \\\n",
       "14773           B Finn      Australia  2015-08-02   \n",
       "14783  Michael Leibman   South Africa  2015-07-28   \n",
       "\n",
       "                                                 content             aircraft  \\\n",
       "14773  Overall we found the experience disappointing....                 A380   \n",
       "14783  Flight from Cape Town was late into Dubai due ...  Boeing 777 and A380   \n",
       "\n",
       "       type_traveller     cabin_flown                          route  \\\n",
       "14773   FamilyLeisure         Economy   Singapore to Paris via Dubai   \n",
       "14783  Couple Leisure  Business Class  Cape Town to London via Dubai   \n",
       "\n",
       "       overall_rating  seat_comfort_rating  cabin_staff_rating  \\\n",
       "14773             5.0                  3.0                 1.0   \n",
       "14783             7.0                  3.0                 3.0   \n",
       "\n",
       "       food_beverages_rating  inflight_entertainment_rating  \\\n",
       "14773                    2.0                            3.0   \n",
       "14783                    3.0                            4.0   \n",
       "\n",
       "       ground_service_rating  wifi_connectivity_rating  value_money_rating  \\\n",
       "14773                    4.0                       3.0                 3.0   \n",
       "14783                    2.0                       2.0                 3.0   \n",
       "\n",
       "       recommended  \n",
       "14773            0  \n",
       "14783            0  "
      ]
     },
     "execution_count": 76,
     "metadata": {},
     "output_type": "execute_result"
    }
   ],
   "source": [
    "df_emi=df[df.airline_name=='emirates']\n",
    "df_emi.head(2)"
   ]
  },
  {
   "cell_type": "code",
   "execution_count": 4,
   "metadata": {
    "collapsed": false,
    "scrolled": false
   },
   "outputs": [
    {
     "name": "stderr",
     "output_type": "stream",
     "text": [
      "C:\\Users\\Bao Tram\\AppData\\Local\\Continuum\\Anaconda3\\lib\\site-packages\\numpy\\lib\\function_base.py:3834: RuntimeWarning: Invalid value encountered in percentile\n",
      "  RuntimeWarning)\n"
     ]
    },
    {
     "data": {
      "text/html": [
       "<div>\n",
       "<table border=\"1\" class=\"dataframe\">\n",
       "  <thead>\n",
       "    <tr style=\"text-align: right;\">\n",
       "      <th></th>\n",
       "      <th>overall_rating</th>\n",
       "      <th>seat_comfort_rating</th>\n",
       "      <th>cabin_staff_rating</th>\n",
       "      <th>food_beverages_rating</th>\n",
       "      <th>inflight_entertainment_rating</th>\n",
       "      <th>ground_service_rating</th>\n",
       "      <th>wifi_connectivity_rating</th>\n",
       "      <th>value_money_rating</th>\n",
       "      <th>recommended</th>\n",
       "    </tr>\n",
       "  </thead>\n",
       "  <tbody>\n",
       "    <tr>\n",
       "      <th>count</th>\n",
       "      <td>690.000000</td>\n",
       "      <td>691.000000</td>\n",
       "      <td>691.000000</td>\n",
       "      <td>688.000000</td>\n",
       "      <td>688.000000</td>\n",
       "      <td>61.000000</td>\n",
       "      <td>35.000000</td>\n",
       "      <td>691.000000</td>\n",
       "      <td>691.000000</td>\n",
       "    </tr>\n",
       "    <tr>\n",
       "      <th>mean</th>\n",
       "      <td>6.246377</td>\n",
       "      <td>3.596237</td>\n",
       "      <td>3.287988</td>\n",
       "      <td>3.453488</td>\n",
       "      <td>4.190407</td>\n",
       "      <td>3.508197</td>\n",
       "      <td>3.142857</td>\n",
       "      <td>3.609262</td>\n",
       "      <td>0.615051</td>\n",
       "    </tr>\n",
       "    <tr>\n",
       "      <th>std</th>\n",
       "      <td>3.088937</td>\n",
       "      <td>1.207675</td>\n",
       "      <td>1.543425</td>\n",
       "      <td>1.351322</td>\n",
       "      <td>1.075096</td>\n",
       "      <td>1.409763</td>\n",
       "      <td>1.497898</td>\n",
       "      <td>1.329978</td>\n",
       "      <td>0.486936</td>\n",
       "    </tr>\n",
       "    <tr>\n",
       "      <th>min</th>\n",
       "      <td>1.000000</td>\n",
       "      <td>1.000000</td>\n",
       "      <td>1.000000</td>\n",
       "      <td>1.000000</td>\n",
       "      <td>1.000000</td>\n",
       "      <td>1.000000</td>\n",
       "      <td>1.000000</td>\n",
       "      <td>0.000000</td>\n",
       "      <td>0.000000</td>\n",
       "    </tr>\n",
       "    <tr>\n",
       "      <th>25%</th>\n",
       "      <td>NaN</td>\n",
       "      <td>3.000000</td>\n",
       "      <td>2.000000</td>\n",
       "      <td>NaN</td>\n",
       "      <td>NaN</td>\n",
       "      <td>NaN</td>\n",
       "      <td>NaN</td>\n",
       "      <td>3.000000</td>\n",
       "      <td>0.000000</td>\n",
       "    </tr>\n",
       "    <tr>\n",
       "      <th>50%</th>\n",
       "      <td>NaN</td>\n",
       "      <td>4.000000</td>\n",
       "      <td>4.000000</td>\n",
       "      <td>NaN</td>\n",
       "      <td>NaN</td>\n",
       "      <td>NaN</td>\n",
       "      <td>NaN</td>\n",
       "      <td>4.000000</td>\n",
       "      <td>1.000000</td>\n",
       "    </tr>\n",
       "    <tr>\n",
       "      <th>75%</th>\n",
       "      <td>NaN</td>\n",
       "      <td>5.000000</td>\n",
       "      <td>5.000000</td>\n",
       "      <td>NaN</td>\n",
       "      <td>NaN</td>\n",
       "      <td>NaN</td>\n",
       "      <td>NaN</td>\n",
       "      <td>5.000000</td>\n",
       "      <td>1.000000</td>\n",
       "    </tr>\n",
       "    <tr>\n",
       "      <th>max</th>\n",
       "      <td>10.000000</td>\n",
       "      <td>5.000000</td>\n",
       "      <td>5.000000</td>\n",
       "      <td>5.000000</td>\n",
       "      <td>5.000000</td>\n",
       "      <td>5.000000</td>\n",
       "      <td>5.000000</td>\n",
       "      <td>5.000000</td>\n",
       "      <td>1.000000</td>\n",
       "    </tr>\n",
       "  </tbody>\n",
       "</table>\n",
       "</div>"
      ],
      "text/plain": [
       "       overall_rating  seat_comfort_rating  cabin_staff_rating  \\\n",
       "count      690.000000           691.000000          691.000000   \n",
       "mean         6.246377             3.596237            3.287988   \n",
       "std          3.088937             1.207675            1.543425   \n",
       "min          1.000000             1.000000            1.000000   \n",
       "25%               NaN             3.000000            2.000000   \n",
       "50%               NaN             4.000000            4.000000   \n",
       "75%               NaN             5.000000            5.000000   \n",
       "max         10.000000             5.000000            5.000000   \n",
       "\n",
       "       food_beverages_rating  inflight_entertainment_rating  \\\n",
       "count             688.000000                     688.000000   \n",
       "mean                3.453488                       4.190407   \n",
       "std                 1.351322                       1.075096   \n",
       "min                 1.000000                       1.000000   \n",
       "25%                      NaN                            NaN   \n",
       "50%                      NaN                            NaN   \n",
       "75%                      NaN                            NaN   \n",
       "max                 5.000000                       5.000000   \n",
       "\n",
       "       ground_service_rating  wifi_connectivity_rating  value_money_rating  \\\n",
       "count              61.000000                 35.000000          691.000000   \n",
       "mean                3.508197                  3.142857            3.609262   \n",
       "std                 1.409763                  1.497898            1.329978   \n",
       "min                 1.000000                  1.000000            0.000000   \n",
       "25%                      NaN                       NaN            3.000000   \n",
       "50%                      NaN                       NaN            4.000000   \n",
       "75%                      NaN                       NaN            5.000000   \n",
       "max                 5.000000                  5.000000            5.000000   \n",
       "\n",
       "       recommended  \n",
       "count   691.000000  \n",
       "mean      0.615051  \n",
       "std       0.486936  \n",
       "min       0.000000  \n",
       "25%       0.000000  \n",
       "50%       1.000000  \n",
       "75%       1.000000  \n",
       "max       1.000000  "
      ]
     },
     "execution_count": 4,
     "metadata": {},
     "output_type": "execute_result"
    }
   ],
   "source": [
    "df_emi.describe()"
   ]
  },
  {
   "cell_type": "code",
   "execution_count": 5,
   "metadata": {
    "collapsed": false
   },
   "outputs": [
    {
     "name": "stdout",
     "output_type": "stream",
     "text": [
      "<class 'pandas.core.frame.DataFrame'>\n",
      "Int64Index: 691 entries, 14773 to 15808\n",
      "Data columns (total 20 columns):\n",
      "airline_name                     691 non-null object\n",
      "link                             691 non-null object\n",
      "title                            691 non-null object\n",
      "author                           691 non-null object\n",
      "author_country                   690 non-null object\n",
      "date                             691 non-null object\n",
      "content                          691 non-null object\n",
      "aircraft                         50 non-null object\n",
      "type_traveller                   61 non-null object\n",
      "cabin_flown                      691 non-null object\n",
      "route                            61 non-null object\n",
      "overall_rating                   690 non-null float64\n",
      "seat_comfort_rating              691 non-null float64\n",
      "cabin_staff_rating               691 non-null float64\n",
      "food_beverages_rating            688 non-null float64\n",
      "inflight_entertainment_rating    688 non-null float64\n",
      "ground_service_rating            61 non-null float64\n",
      "wifi_connectivity_rating         35 non-null float64\n",
      "value_money_rating               691 non-null float64\n",
      "recommended                      691 non-null int64\n",
      "dtypes: float64(8), int64(1), object(11)\n",
      "memory usage: 113.4+ KB\n"
     ]
    }
   ],
   "source": [
    "df_emi.info()"
   ]
  },
  {
   "cell_type": "markdown",
   "metadata": {},
   "source": [
    "* From these descriptive tables, we see that we only have problem with missing values, but there is no outliers. Note that for some features, we see the min of rating is 0, which is invalid (from 1 to 5) so those are also missing values. \n",
    "* It is noticeable that data for overall rating, recommended and value_money rating are nearly full while rating data for ground service and wifi connectivity are mostly missing. Given this fact, it is highly likely that Emirates airlines do not offer these amenities in some routes. Hence, I replace those missing values by 0 instead of imputed values(mean, median). \n",
    "* The data points with missing values for overall rating will be deleted as it is our main concern. "
   ]
  },
  {
   "cell_type": "markdown",
   "metadata": {},
   "source": [
    "## Data wrangling"
   ]
  },
  {
   "cell_type": "markdown",
   "metadata": {},
   "source": [
    "In the data cleaning step, I do the following:\n",
    "* Only choose data since 2010\n",
    "* Drop data without overall rating\n",
    "* Drop information that is not needed for modelling purpose: link, title, author, author country, date, content, aircraft type, route, recommended\n",
    "* Encode missing values as 0\n",
    "* Get dummies for traveller type and cabin flown "
   ]
  },
  {
   "cell_type": "code",
   "execution_count": 7,
   "metadata": {
    "collapsed": false
   },
   "outputs": [
    {
     "name": "stderr",
     "output_type": "stream",
     "text": [
      "C:\\Users\\Bao Tram\\AppData\\Local\\Continuum\\Anaconda3\\lib\\site-packages\\pandas\\core\\generic.py:2701: SettingWithCopyWarning: \n",
      "A value is trying to be set on a copy of a slice from a DataFrame.\n",
      "Try using .loc[row_indexer,col_indexer] = value instead\n",
      "\n",
      "See the caveats in the documentation: http://pandas.pydata.org/pandas-docs/stable/indexing.html#indexing-view-versus-copy\n",
      "  self[name] = value\n"
     ]
    },
    {
     "data": {
      "text/plain": [
       "(691, 20)"
      ]
     },
     "execution_count": 7,
     "metadata": {},
     "output_type": "execute_result"
    }
   ],
   "source": [
    "df_emi.date=pd.to_datetime(df_emi.date) #change date object into datetime format\n",
    "df_emi=df_emi[df_emi.date>='2010-01-01'] #choose recent dates only\n",
    "df_emi.shape"
   ]
  },
  {
   "cell_type": "code",
   "execution_count": 8,
   "metadata": {
    "collapsed": false
   },
   "outputs": [],
   "source": [
    "#drop data points without overall rating\n",
    "df_clean=df_emi[df_emi['overall_rating'].notnull()]"
   ]
  },
  {
   "cell_type": "code",
   "execution_count": 9,
   "metadata": {
    "collapsed": false
   },
   "outputs": [
    {
     "name": "stderr",
     "output_type": "stream",
     "text": [
      "C:\\Users\\Bao Tram\\AppData\\Local\\Continuum\\Anaconda3\\lib\\site-packages\\ipykernel\\__main__.py:2: SettingWithCopyWarning: \n",
      "A value is trying to be set on a copy of a slice from a DataFrame\n",
      "\n",
      "See the caveats in the documentation: http://pandas.pydata.org/pandas-docs/stable/indexing.html#indexing-view-versus-copy\n",
      "  from ipykernel import kernelapp as app\n"
     ]
    }
   ],
   "source": [
    "#drop some attributes that will not be used in modelling\n",
    "df_clean.drop(['airline_name','link','title','author','author_country','date','content','aircraft','route','recommended'],axis=1, inplace=True)\n"
   ]
  },
  {
   "cell_type": "code",
   "execution_count": 10,
   "metadata": {
    "collapsed": false
   },
   "outputs": [
    {
     "data": {
      "text/html": [
       "<div>\n",
       "<table border=\"1\" class=\"dataframe\">\n",
       "  <thead>\n",
       "    <tr style=\"text-align: right;\">\n",
       "      <th></th>\n",
       "      <th>type_traveller</th>\n",
       "      <th>cabin_flown</th>\n",
       "      <th>overall_rating</th>\n",
       "      <th>seat_comfort_rating</th>\n",
       "      <th>cabin_staff_rating</th>\n",
       "      <th>food_beverages_rating</th>\n",
       "      <th>inflight_entertainment_rating</th>\n",
       "      <th>ground_service_rating</th>\n",
       "      <th>wifi_connectivity_rating</th>\n",
       "      <th>value_money_rating</th>\n",
       "    </tr>\n",
       "  </thead>\n",
       "  <tbody>\n",
       "    <tr>\n",
       "      <th>14773</th>\n",
       "      <td>FamilyLeisure</td>\n",
       "      <td>Economy</td>\n",
       "      <td>5.0</td>\n",
       "      <td>3.0</td>\n",
       "      <td>1.0</td>\n",
       "      <td>2.0</td>\n",
       "      <td>3.0</td>\n",
       "      <td>4.0</td>\n",
       "      <td>3.0</td>\n",
       "      <td>3.0</td>\n",
       "    </tr>\n",
       "    <tr>\n",
       "      <th>14783</th>\n",
       "      <td>Couple Leisure</td>\n",
       "      <td>Business Class</td>\n",
       "      <td>7.0</td>\n",
       "      <td>3.0</td>\n",
       "      <td>3.0</td>\n",
       "      <td>3.0</td>\n",
       "      <td>4.0</td>\n",
       "      <td>2.0</td>\n",
       "      <td>2.0</td>\n",
       "      <td>3.0</td>\n",
       "    </tr>\n",
       "    <tr>\n",
       "      <th>14784</th>\n",
       "      <td>Couple Leisure</td>\n",
       "      <td>Economy</td>\n",
       "      <td>9.0</td>\n",
       "      <td>5.0</td>\n",
       "      <td>4.0</td>\n",
       "      <td>4.0</td>\n",
       "      <td>5.0</td>\n",
       "      <td>4.0</td>\n",
       "      <td>NaN</td>\n",
       "      <td>5.0</td>\n",
       "    </tr>\n",
       "    <tr>\n",
       "      <th>14794</th>\n",
       "      <td>Couple Leisure</td>\n",
       "      <td>Business Class</td>\n",
       "      <td>10.0</td>\n",
       "      <td>5.0</td>\n",
       "      <td>5.0</td>\n",
       "      <td>5.0</td>\n",
       "      <td>5.0</td>\n",
       "      <td>4.0</td>\n",
       "      <td>5.0</td>\n",
       "      <td>4.0</td>\n",
       "    </tr>\n",
       "    <tr>\n",
       "      <th>14795</th>\n",
       "      <td>FamilyLeisure</td>\n",
       "      <td>Economy</td>\n",
       "      <td>6.0</td>\n",
       "      <td>4.0</td>\n",
       "      <td>3.0</td>\n",
       "      <td>5.0</td>\n",
       "      <td>5.0</td>\n",
       "      <td>3.0</td>\n",
       "      <td>1.0</td>\n",
       "      <td>3.0</td>\n",
       "    </tr>\n",
       "  </tbody>\n",
       "</table>\n",
       "</div>"
      ],
      "text/plain": [
       "       type_traveller     cabin_flown  overall_rating  seat_comfort_rating  \\\n",
       "14773   FamilyLeisure         Economy             5.0                  3.0   \n",
       "14783  Couple Leisure  Business Class             7.0                  3.0   \n",
       "14784  Couple Leisure         Economy             9.0                  5.0   \n",
       "14794  Couple Leisure  Business Class            10.0                  5.0   \n",
       "14795   FamilyLeisure         Economy             6.0                  4.0   \n",
       "\n",
       "       cabin_staff_rating  food_beverages_rating  \\\n",
       "14773                 1.0                    2.0   \n",
       "14783                 3.0                    3.0   \n",
       "14784                 4.0                    4.0   \n",
       "14794                 5.0                    5.0   \n",
       "14795                 3.0                    5.0   \n",
       "\n",
       "       inflight_entertainment_rating  ground_service_rating  \\\n",
       "14773                            3.0                    4.0   \n",
       "14783                            4.0                    2.0   \n",
       "14784                            5.0                    4.0   \n",
       "14794                            5.0                    4.0   \n",
       "14795                            5.0                    3.0   \n",
       "\n",
       "       wifi_connectivity_rating  value_money_rating  \n",
       "14773                       3.0                 3.0  \n",
       "14783                       2.0                 3.0  \n",
       "14784                       NaN                 5.0  \n",
       "14794                       5.0                 4.0  \n",
       "14795                       1.0                 3.0  "
      ]
     },
     "execution_count": 10,
     "metadata": {},
     "output_type": "execute_result"
    }
   ],
   "source": [
    "df_clean.head()"
   ]
  },
  {
   "cell_type": "code",
   "execution_count": 11,
   "metadata": {
    "collapsed": false,
    "scrolled": true
   },
   "outputs": [
    {
     "name": "stderr",
     "output_type": "stream",
     "text": [
      "C:\\Users\\Bao Tram\\AppData\\Local\\Continuum\\Anaconda3\\lib\\site-packages\\pandas\\core\\generic.py:3191: SettingWithCopyWarning: \n",
      "A value is trying to be set on a copy of a slice from a DataFrame\n",
      "\n",
      "See the caveats in the documentation: http://pandas.pydata.org/pandas-docs/stable/indexing.html#indexing-view-versus-copy\n",
      "  self._update_inplace(new_data)\n"
     ]
    }
   ],
   "source": [
    "#deal with missing values\n",
    "df_clean=df_clean.fillna({'ground_service_rating':0, 'wifi_connectivity_rating':0,'seat_comfort_rating':0,'cabin_staff_rating':0,'food_beverages_rating':0,'inflight_entertainment_rating':0, 'value_money_rating':0}, inplace=True)\n"
   ]
  },
  {
   "cell_type": "code",
   "execution_count": 12,
   "metadata": {
    "collapsed": false
   },
   "outputs": [],
   "source": [
    "#change types cabin flown and traveler types into category type\n",
    "df_cabin_flown= pd.get_dummies(df_clean['cabin_flown'])\n",
    "df_clean=pd.concat([df_clean, df_cabin_flown], axis=1)\n",
    "df_clean.drop(['cabin_flown'], axis=1, inplace=True)\n",
    "\n",
    "df_type_traveller= pd.get_dummies(df_clean['type_traveller'])\n",
    "df_clean=pd.concat([df_clean, df_type_traveller], axis=1)\n",
    "df_clean.drop(['type_traveller'], axis=1, inplace=True)"
   ]
  },
  {
   "cell_type": "code",
   "execution_count": 13,
   "metadata": {
    "collapsed": false
   },
   "outputs": [
    {
     "data": {
      "text/plain": [
       "False"
      ]
     },
     "execution_count": 13,
     "metadata": {},
     "output_type": "execute_result"
    }
   ],
   "source": [
    "df_clean.isnull().values.any() #check if there are any missing values in dataframe"
   ]
  },
  {
   "cell_type": "code",
   "execution_count": 14,
   "metadata": {
    "collapsed": false
   },
   "outputs": [
    {
     "data": {
      "text/html": [
       "<div>\n",
       "<table border=\"1\" class=\"dataframe\">\n",
       "  <thead>\n",
       "    <tr style=\"text-align: right;\">\n",
       "      <th></th>\n",
       "      <th>overall_rating</th>\n",
       "      <th>seat_comfort_rating</th>\n",
       "      <th>cabin_staff_rating</th>\n",
       "      <th>food_beverages_rating</th>\n",
       "      <th>inflight_entertainment_rating</th>\n",
       "      <th>ground_service_rating</th>\n",
       "      <th>wifi_connectivity_rating</th>\n",
       "      <th>value_money_rating</th>\n",
       "      <th>Business Class</th>\n",
       "      <th>Economy</th>\n",
       "      <th>First Class</th>\n",
       "      <th>Premium Economy</th>\n",
       "      <th>Business</th>\n",
       "      <th>Couple Leisure</th>\n",
       "      <th>FamilyLeisure</th>\n",
       "      <th>Solo Leisure</th>\n",
       "    </tr>\n",
       "  </thead>\n",
       "  <tbody>\n",
       "    <tr>\n",
       "      <th>14773</th>\n",
       "      <td>5.0</td>\n",
       "      <td>3.0</td>\n",
       "      <td>1.0</td>\n",
       "      <td>2.0</td>\n",
       "      <td>3.0</td>\n",
       "      <td>4.0</td>\n",
       "      <td>3.0</td>\n",
       "      <td>3.0</td>\n",
       "      <td>0.0</td>\n",
       "      <td>1.0</td>\n",
       "      <td>0.0</td>\n",
       "      <td>0.0</td>\n",
       "      <td>0.0</td>\n",
       "      <td>0.0</td>\n",
       "      <td>1.0</td>\n",
       "      <td>0.0</td>\n",
       "    </tr>\n",
       "    <tr>\n",
       "      <th>14783</th>\n",
       "      <td>7.0</td>\n",
       "      <td>3.0</td>\n",
       "      <td>3.0</td>\n",
       "      <td>3.0</td>\n",
       "      <td>4.0</td>\n",
       "      <td>2.0</td>\n",
       "      <td>2.0</td>\n",
       "      <td>3.0</td>\n",
       "      <td>1.0</td>\n",
       "      <td>0.0</td>\n",
       "      <td>0.0</td>\n",
       "      <td>0.0</td>\n",
       "      <td>0.0</td>\n",
       "      <td>1.0</td>\n",
       "      <td>0.0</td>\n",
       "      <td>0.0</td>\n",
       "    </tr>\n",
       "    <tr>\n",
       "      <th>14784</th>\n",
       "      <td>9.0</td>\n",
       "      <td>5.0</td>\n",
       "      <td>4.0</td>\n",
       "      <td>4.0</td>\n",
       "      <td>5.0</td>\n",
       "      <td>4.0</td>\n",
       "      <td>0.0</td>\n",
       "      <td>5.0</td>\n",
       "      <td>0.0</td>\n",
       "      <td>1.0</td>\n",
       "      <td>0.0</td>\n",
       "      <td>0.0</td>\n",
       "      <td>0.0</td>\n",
       "      <td>1.0</td>\n",
       "      <td>0.0</td>\n",
       "      <td>0.0</td>\n",
       "    </tr>\n",
       "    <tr>\n",
       "      <th>14794</th>\n",
       "      <td>10.0</td>\n",
       "      <td>5.0</td>\n",
       "      <td>5.0</td>\n",
       "      <td>5.0</td>\n",
       "      <td>5.0</td>\n",
       "      <td>4.0</td>\n",
       "      <td>5.0</td>\n",
       "      <td>4.0</td>\n",
       "      <td>1.0</td>\n",
       "      <td>0.0</td>\n",
       "      <td>0.0</td>\n",
       "      <td>0.0</td>\n",
       "      <td>0.0</td>\n",
       "      <td>1.0</td>\n",
       "      <td>0.0</td>\n",
       "      <td>0.0</td>\n",
       "    </tr>\n",
       "    <tr>\n",
       "      <th>14795</th>\n",
       "      <td>6.0</td>\n",
       "      <td>4.0</td>\n",
       "      <td>3.0</td>\n",
       "      <td>5.0</td>\n",
       "      <td>5.0</td>\n",
       "      <td>3.0</td>\n",
       "      <td>1.0</td>\n",
       "      <td>3.0</td>\n",
       "      <td>0.0</td>\n",
       "      <td>1.0</td>\n",
       "      <td>0.0</td>\n",
       "      <td>0.0</td>\n",
       "      <td>0.0</td>\n",
       "      <td>0.0</td>\n",
       "      <td>1.0</td>\n",
       "      <td>0.0</td>\n",
       "    </tr>\n",
       "  </tbody>\n",
       "</table>\n",
       "</div>"
      ],
      "text/plain": [
       "       overall_rating  seat_comfort_rating  cabin_staff_rating  \\\n",
       "14773             5.0                  3.0                 1.0   \n",
       "14783             7.0                  3.0                 3.0   \n",
       "14784             9.0                  5.0                 4.0   \n",
       "14794            10.0                  5.0                 5.0   \n",
       "14795             6.0                  4.0                 3.0   \n",
       "\n",
       "       food_beverages_rating  inflight_entertainment_rating  \\\n",
       "14773                    2.0                            3.0   \n",
       "14783                    3.0                            4.0   \n",
       "14784                    4.0                            5.0   \n",
       "14794                    5.0                            5.0   \n",
       "14795                    5.0                            5.0   \n",
       "\n",
       "       ground_service_rating  wifi_connectivity_rating  value_money_rating  \\\n",
       "14773                    4.0                       3.0                 3.0   \n",
       "14783                    2.0                       2.0                 3.0   \n",
       "14784                    4.0                       0.0                 5.0   \n",
       "14794                    4.0                       5.0                 4.0   \n",
       "14795                    3.0                       1.0                 3.0   \n",
       "\n",
       "       Business Class  Economy  First Class  Premium Economy  Business  \\\n",
       "14773             0.0      1.0          0.0              0.0       0.0   \n",
       "14783             1.0      0.0          0.0              0.0       0.0   \n",
       "14784             0.0      1.0          0.0              0.0       0.0   \n",
       "14794             1.0      0.0          0.0              0.0       0.0   \n",
       "14795             0.0      1.0          0.0              0.0       0.0   \n",
       "\n",
       "       Couple Leisure  FamilyLeisure  Solo Leisure  \n",
       "14773             0.0            1.0           0.0  \n",
       "14783             1.0            0.0           0.0  \n",
       "14784             1.0            0.0           0.0  \n",
       "14794             1.0            0.0           0.0  \n",
       "14795             0.0            1.0           0.0  "
      ]
     },
     "execution_count": 14,
     "metadata": {},
     "output_type": "execute_result"
    }
   ],
   "source": [
    "df_clean.head()"
   ]
  },
  {
   "cell_type": "code",
   "execution_count": 15,
   "metadata": {
    "collapsed": false
   },
   "outputs": [
    {
     "data": {
      "text/plain": [
       "(690, 16)"
      ]
     },
     "execution_count": 15,
     "metadata": {},
     "output_type": "execute_result"
    }
   ],
   "source": [
    "df_clean.shape"
   ]
  },
  {
   "cell_type": "markdown",
   "metadata": {},
   "source": [
    "## Descriptive analysis"
   ]
  },
  {
   "cell_type": "code",
   "execution_count": 16,
   "metadata": {
    "collapsed": false
   },
   "outputs": [
    {
     "data": {
      "text/html": [
       "<div>\n",
       "<table border=\"1\" class=\"dataframe\">\n",
       "  <thead>\n",
       "    <tr style=\"text-align: right;\">\n",
       "      <th></th>\n",
       "      <th>overall_rating</th>\n",
       "      <th>seat_comfort_rating</th>\n",
       "      <th>cabin_staff_rating</th>\n",
       "      <th>food_beverages_rating</th>\n",
       "      <th>inflight_entertainment_rating</th>\n",
       "      <th>ground_service_rating</th>\n",
       "      <th>wifi_connectivity_rating</th>\n",
       "      <th>value_money_rating</th>\n",
       "      <th>Business Class</th>\n",
       "      <th>Economy</th>\n",
       "      <th>First Class</th>\n",
       "      <th>Premium Economy</th>\n",
       "      <th>Business</th>\n",
       "      <th>Couple Leisure</th>\n",
       "      <th>FamilyLeisure</th>\n",
       "      <th>Solo Leisure</th>\n",
       "    </tr>\n",
       "  </thead>\n",
       "  <tbody>\n",
       "    <tr>\n",
       "      <th>overall_rating</th>\n",
       "      <td>1.000000</td>\n",
       "      <td>0.670180</td>\n",
       "      <td>0.810329</td>\n",
       "      <td>0.772947</td>\n",
       "      <td>0.568852</td>\n",
       "      <td>0.103665</td>\n",
       "      <td>0.064943</td>\n",
       "      <td>0.829394</td>\n",
       "      <td>0.074364</td>\n",
       "      <td>-0.120849</td>\n",
       "      <td>0.099232</td>\n",
       "      <td>0.046328</td>\n",
       "      <td>0.088609</td>\n",
       "      <td>0.075582</td>\n",
       "      <td>-0.057244</td>\n",
       "      <td>0.002258</td>\n",
       "    </tr>\n",
       "    <tr>\n",
       "      <th>seat_comfort_rating</th>\n",
       "      <td>0.670180</td>\n",
       "      <td>1.000000</td>\n",
       "      <td>0.551196</td>\n",
       "      <td>0.505741</td>\n",
       "      <td>0.459390</td>\n",
       "      <td>0.112242</td>\n",
       "      <td>0.117953</td>\n",
       "      <td>0.603930</td>\n",
       "      <td>0.106063</td>\n",
       "      <td>-0.176245</td>\n",
       "      <td>0.153644</td>\n",
       "      <td>0.044313</td>\n",
       "      <td>0.070033</td>\n",
       "      <td>0.035002</td>\n",
       "      <td>0.012336</td>\n",
       "      <td>0.002804</td>\n",
       "    </tr>\n",
       "    <tr>\n",
       "      <th>cabin_staff_rating</th>\n",
       "      <td>0.810329</td>\n",
       "      <td>0.551196</td>\n",
       "      <td>1.000000</td>\n",
       "      <td>0.735693</td>\n",
       "      <td>0.435756</td>\n",
       "      <td>0.105153</td>\n",
       "      <td>0.044169</td>\n",
       "      <td>0.711109</td>\n",
       "      <td>0.147460</td>\n",
       "      <td>-0.185545</td>\n",
       "      <td>0.089168</td>\n",
       "      <td>0.042244</td>\n",
       "      <td>0.093723</td>\n",
       "      <td>0.068379</td>\n",
       "      <td>-0.061072</td>\n",
       "      <td>0.004832</td>\n",
       "    </tr>\n",
       "    <tr>\n",
       "      <th>food_beverages_rating</th>\n",
       "      <td>0.772947</td>\n",
       "      <td>0.505741</td>\n",
       "      <td>0.735693</td>\n",
       "      <td>1.000000</td>\n",
       "      <td>0.521793</td>\n",
       "      <td>0.062415</td>\n",
       "      <td>0.069900</td>\n",
       "      <td>0.687278</td>\n",
       "      <td>0.028939</td>\n",
       "      <td>-0.090893</td>\n",
       "      <td>0.128433</td>\n",
       "      <td>0.043507</td>\n",
       "      <td>0.072633</td>\n",
       "      <td>0.054413</td>\n",
       "      <td>-0.058801</td>\n",
       "      <td>-0.020301</td>\n",
       "    </tr>\n",
       "    <tr>\n",
       "      <th>inflight_entertainment_rating</th>\n",
       "      <td>0.568852</td>\n",
       "      <td>0.459390</td>\n",
       "      <td>0.435756</td>\n",
       "      <td>0.521793</td>\n",
       "      <td>1.000000</td>\n",
       "      <td>0.023675</td>\n",
       "      <td>0.044062</td>\n",
       "      <td>0.543963</td>\n",
       "      <td>0.032046</td>\n",
       "      <td>-0.079792</td>\n",
       "      <td>0.100829</td>\n",
       "      <td>0.028443</td>\n",
       "      <td>0.027528</td>\n",
       "      <td>0.059177</td>\n",
       "      <td>-0.081091</td>\n",
       "      <td>-0.066321</td>\n",
       "    </tr>\n",
       "    <tr>\n",
       "      <th>ground_service_rating</th>\n",
       "      <td>0.103665</td>\n",
       "      <td>0.112242</td>\n",
       "      <td>0.105153</td>\n",
       "      <td>0.062415</td>\n",
       "      <td>0.023675</td>\n",
       "      <td>1.000000</td>\n",
       "      <td>0.678599</td>\n",
       "      <td>0.070685</td>\n",
       "      <td>-0.090116</td>\n",
       "      <td>0.063622</td>\n",
       "      <td>0.049846</td>\n",
       "      <td>-0.010948</td>\n",
       "      <td>0.334688</td>\n",
       "      <td>0.424046</td>\n",
       "      <td>0.482897</td>\n",
       "      <td>0.527587</td>\n",
       "    </tr>\n",
       "    <tr>\n",
       "      <th>wifi_connectivity_rating</th>\n",
       "      <td>0.064943</td>\n",
       "      <td>0.117953</td>\n",
       "      <td>0.044169</td>\n",
       "      <td>0.069900</td>\n",
       "      <td>0.044062</td>\n",
       "      <td>0.678599</td>\n",
       "      <td>1.000000</td>\n",
       "      <td>0.060752</td>\n",
       "      <td>-0.033380</td>\n",
       "      <td>-0.017401</td>\n",
       "      <td>0.107143</td>\n",
       "      <td>-0.007933</td>\n",
       "      <td>0.163993</td>\n",
       "      <td>0.392229</td>\n",
       "      <td>0.360858</td>\n",
       "      <td>0.348791</td>\n",
       "    </tr>\n",
       "    <tr>\n",
       "      <th>value_money_rating</th>\n",
       "      <td>0.829394</td>\n",
       "      <td>0.603930</td>\n",
       "      <td>0.711109</td>\n",
       "      <td>0.687278</td>\n",
       "      <td>0.543963</td>\n",
       "      <td>0.070685</td>\n",
       "      <td>0.060752</td>\n",
       "      <td>1.000000</td>\n",
       "      <td>-0.004692</td>\n",
       "      <td>-0.018545</td>\n",
       "      <td>0.047525</td>\n",
       "      <td>0.011115</td>\n",
       "      <td>0.050866</td>\n",
       "      <td>0.063894</td>\n",
       "      <td>-0.052787</td>\n",
       "      <td>-0.005559</td>\n",
       "    </tr>\n",
       "    <tr>\n",
       "      <th>Business Class</th>\n",
       "      <td>0.074364</td>\n",
       "      <td>0.106063</td>\n",
       "      <td>0.147460</td>\n",
       "      <td>0.028939</td>\n",
       "      <td>0.032046</td>\n",
       "      <td>-0.090116</td>\n",
       "      <td>-0.033380</td>\n",
       "      <td>-0.004692</td>\n",
       "      <td>1.000000</td>\n",
       "      <td>-0.884454</td>\n",
       "      <td>-0.144568</td>\n",
       "      <td>-0.023826</td>\n",
       "      <td>0.010869</td>\n",
       "      <td>-0.009221</td>\n",
       "      <td>-0.095148</td>\n",
       "      <td>-0.073271</td>\n",
       "    </tr>\n",
       "    <tr>\n",
       "      <th>Economy</th>\n",
       "      <td>-0.120849</td>\n",
       "      <td>-0.176245</td>\n",
       "      <td>-0.185545</td>\n",
       "      <td>-0.090893</td>\n",
       "      <td>-0.079792</td>\n",
       "      <td>0.063622</td>\n",
       "      <td>-0.017401</td>\n",
       "      <td>-0.018545</td>\n",
       "      <td>-0.884454</td>\n",
       "      <td>1.000000</td>\n",
       "      <td>-0.326910</td>\n",
       "      <td>-0.053877</td>\n",
       "      <td>-0.066227</td>\n",
       "      <td>-0.023518</td>\n",
       "      <td>0.093327</td>\n",
       "      <td>0.089486</td>\n",
       "    </tr>\n",
       "    <tr>\n",
       "      <th>First Class</th>\n",
       "      <td>0.099232</td>\n",
       "      <td>0.153644</td>\n",
       "      <td>0.089168</td>\n",
       "      <td>0.128433</td>\n",
       "      <td>0.100829</td>\n",
       "      <td>0.049846</td>\n",
       "      <td>0.107143</td>\n",
       "      <td>0.047525</td>\n",
       "      <td>-0.144568</td>\n",
       "      <td>-0.326910</td>\n",
       "      <td>1.000000</td>\n",
       "      <td>-0.008807</td>\n",
       "      <td>0.120622</td>\n",
       "      <td>0.070293</td>\n",
       "      <td>-0.004358</td>\n",
       "      <td>-0.040955</td>\n",
       "    </tr>\n",
       "    <tr>\n",
       "      <th>Premium Economy</th>\n",
       "      <td>0.046328</td>\n",
       "      <td>0.044313</td>\n",
       "      <td>0.042244</td>\n",
       "      <td>0.043507</td>\n",
       "      <td>0.028443</td>\n",
       "      <td>-0.010948</td>\n",
       "      <td>-0.007933</td>\n",
       "      <td>0.011115</td>\n",
       "      <td>-0.023826</td>\n",
       "      <td>-0.053877</td>\n",
       "      <td>-0.008807</td>\n",
       "      <td>1.000000</td>\n",
       "      <td>-0.003568</td>\n",
       "      <td>-0.005068</td>\n",
       "      <td>-0.006914</td>\n",
       "      <td>-0.006750</td>\n",
       "    </tr>\n",
       "    <tr>\n",
       "      <th>Business</th>\n",
       "      <td>0.088609</td>\n",
       "      <td>0.070033</td>\n",
       "      <td>0.093723</td>\n",
       "      <td>0.072633</td>\n",
       "      <td>0.027528</td>\n",
       "      <td>0.334688</td>\n",
       "      <td>0.163993</td>\n",
       "      <td>0.050866</td>\n",
       "      <td>0.010869</td>\n",
       "      <td>-0.066227</td>\n",
       "      <td>0.120622</td>\n",
       "      <td>-0.003568</td>\n",
       "      <td>1.000000</td>\n",
       "      <td>-0.012460</td>\n",
       "      <td>-0.016997</td>\n",
       "      <td>-0.016594</td>\n",
       "    </tr>\n",
       "    <tr>\n",
       "      <th>Couple Leisure</th>\n",
       "      <td>0.075582</td>\n",
       "      <td>0.035002</td>\n",
       "      <td>0.068379</td>\n",
       "      <td>0.054413</td>\n",
       "      <td>0.059177</td>\n",
       "      <td>0.424046</td>\n",
       "      <td>0.392229</td>\n",
       "      <td>0.063894</td>\n",
       "      <td>-0.009221</td>\n",
       "      <td>-0.023518</td>\n",
       "      <td>0.070293</td>\n",
       "      <td>-0.005068</td>\n",
       "      <td>-0.012460</td>\n",
       "      <td>1.000000</td>\n",
       "      <td>-0.024143</td>\n",
       "      <td>-0.023571</td>\n",
       "    </tr>\n",
       "    <tr>\n",
       "      <th>FamilyLeisure</th>\n",
       "      <td>-0.057244</td>\n",
       "      <td>0.012336</td>\n",
       "      <td>-0.061072</td>\n",
       "      <td>-0.058801</td>\n",
       "      <td>-0.081091</td>\n",
       "      <td>0.482897</td>\n",
       "      <td>0.360858</td>\n",
       "      <td>-0.052787</td>\n",
       "      <td>-0.095148</td>\n",
       "      <td>0.093327</td>\n",
       "      <td>-0.004358</td>\n",
       "      <td>-0.006914</td>\n",
       "      <td>-0.016997</td>\n",
       "      <td>-0.024143</td>\n",
       "      <td>1.000000</td>\n",
       "      <td>-0.032153</td>\n",
       "    </tr>\n",
       "    <tr>\n",
       "      <th>Solo Leisure</th>\n",
       "      <td>0.002258</td>\n",
       "      <td>0.002804</td>\n",
       "      <td>0.004832</td>\n",
       "      <td>-0.020301</td>\n",
       "      <td>-0.066321</td>\n",
       "      <td>0.527587</td>\n",
       "      <td>0.348791</td>\n",
       "      <td>-0.005559</td>\n",
       "      <td>-0.073271</td>\n",
       "      <td>0.089486</td>\n",
       "      <td>-0.040955</td>\n",
       "      <td>-0.006750</td>\n",
       "      <td>-0.016594</td>\n",
       "      <td>-0.023571</td>\n",
       "      <td>-0.032153</td>\n",
       "      <td>1.000000</td>\n",
       "    </tr>\n",
       "  </tbody>\n",
       "</table>\n",
       "</div>"
      ],
      "text/plain": [
       "                               overall_rating  seat_comfort_rating  \\\n",
       "overall_rating                       1.000000             0.670180   \n",
       "seat_comfort_rating                  0.670180             1.000000   \n",
       "cabin_staff_rating                   0.810329             0.551196   \n",
       "food_beverages_rating                0.772947             0.505741   \n",
       "inflight_entertainment_rating        0.568852             0.459390   \n",
       "ground_service_rating                0.103665             0.112242   \n",
       "wifi_connectivity_rating             0.064943             0.117953   \n",
       "value_money_rating                   0.829394             0.603930   \n",
       "Business Class                       0.074364             0.106063   \n",
       "Economy                             -0.120849            -0.176245   \n",
       "First Class                          0.099232             0.153644   \n",
       "Premium Economy                      0.046328             0.044313   \n",
       "Business                             0.088609             0.070033   \n",
       "Couple Leisure                       0.075582             0.035002   \n",
       "FamilyLeisure                       -0.057244             0.012336   \n",
       "Solo Leisure                         0.002258             0.002804   \n",
       "\n",
       "                               cabin_staff_rating  food_beverages_rating  \\\n",
       "overall_rating                           0.810329               0.772947   \n",
       "seat_comfort_rating                      0.551196               0.505741   \n",
       "cabin_staff_rating                       1.000000               0.735693   \n",
       "food_beverages_rating                    0.735693               1.000000   \n",
       "inflight_entertainment_rating            0.435756               0.521793   \n",
       "ground_service_rating                    0.105153               0.062415   \n",
       "wifi_connectivity_rating                 0.044169               0.069900   \n",
       "value_money_rating                       0.711109               0.687278   \n",
       "Business Class                           0.147460               0.028939   \n",
       "Economy                                 -0.185545              -0.090893   \n",
       "First Class                              0.089168               0.128433   \n",
       "Premium Economy                          0.042244               0.043507   \n",
       "Business                                 0.093723               0.072633   \n",
       "Couple Leisure                           0.068379               0.054413   \n",
       "FamilyLeisure                           -0.061072              -0.058801   \n",
       "Solo Leisure                             0.004832              -0.020301   \n",
       "\n",
       "                               inflight_entertainment_rating  \\\n",
       "overall_rating                                      0.568852   \n",
       "seat_comfort_rating                                 0.459390   \n",
       "cabin_staff_rating                                  0.435756   \n",
       "food_beverages_rating                               0.521793   \n",
       "inflight_entertainment_rating                       1.000000   \n",
       "ground_service_rating                               0.023675   \n",
       "wifi_connectivity_rating                            0.044062   \n",
       "value_money_rating                                  0.543963   \n",
       "Business Class                                      0.032046   \n",
       "Economy                                            -0.079792   \n",
       "First Class                                         0.100829   \n",
       "Premium Economy                                     0.028443   \n",
       "Business                                            0.027528   \n",
       "Couple Leisure                                      0.059177   \n",
       "FamilyLeisure                                      -0.081091   \n",
       "Solo Leisure                                       -0.066321   \n",
       "\n",
       "                               ground_service_rating  \\\n",
       "overall_rating                              0.103665   \n",
       "seat_comfort_rating                         0.112242   \n",
       "cabin_staff_rating                          0.105153   \n",
       "food_beverages_rating                       0.062415   \n",
       "inflight_entertainment_rating               0.023675   \n",
       "ground_service_rating                       1.000000   \n",
       "wifi_connectivity_rating                    0.678599   \n",
       "value_money_rating                          0.070685   \n",
       "Business Class                             -0.090116   \n",
       "Economy                                     0.063622   \n",
       "First Class                                 0.049846   \n",
       "Premium Economy                            -0.010948   \n",
       "Business                                    0.334688   \n",
       "Couple Leisure                              0.424046   \n",
       "FamilyLeisure                               0.482897   \n",
       "Solo Leisure                                0.527587   \n",
       "\n",
       "                               wifi_connectivity_rating  value_money_rating  \\\n",
       "overall_rating                                 0.064943            0.829394   \n",
       "seat_comfort_rating                            0.117953            0.603930   \n",
       "cabin_staff_rating                             0.044169            0.711109   \n",
       "food_beverages_rating                          0.069900            0.687278   \n",
       "inflight_entertainment_rating                  0.044062            0.543963   \n",
       "ground_service_rating                          0.678599            0.070685   \n",
       "wifi_connectivity_rating                       1.000000            0.060752   \n",
       "value_money_rating                             0.060752            1.000000   \n",
       "Business Class                                -0.033380           -0.004692   \n",
       "Economy                                       -0.017401           -0.018545   \n",
       "First Class                                    0.107143            0.047525   \n",
       "Premium Economy                               -0.007933            0.011115   \n",
       "Business                                       0.163993            0.050866   \n",
       "Couple Leisure                                 0.392229            0.063894   \n",
       "FamilyLeisure                                  0.360858           -0.052787   \n",
       "Solo Leisure                                   0.348791           -0.005559   \n",
       "\n",
       "                               Business Class   Economy  First Class  \\\n",
       "overall_rating                       0.074364 -0.120849     0.099232   \n",
       "seat_comfort_rating                  0.106063 -0.176245     0.153644   \n",
       "cabin_staff_rating                   0.147460 -0.185545     0.089168   \n",
       "food_beverages_rating                0.028939 -0.090893     0.128433   \n",
       "inflight_entertainment_rating        0.032046 -0.079792     0.100829   \n",
       "ground_service_rating               -0.090116  0.063622     0.049846   \n",
       "wifi_connectivity_rating            -0.033380 -0.017401     0.107143   \n",
       "value_money_rating                  -0.004692 -0.018545     0.047525   \n",
       "Business Class                       1.000000 -0.884454    -0.144568   \n",
       "Economy                             -0.884454  1.000000    -0.326910   \n",
       "First Class                         -0.144568 -0.326910     1.000000   \n",
       "Premium Economy                     -0.023826 -0.053877    -0.008807   \n",
       "Business                             0.010869 -0.066227     0.120622   \n",
       "Couple Leisure                      -0.009221 -0.023518     0.070293   \n",
       "FamilyLeisure                       -0.095148  0.093327    -0.004358   \n",
       "Solo Leisure                        -0.073271  0.089486    -0.040955   \n",
       "\n",
       "                               Premium Economy  Business  Couple Leisure  \\\n",
       "overall_rating                        0.046328  0.088609        0.075582   \n",
       "seat_comfort_rating                   0.044313  0.070033        0.035002   \n",
       "cabin_staff_rating                    0.042244  0.093723        0.068379   \n",
       "food_beverages_rating                 0.043507  0.072633        0.054413   \n",
       "inflight_entertainment_rating         0.028443  0.027528        0.059177   \n",
       "ground_service_rating                -0.010948  0.334688        0.424046   \n",
       "wifi_connectivity_rating             -0.007933  0.163993        0.392229   \n",
       "value_money_rating                    0.011115  0.050866        0.063894   \n",
       "Business Class                       -0.023826  0.010869       -0.009221   \n",
       "Economy                              -0.053877 -0.066227       -0.023518   \n",
       "First Class                          -0.008807  0.120622        0.070293   \n",
       "Premium Economy                       1.000000 -0.003568       -0.005068   \n",
       "Business                             -0.003568  1.000000       -0.012460   \n",
       "Couple Leisure                       -0.005068 -0.012460        1.000000   \n",
       "FamilyLeisure                        -0.006914 -0.016997       -0.024143   \n",
       "Solo Leisure                         -0.006750 -0.016594       -0.023571   \n",
       "\n",
       "                               FamilyLeisure  Solo Leisure  \n",
       "overall_rating                     -0.057244      0.002258  \n",
       "seat_comfort_rating                 0.012336      0.002804  \n",
       "cabin_staff_rating                 -0.061072      0.004832  \n",
       "food_beverages_rating              -0.058801     -0.020301  \n",
       "inflight_entertainment_rating      -0.081091     -0.066321  \n",
       "ground_service_rating               0.482897      0.527587  \n",
       "wifi_connectivity_rating            0.360858      0.348791  \n",
       "value_money_rating                 -0.052787     -0.005559  \n",
       "Business Class                     -0.095148     -0.073271  \n",
       "Economy                             0.093327      0.089486  \n",
       "First Class                        -0.004358     -0.040955  \n",
       "Premium Economy                    -0.006914     -0.006750  \n",
       "Business                           -0.016997     -0.016594  \n",
       "Couple Leisure                     -0.024143     -0.023571  \n",
       "FamilyLeisure                       1.000000     -0.032153  \n",
       "Solo Leisure                       -0.032153      1.000000  "
      ]
     },
     "execution_count": 16,
     "metadata": {},
     "output_type": "execute_result"
    }
   ],
   "source": [
    "df_clean.corr()"
   ]
  },
  {
   "cell_type": "markdown",
   "metadata": {},
   "source": [
    "*From the above table, we see that there are much correlations between cabin staff, food beverages rating and value money rating. Hence, there might be huge bias in case of OLS due to multi-colinearity*"
   ]
  },
  {
   "cell_type": "code",
   "execution_count": 17,
   "metadata": {
    "collapsed": false
   },
   "outputs": [
    {
     "data": {
      "image/png": "[encoded data removed]",
      "text/plain": [
       "<matplotlib.figure.Figure at 0x233c37bfac8>"
      ]
     },
     "metadata": {},
     "output_type": "display_data"
    }
   ],
   "source": [
    "df_emi['year']=df_emi.date.dt.year\n",
    "df_emi.groupby('year')[['overall_rating']].mean().plot()\n",
    "plt.title('Overall rating over years')\n",
    "plt.yticks(np.arange(0,10,1))\n",
    "plt.legend().remove()\n",
    "plt.show()"
   ]
  },
  {
   "cell_type": "markdown",
   "metadata": {},
   "source": [
    "*The overall rating has risen slightly from around 5.7 to 6.0 point on scale of 10 in 2010-2015 period, which may suggest there has not been much improvement in rating for Emirates airlines.* "
   ]
  },
  {
   "cell_type": "code",
   "execution_count": 114,
   "metadata": {
    "collapsed": false
   },
   "outputs": [
    {
     "data": {
      "image/png": "[encoded data removed]",
      "text/plain": [
       "<matplotlib.figure.Figure at 0x233c4bff668>"
      ]
     },
     "metadata": {},
     "output_type": "display_data"
    }
   ],
   "source": [
    "df_emi.groupby('cabin_flown')[['overall_rating']].mean().plot(kind='bar')\n",
    "plt.title('Overall rating over each cabin flown type')\n",
    "plt.legend().remove()\n",
    "plt.show()"
   ]
  },
  {
   "cell_type": "code",
   "execution_count": 19,
   "metadata": {
    "collapsed": false
   },
   "outputs": [
    {
     "data": {
      "text/plain": [
       "cabin_flown\n",
       "Business Class     194\n",
       "Economy            461\n",
       "First Class         35\n",
       "Premium Economy      1\n",
       "dtype: int64"
      ]
     },
     "execution_count": 19,
     "metadata": {},
     "output_type": "execute_result"
    }
   ],
   "source": [
    "df_emi.groupby('cabin_flown').size()"
   ]
  },
  {
   "cell_type": "markdown",
   "metadata": {},
   "source": [
    "*The rating is similar for economy and business class (around 6.5), while first class seems to enjoy more for Emirates service (nearly 8/10). There is only 1 data point for premium economy class, so we cannot infer much from this.*"
   ]
  },
  {
   "cell_type": "code",
   "execution_count": 20,
   "metadata": {
    "collapsed": false
   },
   "outputs": [
    {
     "data": {
      "image/png": "[encoded data removed]",
      "text/plain": [
       "<matplotlib.figure.Figure at 0x233c3923a58>"
      ]
     },
     "metadata": {},
     "output_type": "display_data"
    }
   ],
   "source": [
    "df_emi.groupby('type_traveller')[['overall_rating']].mean().plot(kind='bar')\n",
    "plt.title('Overall rating over traveller type')\n",
    "plt.yticks(np.arange(0,10,1))\n",
    "plt.legend().remove()\n",
    "plt.show()"
   ]
  },
  {
   "cell_type": "markdown",
   "metadata": {},
   "source": [
    "*Business and couple show much more preference in Emirate services while family and solo traveller seem rather dissatisfied (less than 6 score).*"
   ]
  },
  {
   "cell_type": "code",
   "execution_count": 21,
   "metadata": {
    "collapsed": false
   },
   "outputs": [
    {
     "data": {
      "text/plain": [
       "Ttest_indResult(statistic=4.1861727820116901, pvalue=0.00010667963246993432)"
      ]
     },
     "execution_count": 21,
     "metadata": {},
     "output_type": "execute_result"
    }
   ],
   "source": [
    "# Test Ho: the mean of overall rating for business/couple and family/solo traveller are equal\n",
    "bi_cou=df_emi[(df_emi.type_traveller=='Business')|(df_emi.type_traveller=='Couple Leisure')].overall_rating\n",
    "fa_solo=df_emi[(df_emi.type_traveller=='FamilyLeisure')|(df_emi.type_traveller=='Solo Leisure')].overall_rating\n",
    "stats.ttest_ind_from_stats(bi_cou.mean(), bi_cou.std(),len(bi_cou),fa_solo.mean(), fa_solo.std(),len(fa_solo), equal_var=False)"
   ]
  },
  {
   "cell_type": "markdown",
   "metadata": {},
   "source": [
    "*p_value< 0.01, so we can reject the null hypothesis. We may then continue to segment to see what accounts for the difference* "
   ]
  },
  {
   "cell_type": "code",
   "execution_count": 115,
   "metadata": {
    "collapsed": false
   },
   "outputs": [
    {
     "data": {
      "text/plain": [
       "type_traveller\n",
       "Business           6\n",
       "Couple Leisure    12\n",
       "FamilyLeisure     22\n",
       "Solo Leisure      21\n",
       "dtype: int64"
      ]
     },
     "execution_count": 115,
     "metadata": {},
     "output_type": "execute_result"
    }
   ],
   "source": [
    "df_emi.groupby(['type_traveller']).size()"
   ]
  },
  {
   "cell_type": "code",
   "execution_count": 122,
   "metadata": {
    "collapsed": false
   },
   "outputs": [
    {
     "data": {
      "image/png": "[encoded data removed]",
      "text/plain": [
       "<matplotlib.figure.Figure at 0x233c48671d0>"
      ]
     },
     "metadata": {},
     "output_type": "display_data"
    }
   ],
   "source": [
    "df_emi.groupby('type_traveller')[['inflight_entertainment_rating','food_beverages_rating','cabin_staff_rating','seat_comfort_rating','ground_service_rating','wifi_connectivity_rating','value_money_rating']].mean().plot(kind='bar')\n",
    "plt.title('Feature ratings over traveller type')\n",
    "plt.legend().remove()\n",
    "plt.show()"
   ]
  },
  {
   "cell_type": "code",
   "execution_count": 110,
   "metadata": {
    "collapsed": false
   },
   "outputs": [
    {
     "data": {
      "text/plain": [
       "Ttest_indResult(statistic=3.7196955548938462, pvalue=0.00051275623888871811)"
      ]
     },
     "execution_count": 110,
     "metadata": {},
     "output_type": "execute_result"
    }
   ],
   "source": [
    "# Test Ho: the mean of cabin staff rating for business/couple and family/solo traveller are equal\n",
    "bi_cou=df_emi[(df_emi.type_traveller=='Business')|(df_emi.type_traveller=='Couple Leisure')].cabin_staff_rating\n",
    "fa_solo=df_emi[(df_emi.type_traveller=='FamilyLeisure')|(df_emi.type_traveller=='Solo Leisure')].cabin_staff_rating\n",
    "stats.ttest_ind_from_stats(bi_cou.mean(), bi_cou.std(),len(bi_cou),fa_solo.mean(), fa_solo.std(),len(fa_solo), equal_var=False)"
   ]
  },
  {
   "cell_type": "markdown",
   "metadata": {},
   "source": [
    " *Cabin staff and value money ratings are significantly lower for Family and Solo travellers than Business or couple.*"
   ]
  },
  {
   "cell_type": "code",
   "execution_count": 22,
   "metadata": {
    "collapsed": false
   },
   "outputs": [
    {
     "data": {
      "image/png": "[encoded data removed]",
      "text/plain": [
       "<matplotlib.figure.Figure at 0x233c3cc2e48>"
      ]
     },
     "metadata": {},
     "output_type": "display_data"
    }
   ],
   "source": [
    "df_emi.groupby('recommended')[['overall_rating']].mean().plot(kind='bar')\n",
    "plt.title('Correlation between overall rating and being recommended')\n",
    "plt.yticks(np.arange(0,10,1))\n",
    "plt.legend().remove()\n",
    "plt.show()"
   ]
  },
  {
   "cell_type": "markdown",
   "metadata": {},
   "source": [
    "*This shows strong positive correlation between overall rating and being recommended. Hence, we only choose one for our analysis* "
   ]
  },
  {
   "cell_type": "code",
   "execution_count": 23,
   "metadata": {
    "collapsed": false
   },
   "outputs": [
    {
     "data": {
      "image/png": "[encoded data removed]",
      "text/plain": [
       "<matplotlib.figure.Figure at 0x233c3d2f780>"
      ]
     },
     "metadata": {},
     "output_type": "display_data"
    }
   ],
   "source": [
    "df_emi.groupby('food_beverages_rating')[['overall_rating']].mean().plot(kind='bar')\n",
    "plt.title('Correlation between overall rating and food beverage rating')\n",
    "plt.yticks(np.arange(0,10,1))\n",
    "plt.legend().remove()\n",
    "plt.show()"
   ]
  },
  {
   "cell_type": "markdown",
   "metadata": {},
   "source": [
    "*This relationship also makes sense. The higher score for food beverages, the higher the overall score.*"
   ]
  },
  {
   "cell_type": "code",
   "execution_count": 24,
   "metadata": {
    "collapsed": false
   },
   "outputs": [
    {
     "data": {
      "image/png": "[encoded data removed]",
      "text/plain": [
       "<matplotlib.figure.Figure at 0x233c3daa2e8>"
      ]
     },
     "metadata": {},
     "output_type": "display_data"
    }
   ],
   "source": [
    "df_emi.groupby('inflight_entertainment_rating')[['overall_rating']].mean().plot(kind='bar')\n",
    "plt.title('Correlation between overall rating and inflight entertainment')\n",
    "plt.yticks(np.arange(0,10,1))\n",
    "plt.legend().remove()\n",
    "plt.show()"
   ]
  },
  {
   "cell_type": "markdown",
   "metadata": {},
   "source": [
    "## Modelling"
   ]
  },
  {
   "cell_type": "markdown",
   "metadata": {},
   "source": [
    "In order to get the most important features that may affect overall rating, the following steps are conducted:\n",
    "    * Classifiers: OLS, Ridge regression,  Random forest\n",
    "    * Divide dataset into train/testset (0.75/0.25), grid search and cross validation with 5 folds \n",
    "    * Metrics: mean squared error"
   ]
  },
  {
   "cell_type": "code",
   "execution_count": 25,
   "metadata": {
    "collapsed": false
   },
   "outputs": [],
   "source": [
    "y=df_clean.overall_rating\n",
    "X=df_clean.drop(['overall_rating'], axis=1)"
   ]
  },
  {
   "cell_type": "code",
   "execution_count": 26,
   "metadata": {
    "collapsed": false
   },
   "outputs": [],
   "source": [
    "from sklearn.model_selection import train_test_split\n",
    "Xlr, Xtestlr, ylr, ytestlr = train_test_split(X,y,random_state=1)\n",
    "from sklearn.metrics import mean_squared_error"
   ]
  },
  {
   "cell_type": "markdown",
   "metadata": {},
   "source": [
    "### Linear regression with and without Ridge regularization"
   ]
  },
  {
   "cell_type": "code",
   "execution_count": 32,
   "metadata": {
    "collapsed": false
   },
   "outputs": [
    {
     "name": "stdout",
     "output_type": "stream",
     "text": [
      "{'alpha': 70}\n",
      "mean squared error on train set 1.63583487675\n",
      "mean squared error on test set: 1.7125700034\n"
     ]
    }
   ],
   "source": [
    "from sklearn.linear_model import Ridge\n",
    "from sklearn.model_selection import GridSearchCV\n",
    "model = Ridge()\n",
    "model.fit(Xlr, ylr)\n",
    "param_grid = {'alpha':[0,0.1,0.5,0.7,1.0,5.0,7.0, 10.0,12,15,20,25,70,80,100]} #alpha=0 is actually OLS regression\n",
    "grid = GridSearchCV(model, param_grid, scoring='neg_mean_squared_error')\n",
    "grid.fit(Xlr, ylr)\n",
    "best_params = grid.best_params_\n",
    "model = grid.best_estimator_\n",
    "score = grid.best_score_\n",
    "\n",
    "print(str(best_params))\n",
    "print('mean squared error on train set',abs(score))\n",
    "print('mean squared error on test set:', mean_squared_error(ytestlr,model.predict(Xtestlr)))"
   ]
  },
  {
   "cell_type": "markdown",
   "metadata": {},
   "source": [
    "*The best model is with Ridge regularization for alpha=70, which means it performs better than OLS (alpha=0)*"
   ]
  },
  {
   "cell_type": "code",
   "execution_count": 65,
   "metadata": {
    "collapsed": false
   },
   "outputs": [
    {
     "data": {
      "text/html": [
       "<div>\n",
       "<table border=\"1\" class=\"dataframe\">\n",
       "  <thead>\n",
       "    <tr style=\"text-align: right;\">\n",
       "      <th></th>\n",
       "      <th>Features</th>\n",
       "      <th>Estimated Coefficients</th>\n",
       "    </tr>\n",
       "  </thead>\n",
       "  <tbody>\n",
       "    <tr>\n",
       "      <th>6</th>\n",
       "      <td>value_money_rating</td>\n",
       "      <td>0.693824</td>\n",
       "    </tr>\n",
       "    <tr>\n",
       "      <th>1</th>\n",
       "      <td>cabin_staff_rating</td>\n",
       "      <td>0.611933</td>\n",
       "    </tr>\n",
       "    <tr>\n",
       "      <th>2</th>\n",
       "      <td>food_beverages_rating</td>\n",
       "      <td>0.508751</td>\n",
       "    </tr>\n",
       "    <tr>\n",
       "      <th>0</th>\n",
       "      <td>seat_comfort_rating</td>\n",
       "      <td>0.413674</td>\n",
       "    </tr>\n",
       "    <tr>\n",
       "      <th>3</th>\n",
       "      <td>inflight_entertainment_rating</td>\n",
       "      <td>0.204450</td>\n",
       "    </tr>\n",
       "    <tr>\n",
       "      <th>4</th>\n",
       "      <td>ground_service_rating</td>\n",
       "      <td>0.085897</td>\n",
       "    </tr>\n",
       "    <tr>\n",
       "      <th>14</th>\n",
       "      <td>Solo Leisure</td>\n",
       "      <td>0.064152</td>\n",
       "    </tr>\n",
       "    <tr>\n",
       "      <th>7</th>\n",
       "      <td>Business Class</td>\n",
       "      <td>0.061356</td>\n",
       "    </tr>\n",
       "    <tr>\n",
       "      <th>12</th>\n",
       "      <td>Couple Leisure</td>\n",
       "      <td>0.019995</td>\n",
       "    </tr>\n",
       "    <tr>\n",
       "      <th>10</th>\n",
       "      <td>Premium Economy</td>\n",
       "      <td>0.012398</td>\n",
       "    </tr>\n",
       "    <tr>\n",
       "      <th>11</th>\n",
       "      <td>Business</td>\n",
       "      <td>0.002181</td>\n",
       "    </tr>\n",
       "    <tr>\n",
       "      <th>9</th>\n",
       "      <td>First Class</td>\n",
       "      <td>-0.002823</td>\n",
       "    </tr>\n",
       "    <tr>\n",
       "      <th>5</th>\n",
       "      <td>wifi_connectivity_rating</td>\n",
       "      <td>-0.054513</td>\n",
       "    </tr>\n",
       "    <tr>\n",
       "      <th>8</th>\n",
       "      <td>Economy</td>\n",
       "      <td>-0.070932</td>\n",
       "    </tr>\n",
       "    <tr>\n",
       "      <th>13</th>\n",
       "      <td>FamilyLeisure</td>\n",
       "      <td>-0.073239</td>\n",
       "    </tr>\n",
       "  </tbody>\n",
       "</table>\n",
       "</div>"
      ],
      "text/plain": [
       "                         Features  Estimated Coefficients\n",
       "6              value_money_rating                0.693824\n",
       "1              cabin_staff_rating                0.611933\n",
       "2           food_beverages_rating                0.508751\n",
       "0             seat_comfort_rating                0.413674\n",
       "3   inflight_entertainment_rating                0.204450\n",
       "4           ground_service_rating                0.085897\n",
       "14                   Solo Leisure                0.064152\n",
       "7                  Business Class                0.061356\n",
       "12                 Couple Leisure                0.019995\n",
       "10                Premium Economy                0.012398\n",
       "11                       Business                0.002181\n",
       "9                     First Class               -0.002823\n",
       "5        wifi_connectivity_rating               -0.054513\n",
       "8                         Economy               -0.070932\n",
       "13                  FamilyLeisure               -0.073239"
      ]
     },
     "execution_count": 65,
     "metadata": {},
     "output_type": "execute_result"
    }
   ],
   "source": [
    "pd.DataFrame(list(zip(Xlr.columns, model.coef_)), columns =['Features', 'Estimated Coefficients']).sort_values('Estimated Coefficients', ascending=False)"
   ]
  },
  {
   "cell_type": "markdown",
   "metadata": {},
   "source": [
    "*So the ratings for value money, cabin staff, food beverages, seat comfort and inflight entertainment have the most impact on the overall rating.* "
   ]
  },
  {
   "cell_type": "markdown",
   "metadata": {},
   "source": [
    "### Random forest"
   ]
  },
  {
   "cell_type": "code",
   "execution_count": 69,
   "metadata": {
    "collapsed": false
   },
   "outputs": [
    {
     "name": "stdout",
     "output_type": "stream",
     "text": [
      "{'min_samples_split': 20, 'max_features': 'sqrt', 'n_estimators': 2000, 'max_depth': 200}\n",
      "best mean squared error: 1.78227047001\n"
     ]
    }
   ],
   "source": [
    "from sklearn.ensemble import RandomForestRegressor\n",
    "from sklearn.model_selection import GridSearchCV\n",
    "forest=RandomForestRegressor(random_state=1)\n",
    "param_grid = {\"max_features\"   : [\"sqrt\",\"log2\", \"auto\"],\n",
    "            \"n_estimators\"     : [200, 2000],\n",
    "           \"max_depth\"         : [2, 200],\n",
    "           \"min_samples_split\" : [2, 20]}\n",
    "%timeit\n",
    "grid_search = GridSearchCV(forest, param_grid, n_jobs=-1, cv=5, scoring='mean_squared_error')\n",
    "grid_search.fit(Xlr, ylr)\n",
    "print(grid_search.best_params_)\n",
    "samples_splits,max_features,n_estimator,max_depth =grid_search.best_params_.values()\n",
    "print('best mean squared error:',grid_search.best_score_*(-1))"
   ]
  },
  {
   "cell_type": "code",
   "execution_count": 70,
   "metadata": {
    "collapsed": false
   },
   "outputs": [
    {
     "name": "stdout",
     "output_type": "stream",
     "text": [
      "1. feature 6 (0.310766), value_money_rating\n",
      "2. feature 1 (0.261628), cabin_staff_rating\n",
      "3. feature 2 (0.200949), food_beverages_rating\n",
      "4. feature 0 (0.119813), seat_comfort_rating\n",
      "5. feature 3 (0.079979), inflight_entertainment_rating\n",
      "6. feature 4 (0.007259), ground_service_rating\n",
      "7. feature 8 (0.005816), Economy\n",
      "8. feature 9 (0.003740), First Class\n",
      "9. feature 7 (0.003193), Business Class\n",
      "10. feature 5 (0.002481), wifi_connectivity_rating\n"
     ]
    }
   ],
   "source": [
    "forest1=RandomForestRegressor(random_state=1,n_estimators=n_estimator, min_samples_split=samples_splits,\n",
    "                             max_depth=max_depth, max_features=max_features).fit(Xlr,ylr)\n",
    "importances = forest1.feature_importances_\n",
    "names=list(Xlr.columns.values)\n",
    "features = []\n",
    "indices = np.argsort(importances)[::-1]\n",
    "\n",
    "for f in range(len(importances)):\n",
    "    print(\"%d. feature %d (%f), %s\" % (f + 1, indices[f], importances[indices[f]], names[indices[f]]))\n",
    "    features.append(indices[f])\n",
    "    # Print only first 10 most important variables\n",
    "    if len(features) >= 10:\n",
    "        break\n",
    "featurenames = [names[feature] for feature in features]"
   ]
  },
  {
   "cell_type": "code",
   "execution_count": 73,
   "metadata": {
    "collapsed": false
   },
   "outputs": [
    {
     "name": "stdout",
     "output_type": "stream",
     "text": [
      "Feature ranking:\n"
     ]
    },
    {
     "data": {
      "image/png": "[encoded data removed]",
      "text/plain": [
       "<matplotlib.figure.Figure at 0x233c49585f8>"
      ]
     },
     "metadata": {},
     "output_type": "display_data"
    }
   ],
   "source": [
    "std = np.std([tree.feature_importances_ for tree in forest1.estimators_],axis=0)\n",
    "\n",
    "# Plot the feature importances of the forest\n",
    "print('Feature ranking:')\n",
    "fig=plt.figure()\n",
    "plt.title(\"Feature importances\")\n",
    "plt.bar(range(10), importances[indices[0:10]],\n",
    "       color=\"r\", yerr=std[indices[0:10]], align=\"center\")\n",
    "plt.xticks(range(len(features)), featurenames,rotation=60)\n",
    "plt.show()\n",
    "fig.savefig('feature important.png')"
   ]
  },
  {
   "cell_type": "code",
   "execution_count": 75,
   "metadata": {
    "collapsed": false
   },
   "outputs": [
    {
     "name": "stdout",
     "output_type": "stream",
     "text": [
      "mean squared error on train set: 1.78227047001\n",
      "mean squared error on test set: 1.66483104551\n"
     ]
    }
   ],
   "source": [
    "print('mean squared error on train set:', grid_search.best_score_*(-1))\n",
    "print('mean squared error on test set:', mean_squared_error(ytestlr,forest1.predict(Xtestlr)))"
   ]
  },
  {
   "cell_type": "markdown",
   "metadata": {},
   "source": [
    "#### Result analysis\n",
    "\n",
    "*With the smallest MSE, we see that Ridge regression perform the best among these 3 models for both train and test set. Hence, we will use Ridge regression for building our model.*"
   ]
  },
  {
   "cell_type": "markdown",
   "metadata": {},
   "source": [
    "**Model in use**\n",
    "\n",
    "*In the following, I group the rating for each feature where 1-3 is recorded as low, and 4-5 as high. Then, I take the median of predicted overall rating over these subsets of each feature. *"
   ]
  },
  {
   "cell_type": "code",
   "execution_count": 40,
   "metadata": {
    "collapsed": false
   },
   "outputs": [],
   "source": [
    "data_predict=Xtestlr.copy()\n",
    "data_predict['Value money']=(data_predict.value_money_rating<=3)*1\n",
    "data_predict['Cabin']=(data_predict.cabin_staff_rating<=3)*1\n",
    "data_predict['Seat comfort']=(data_predict.seat_comfort_rating<=3)*1\n",
    "data_predict['Food beverages']=(data_predict.food_beverages_rating<=3)*1\n",
    "data_predict['Inflight entertainment']=(data_predict.inflight_entertainment_rating<=3)*1\n",
    "data_predict['Overall rating']=model.predict(Xtestlr)"
   ]
  },
  {
   "cell_type": "code",
   "execution_count": 61,
   "metadata": {
    "collapsed": false
   },
   "outputs": [
    {
     "data": {
      "text/html": [
       "<div>\n",
       "<table border=\"1\" class=\"dataframe\">\n",
       "  <thead>\n",
       "    <tr style=\"text-align: right;\">\n",
       "      <th></th>\n",
       "      <th></th>\n",
       "      <th></th>\n",
       "      <th></th>\n",
       "      <th></th>\n",
       "      <th>Overall rating</th>\n",
       "    </tr>\n",
       "    <tr>\n",
       "      <th>Value money</th>\n",
       "      <th>Cabin</th>\n",
       "      <th>Seat comfort</th>\n",
       "      <th>Food beverages</th>\n",
       "      <th>Inflight entertainment</th>\n",
       "      <th></th>\n",
       "    </tr>\n",
       "  </thead>\n",
       "  <tbody>\n",
       "    <tr>\n",
       "      <th rowspan=\"13\" valign=\"top\">high</th>\n",
       "      <th rowspan=\"6\" valign=\"top\">high</th>\n",
       "      <th rowspan=\"4\" valign=\"top\">high</th>\n",
       "      <th rowspan=\"2\" valign=\"top\">high</th>\n",
       "      <th>high</th>\n",
       "      <td>9.181099</td>\n",
       "    </tr>\n",
       "    <tr>\n",
       "      <th>low</th>\n",
       "      <td>8.378324</td>\n",
       "    </tr>\n",
       "    <tr>\n",
       "      <th rowspan=\"2\" valign=\"top\">low</th>\n",
       "      <th>high</th>\n",
       "      <td>7.699526</td>\n",
       "    </tr>\n",
       "    <tr>\n",
       "      <th>low</th>\n",
       "      <td>7.142763</td>\n",
       "    </tr>\n",
       "    <tr>\n",
       "      <th rowspan=\"2\" valign=\"top\">low</th>\n",
       "      <th>high</th>\n",
       "      <th>high</th>\n",
       "      <td>7.640549</td>\n",
       "    </tr>\n",
       "    <tr>\n",
       "      <th>low</th>\n",
       "      <th>high</th>\n",
       "      <td>6.793346</td>\n",
       "    </tr>\n",
       "    <tr>\n",
       "      <th rowspan=\"7\" valign=\"top\">low</th>\n",
       "      <th rowspan=\"4\" valign=\"top\">high</th>\n",
       "      <th rowspan=\"2\" valign=\"top\">high</th>\n",
       "      <th>high</th>\n",
       "      <td>6.168027</td>\n",
       "    </tr>\n",
       "    <tr>\n",
       "      <th>low</th>\n",
       "      <td>6.493619</td>\n",
       "    </tr>\n",
       "    <tr>\n",
       "      <th rowspan=\"2\" valign=\"top\">low</th>\n",
       "      <th>high</th>\n",
       "      <td>6.298692</td>\n",
       "    </tr>\n",
       "    <tr>\n",
       "      <th>low</th>\n",
       "      <td>5.984868</td>\n",
       "    </tr>\n",
       "    <tr>\n",
       "      <th rowspan=\"3\" valign=\"top\">low</th>\n",
       "      <th>high</th>\n",
       "      <th>high</th>\n",
       "      <td>6.284395</td>\n",
       "    </tr>\n",
       "    <tr>\n",
       "      <th rowspan=\"2\" valign=\"top\">low</th>\n",
       "      <th>high</th>\n",
       "      <td>5.229855</td>\n",
       "    </tr>\n",
       "    <tr>\n",
       "      <th>low</th>\n",
       "      <td>4.210687</td>\n",
       "    </tr>\n",
       "    <tr>\n",
       "      <th rowspan=\"14\" valign=\"top\">low</th>\n",
       "      <th rowspan=\"8\" valign=\"top\">high</th>\n",
       "      <th rowspan=\"4\" valign=\"top\">high</th>\n",
       "      <th rowspan=\"2\" valign=\"top\">high</th>\n",
       "      <th>high</th>\n",
       "      <td>6.655929</td>\n",
       "    </tr>\n",
       "    <tr>\n",
       "      <th>low</th>\n",
       "      <td>5.579597</td>\n",
       "    </tr>\n",
       "    <tr>\n",
       "      <th rowspan=\"2\" valign=\"top\">low</th>\n",
       "      <th>high</th>\n",
       "      <td>7.117185</td>\n",
       "    </tr>\n",
       "    <tr>\n",
       "      <th>low</th>\n",
       "      <td>5.698527</td>\n",
       "    </tr>\n",
       "    <tr>\n",
       "      <th rowspan=\"4\" valign=\"top\">low</th>\n",
       "      <th rowspan=\"2\" valign=\"top\">high</th>\n",
       "      <th>high</th>\n",
       "      <td>6.284311</td>\n",
       "    </tr>\n",
       "    <tr>\n",
       "      <th>low</th>\n",
       "      <td>5.303611</td>\n",
       "    </tr>\n",
       "    <tr>\n",
       "      <th rowspan=\"2\" valign=\"top\">low</th>\n",
       "      <th>high</th>\n",
       "      <td>5.484529</td>\n",
       "    </tr>\n",
       "    <tr>\n",
       "      <th>low</th>\n",
       "      <td>3.414699</td>\n",
       "    </tr>\n",
       "    <tr>\n",
       "      <th rowspan=\"6\" valign=\"top\">low</th>\n",
       "      <th rowspan=\"3\" valign=\"top\">high</th>\n",
       "      <th>high</th>\n",
       "      <th>high</th>\n",
       "      <td>5.295979</td>\n",
       "    </tr>\n",
       "    <tr>\n",
       "      <th rowspan=\"2\" valign=\"top\">low</th>\n",
       "      <th>high</th>\n",
       "      <td>3.967327</td>\n",
       "    </tr>\n",
       "    <tr>\n",
       "      <th>low</th>\n",
       "      <td>3.558426</td>\n",
       "    </tr>\n",
       "    <tr>\n",
       "      <th rowspan=\"3\" valign=\"top\">low</th>\n",
       "      <th>high</th>\n",
       "      <th>high</th>\n",
       "      <td>4.301720</td>\n",
       "    </tr>\n",
       "    <tr>\n",
       "      <th rowspan=\"2\" valign=\"top\">low</th>\n",
       "      <th>high</th>\n",
       "      <td>2.680576</td>\n",
       "    </tr>\n",
       "    <tr>\n",
       "      <th>low</th>\n",
       "      <td>1.528502</td>\n",
       "    </tr>\n",
       "  </tbody>\n",
       "</table>\n",
       "</div>"
      ],
      "text/plain": [
       "                                                                      Overall rating\n",
       "Value money Cabin Seat comfort Food beverages Inflight entertainment                \n",
       "high        high  high         high           high                          9.181099\n",
       "                                              low                           8.378324\n",
       "                               low            high                          7.699526\n",
       "                                              low                           7.142763\n",
       "                  low          high           high                          7.640549\n",
       "                               low            high                          6.793346\n",
       "            low   high         high           high                          6.168027\n",
       "                                              low                           6.493619\n",
       "                               low            high                          6.298692\n",
       "                                              low                           5.984868\n",
       "                  low          high           high                          6.284395\n",
       "                               low            high                          5.229855\n",
       "                                              low                           4.210687\n",
       "low         high  high         high           high                          6.655929\n",
       "                                              low                           5.579597\n",
       "                               low            high                          7.117185\n",
       "                                              low                           5.698527\n",
       "                  low          high           high                          6.284311\n",
       "                                              low                           5.303611\n",
       "                               low            high                          5.484529\n",
       "                                              low                           3.414699\n",
       "            low   high         high           high                          5.295979\n",
       "                               low            high                          3.967327\n",
       "                                              low                           3.558426\n",
       "                  low          high           high                          4.301720\n",
       "                               low            high                          2.680576\n",
       "                                              low                           1.528502"
      ]
     },
     "execution_count": 61,
     "metadata": {},
     "output_type": "execute_result"
    }
   ],
   "source": [
    "table=pd.pivot_table(data=data_predict,columns=None, index=['Value money','Cabin','Seat comfort','Food beverages','Inflight entertainment'],values='Overall rating', aggfunc='median')\n",
    "table1=pd.DataFrame(table)\n",
    "table1.rename(index={0:'high',1:'low'}, inplace=True)\n",
    "table1"
   ]
  },
  {
   "cell_type": "markdown",
   "metadata": {},
   "source": [
    "**The above table can serve as a relative reference for setting targets in rating.** \n",
    "\n",
    "*One approach is that after setting goal for overall rating, Emirates can use this table together to visualize metrics for attributes. Then it can plug in some different sets of specific number for each feature rating in Ridge model to get the expected overall rating. Finally, Emirates might use this result in benefit-cost analysis to set goals for the ratings in these features.*\n"
   ]
  }
 ],
 "metadata": {
  "anaconda-cloud": {},
  "kernelspec": {
   "display_name": "Python [default]",
   "language": "python",
   "name": "python3"
  },
  "language_info": {
   "codemirror_mode": {
    "name": "ipython",
    "version": 3
   },
   "file_extension": ".py",
   "mimetype": "text/x-python",
   "name": "python",
   "nbconvert_exporter": "python",
   "pygments_lexer": "ipython3",
   "version": "3.5.2"
  }
 },
 "nbformat": 4,
 "nbformat_minor": 1
}
