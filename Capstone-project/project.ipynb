{
 "cells": [
  {
   "cell_type": "markdown",
   "metadata": {},
   "source": [
    "# IMPROVE CUSTOMER SATISFACTION FOR EMIRATES AIRLINE \n",
    "\n",
    "In the service industry, keep high customer satisfaction is always among the top priority. Hence, for all airlines understanding how customers view their service through reviews are good metrics to measure the performance. Skytrax website has long been a great site for customers reviews of airlines, where it collects reviews and ratings for each airlines, lounges, seats and airports. However, there are a lot of feature ratings that an airline should consider to improve their general customer satisfaction, so it is highly important for airlines to put some priorities on which to focus and invest more effort in. \n",
    "In this project, my aim is to find the most important features that ailines should put higher weight of effort and a quantitative metrics on how to improve their ratings.\n",
    "\n",
    "### Data\n",
    "The data is scraped from airlinequality.com by quankiquanki: https://github.com/quankiquanki/skytrax-reviews-dataset. The airline dataset has a total sample of 42.396 observations with 20 columns containing information of ailines, the reviewers and their ratings for each features as well as comments on the airlines. The ratings for each feature range from 1 to 5, while overall rating is from 1 to 10. \n",
    "\n",
    "### Approach\n",
    "* First, I build a model that can predict well the overall rating based on each feature's rating. In order to do that, I conduct OLS Linear model, Ridge linear for parameter regularization and random forest. \n",
    "* Then, I select the best model among these methods and choose the important features for airlines.\n",
    "* Finally, using these features on the best models, I get the predicted rating for airlines and using this result for analyzing the possible improvement of overall rating on some feature ratings.\n",
    "\n",
    "### Result\n",
    "Random forest is the best performance on both train and test set with the lowest MSE of 1.87. The most important factors that may affect overall rating are value-money rating (46.6%), cabin staff (20.5%), seat comfort (14.5), food beverages (11%) and inflight entertainment (5.7%). Value-money rating is the most important factor, where changing from low to high rating will help overall rating increase by 2.4 point given high ratings for all other features. \n",
    "\n",
    "### Recommendations\n",
    "* \n",
    "\n",
    "### Further research\n",
    "* Conduct the same approach for a specific airline. \n",
    "* Do topic and sentiment analysis on the travellers' reviews for this airline to see which topics are most discussed, and alerts on negative reviews to take in-time action.\n"
   ]
  },
  {
   "cell_type": "code",
   "execution_count": 114,
   "metadata": {
    "collapsed": true
   },
   "outputs": [],
   "source": [
    "import numpy as np\n",
    "import pandas as pd\n",
    "import scipy.stats as stats\n",
    "import math\n",
    "import matplotlib.pyplot as plt\n",
    "import statsmodels.api as sm\n",
    "from statsmodels.formula.api import ols\n",
    "from sklearn.linear_model import LinearRegression\n",
    "from sklearn import model_selection"
   ]
  },
  {
   "cell_type": "code",
   "execution_count": 115,
   "metadata": {
    "collapsed": false
   },
   "outputs": [],
   "source": [
    "df=pd.read_csv('skytrax-reviews-dataset-master/data/airline.csv')"
   ]
  },
  {
   "cell_type": "code",
   "execution_count": 116,
   "metadata": {
    "collapsed": false
   },
   "outputs": [
    {
     "data": {
      "text/html": [
       "<div>\n",
       "<table border=\"1\" class=\"dataframe\">\n",
       "  <thead>\n",
       "    <tr style=\"text-align: right;\">\n",
       "      <th></th>\n",
       "      <th>airline_name</th>\n",
       "      <th>link</th>\n",
       "      <th>title</th>\n",
       "      <th>author</th>\n",
       "      <th>author_country</th>\n",
       "      <th>date</th>\n",
       "      <th>content</th>\n",
       "      <th>aircraft</th>\n",
       "      <th>type_traveller</th>\n",
       "      <th>cabin_flown</th>\n",
       "      <th>route</th>\n",
       "      <th>overall_rating</th>\n",
       "      <th>seat_comfort_rating</th>\n",
       "      <th>cabin_staff_rating</th>\n",
       "      <th>food_beverages_rating</th>\n",
       "      <th>inflight_entertainment_rating</th>\n",
       "      <th>ground_service_rating</th>\n",
       "      <th>wifi_connectivity_rating</th>\n",
       "      <th>value_money_rating</th>\n",
       "      <th>recommended</th>\n",
       "    </tr>\n",
       "  </thead>\n",
       "  <tbody>\n",
       "    <tr>\n",
       "      <th>14773</th>\n",
       "      <td>emirates</td>\n",
       "      <td>/airline-reviews/emirates</td>\n",
       "      <td>Emirates customer review</td>\n",
       "      <td>B Finn</td>\n",
       "      <td>Australia</td>\n",
       "      <td>2015-08-02</td>\n",
       "      <td>Overall we found the experience disappointing....</td>\n",
       "      <td>A380</td>\n",
       "      <td>FamilyLeisure</td>\n",
       "      <td>Economy</td>\n",
       "      <td>Singapore to Paris via Dubai</td>\n",
       "      <td>5.0</td>\n",
       "      <td>3.0</td>\n",
       "      <td>1.0</td>\n",
       "      <td>2.0</td>\n",
       "      <td>3.0</td>\n",
       "      <td>4.0</td>\n",
       "      <td>3.0</td>\n",
       "      <td>3.0</td>\n",
       "      <td>0</td>\n",
       "    </tr>\n",
       "    <tr>\n",
       "      <th>14783</th>\n",
       "      <td>emirates</td>\n",
       "      <td>/airline-reviews/emirates</td>\n",
       "      <td>Emirates customer review</td>\n",
       "      <td>Michael Leibman</td>\n",
       "      <td>South Africa</td>\n",
       "      <td>2015-07-28</td>\n",
       "      <td>Flight from Cape Town was late into Dubai due ...</td>\n",
       "      <td>Boeing 777 and A380</td>\n",
       "      <td>Couple Leisure</td>\n",
       "      <td>Business Class</td>\n",
       "      <td>Cape Town to London via Dubai</td>\n",
       "      <td>7.0</td>\n",
       "      <td>3.0</td>\n",
       "      <td>3.0</td>\n",
       "      <td>3.0</td>\n",
       "      <td>4.0</td>\n",
       "      <td>2.0</td>\n",
       "      <td>2.0</td>\n",
       "      <td>3.0</td>\n",
       "      <td>0</td>\n",
       "    </tr>\n",
       "  </tbody>\n",
       "</table>\n",
       "</div>"
      ],
      "text/plain": [
       "      airline_name                       link                     title  \\\n",
       "14773     emirates  /airline-reviews/emirates  Emirates customer review   \n",
       "14783     emirates  /airline-reviews/emirates  Emirates customer review   \n",
       "\n",
       "                author author_country        date  \\\n",
       "14773           B Finn      Australia  2015-08-02   \n",
       "14783  Michael Leibman   South Africa  2015-07-28   \n",
       "\n",
       "                                                 content             aircraft  \\\n",
       "14773  Overall we found the experience disappointing....                 A380   \n",
       "14783  Flight from Cape Town was late into Dubai due ...  Boeing 777 and A380   \n",
       "\n",
       "       type_traveller     cabin_flown                          route  \\\n",
       "14773   FamilyLeisure         Economy   Singapore to Paris via Dubai   \n",
       "14783  Couple Leisure  Business Class  Cape Town to London via Dubai   \n",
       "\n",
       "       overall_rating  seat_comfort_rating  cabin_staff_rating  \\\n",
       "14773             5.0                  3.0                 1.0   \n",
       "14783             7.0                  3.0                 3.0   \n",
       "\n",
       "       food_beverages_rating  inflight_entertainment_rating  \\\n",
       "14773                    2.0                            3.0   \n",
       "14783                    3.0                            4.0   \n",
       "\n",
       "       ground_service_rating  wifi_connectivity_rating  value_money_rating  \\\n",
       "14773                    4.0                       3.0                 3.0   \n",
       "14783                    2.0                       2.0                 3.0   \n",
       "\n",
       "       recommended  \n",
       "14773            0  \n",
       "14783            0  "
      ]
     },
     "execution_count": 116,
     "metadata": {},
     "output_type": "execute_result"
    }
   ],
   "source": [
    "df_emi=df[df.airline_name=='emirates']\n",
    "df_emi.head(2)"
   ]
  },
  {
   "cell_type": "markdown",
   "metadata": {},
   "source": [
    "## Data exploration"
   ]
  },
  {
   "cell_type": "code",
   "execution_count": 117,
   "metadata": {
    "collapsed": false,
    "scrolled": false
   },
   "outputs": [
    {
     "name": "stderr",
     "output_type": "stream",
     "text": [
      "C:\\Users\\Bao Tram\\AppData\\Local\\Continuum\\Anaconda3\\lib\\site-packages\\numpy\\lib\\function_base.py:3834: RuntimeWarning: Invalid value encountered in percentile\n",
      "  RuntimeWarning)\n"
     ]
    },
    {
     "data": {
      "text/html": [
       "<div>\n",
       "<table border=\"1\" class=\"dataframe\">\n",
       "  <thead>\n",
       "    <tr style=\"text-align: right;\">\n",
       "      <th></th>\n",
       "      <th>overall_rating</th>\n",
       "      <th>seat_comfort_rating</th>\n",
       "      <th>cabin_staff_rating</th>\n",
       "      <th>food_beverages_rating</th>\n",
       "      <th>inflight_entertainment_rating</th>\n",
       "      <th>ground_service_rating</th>\n",
       "      <th>wifi_connectivity_rating</th>\n",
       "      <th>value_money_rating</th>\n",
       "      <th>recommended</th>\n",
       "    </tr>\n",
       "  </thead>\n",
       "  <tbody>\n",
       "    <tr>\n",
       "      <th>count</th>\n",
       "      <td>690.000000</td>\n",
       "      <td>691.000000</td>\n",
       "      <td>691.000000</td>\n",
       "      <td>688.000000</td>\n",
       "      <td>688.000000</td>\n",
       "      <td>61.000000</td>\n",
       "      <td>35.000000</td>\n",
       "      <td>691.000000</td>\n",
       "      <td>691.000000</td>\n",
       "    </tr>\n",
       "    <tr>\n",
       "      <th>mean</th>\n",
       "      <td>6.246377</td>\n",
       "      <td>3.596237</td>\n",
       "      <td>3.287988</td>\n",
       "      <td>3.453488</td>\n",
       "      <td>4.190407</td>\n",
       "      <td>3.508197</td>\n",
       "      <td>3.142857</td>\n",
       "      <td>3.609262</td>\n",
       "      <td>0.615051</td>\n",
       "    </tr>\n",
       "    <tr>\n",
       "      <th>std</th>\n",
       "      <td>3.088937</td>\n",
       "      <td>1.207675</td>\n",
       "      <td>1.543425</td>\n",
       "      <td>1.351322</td>\n",
       "      <td>1.075096</td>\n",
       "      <td>1.409763</td>\n",
       "      <td>1.497898</td>\n",
       "      <td>1.329978</td>\n",
       "      <td>0.486936</td>\n",
       "    </tr>\n",
       "    <tr>\n",
       "      <th>min</th>\n",
       "      <td>1.000000</td>\n",
       "      <td>1.000000</td>\n",
       "      <td>1.000000</td>\n",
       "      <td>1.000000</td>\n",
       "      <td>1.000000</td>\n",
       "      <td>1.000000</td>\n",
       "      <td>1.000000</td>\n",
       "      <td>0.000000</td>\n",
       "      <td>0.000000</td>\n",
       "    </tr>\n",
       "    <tr>\n",
       "      <th>25%</th>\n",
       "      <td>NaN</td>\n",
       "      <td>3.000000</td>\n",
       "      <td>2.000000</td>\n",
       "      <td>NaN</td>\n",
       "      <td>NaN</td>\n",
       "      <td>NaN</td>\n",
       "      <td>NaN</td>\n",
       "      <td>3.000000</td>\n",
       "      <td>0.000000</td>\n",
       "    </tr>\n",
       "    <tr>\n",
       "      <th>50%</th>\n",
       "      <td>NaN</td>\n",
       "      <td>4.000000</td>\n",
       "      <td>4.000000</td>\n",
       "      <td>NaN</td>\n",
       "      <td>NaN</td>\n",
       "      <td>NaN</td>\n",
       "      <td>NaN</td>\n",
       "      <td>4.000000</td>\n",
       "      <td>1.000000</td>\n",
       "    </tr>\n",
       "    <tr>\n",
       "      <th>75%</th>\n",
       "      <td>NaN</td>\n",
       "      <td>5.000000</td>\n",
       "      <td>5.000000</td>\n",
       "      <td>NaN</td>\n",
       "      <td>NaN</td>\n",
       "      <td>NaN</td>\n",
       "      <td>NaN</td>\n",
       "      <td>5.000000</td>\n",
       "      <td>1.000000</td>\n",
       "    </tr>\n",
       "    <tr>\n",
       "      <th>max</th>\n",
       "      <td>10.000000</td>\n",
       "      <td>5.000000</td>\n",
       "      <td>5.000000</td>\n",
       "      <td>5.000000</td>\n",
       "      <td>5.000000</td>\n",
       "      <td>5.000000</td>\n",
       "      <td>5.000000</td>\n",
       "      <td>5.000000</td>\n",
       "      <td>1.000000</td>\n",
       "    </tr>\n",
       "  </tbody>\n",
       "</table>\n",
       "</div>"
      ],
      "text/plain": [
       "       overall_rating  seat_comfort_rating  cabin_staff_rating  \\\n",
       "count      690.000000           691.000000          691.000000   \n",
       "mean         6.246377             3.596237            3.287988   \n",
       "std          3.088937             1.207675            1.543425   \n",
       "min          1.000000             1.000000            1.000000   \n",
       "25%               NaN             3.000000            2.000000   \n",
       "50%               NaN             4.000000            4.000000   \n",
       "75%               NaN             5.000000            5.000000   \n",
       "max         10.000000             5.000000            5.000000   \n",
       "\n",
       "       food_beverages_rating  inflight_entertainment_rating  \\\n",
       "count             688.000000                     688.000000   \n",
       "mean                3.453488                       4.190407   \n",
       "std                 1.351322                       1.075096   \n",
       "min                 1.000000                       1.000000   \n",
       "25%                      NaN                            NaN   \n",
       "50%                      NaN                            NaN   \n",
       "75%                      NaN                            NaN   \n",
       "max                 5.000000                       5.000000   \n",
       "\n",
       "       ground_service_rating  wifi_connectivity_rating  value_money_rating  \\\n",
       "count              61.000000                 35.000000          691.000000   \n",
       "mean                3.508197                  3.142857            3.609262   \n",
       "std                 1.409763                  1.497898            1.329978   \n",
       "min                 1.000000                  1.000000            0.000000   \n",
       "25%                      NaN                       NaN            3.000000   \n",
       "50%                      NaN                       NaN            4.000000   \n",
       "75%                      NaN                       NaN            5.000000   \n",
       "max                 5.000000                  5.000000            5.000000   \n",
       "\n",
       "       recommended  \n",
       "count   691.000000  \n",
       "mean      0.615051  \n",
       "std       0.486936  \n",
       "min       0.000000  \n",
       "25%       0.000000  \n",
       "50%       1.000000  \n",
       "75%       1.000000  \n",
       "max       1.000000  "
      ]
     },
     "execution_count": 117,
     "metadata": {},
     "output_type": "execute_result"
    }
   ],
   "source": [
    "df_emi.describe()"
   ]
  },
  {
   "cell_type": "code",
   "execution_count": 118,
   "metadata": {
    "collapsed": false
   },
   "outputs": [
    {
     "name": "stdout",
     "output_type": "stream",
     "text": [
      "<class 'pandas.core.frame.DataFrame'>\n",
      "Int64Index: 691 entries, 14773 to 15808\n",
      "Data columns (total 20 columns):\n",
      "airline_name                     691 non-null object\n",
      "link                             691 non-null object\n",
      "title                            691 non-null object\n",
      "author                           691 non-null object\n",
      "author_country                   690 non-null object\n",
      "date                             691 non-null object\n",
      "content                          691 non-null object\n",
      "aircraft                         50 non-null object\n",
      "type_traveller                   61 non-null object\n",
      "cabin_flown                      691 non-null object\n",
      "route                            61 non-null object\n",
      "overall_rating                   690 non-null float64\n",
      "seat_comfort_rating              691 non-null float64\n",
      "cabin_staff_rating               691 non-null float64\n",
      "food_beverages_rating            688 non-null float64\n",
      "inflight_entertainment_rating    688 non-null float64\n",
      "ground_service_rating            61 non-null float64\n",
      "wifi_connectivity_rating         35 non-null float64\n",
      "value_money_rating               691 non-null float64\n",
      "recommended                      691 non-null int64\n",
      "dtypes: float64(8), int64(1), object(11)\n",
      "memory usage: 113.4+ KB\n"
     ]
    }
   ],
   "source": [
    "df_emi.info()"
   ]
  },
  {
   "cell_type": "markdown",
   "metadata": {},
   "source": [
    "* From these descriptive tables, we see that we only have problem with missing values, but there is no outliers. Note that for some features, we see the min of rating is 0, which is invalid (from 1 to 5) so those are also missing values. \n",
    "* It is noticeable that data for overall rating, recommended and value_money rating are nearly full while rating data for ground service and wifi connectivity are mostly missing. Given this fact, it is highly likely that Emirates airlines do not offer these amenities in some routes. Hence, I think replace those missing values by 0 instead of imputed values(mean, median). \n",
    "* The data points with missing values for overall rating will be deleted as it is our main concern. "
   ]
  },
  {
   "cell_type": "code",
   "execution_count": 119,
   "metadata": {
    "collapsed": false
   },
   "outputs": [
    {
     "data": {
      "text/plain": [
       "type_traveller\n",
       "Business           6\n",
       "Couple Leisure    12\n",
       "FamilyLeisure     22\n",
       "Solo Leisure      21\n",
       "dtype: int64"
      ]
     },
     "execution_count": 119,
     "metadata": {},
     "output_type": "execute_result"
    }
   ],
   "source": [
    "df_emi.groupby('type_traveller').size()"
   ]
  },
  {
   "cell_type": "markdown",
   "metadata": {},
   "source": [
    "*With lots of missing values, when we turn traveler type into categorical variables, the sample size for these variables will be quite small.*"
   ]
  },
  {
   "cell_type": "markdown",
   "metadata": {},
   "source": [
    "## Data wrangling"
   ]
  },
  {
   "cell_type": "markdown",
   "metadata": {},
   "source": [
    "In the data cleaning step, I do the following:\n",
    "* Only choose data since 2010\n",
    "* Drop data without overall rating\n",
    "* Drop information that is not needed for modelling purpose: link, title, author, author country, date, content, aircraft type, route, recommended\n",
    "* Encode missing values as 0\n",
    "* Get dummies for traveller type and cabin flown "
   ]
  },
  {
   "cell_type": "code",
   "execution_count": 120,
   "metadata": {
    "collapsed": false
   },
   "outputs": [
    {
     "name": "stderr",
     "output_type": "stream",
     "text": [
      "C:\\Users\\Bao Tram\\AppData\\Local\\Continuum\\Anaconda3\\lib\\site-packages\\pandas\\core\\generic.py:2701: SettingWithCopyWarning: \n",
      "A value is trying to be set on a copy of a slice from a DataFrame.\n",
      "Try using .loc[row_indexer,col_indexer] = value instead\n",
      "\n",
      "See the caveats in the documentation: http://pandas.pydata.org/pandas-docs/stable/indexing.html#indexing-view-versus-copy\n",
      "  self[name] = value\n"
     ]
    },
    {
     "data": {
      "text/plain": [
       "(691, 20)"
      ]
     },
     "execution_count": 120,
     "metadata": {},
     "output_type": "execute_result"
    }
   ],
   "source": [
    "df_emi.date=pd.to_datetime(df_emi.date) #change date object into datetime format\n",
    "df_emi=df_emi[df_emi.date>='2010-01-01'] #choose recent dates only\n",
    "df_emi.shape"
   ]
  },
  {
   "cell_type": "code",
   "execution_count": 121,
   "metadata": {
    "collapsed": false
   },
   "outputs": [],
   "source": [
    "#drop data points without overall rating\n",
    "df_clean=df_emi[df_emi['overall_rating'].notnull()]"
   ]
  },
  {
   "cell_type": "code",
   "execution_count": 122,
   "metadata": {
    "collapsed": false
   },
   "outputs": [
    {
     "name": "stderr",
     "output_type": "stream",
     "text": [
      "C:\\Users\\Bao Tram\\AppData\\Local\\Continuum\\Anaconda3\\lib\\site-packages\\ipykernel\\__main__.py:2: SettingWithCopyWarning: \n",
      "A value is trying to be set on a copy of a slice from a DataFrame\n",
      "\n",
      "See the caveats in the documentation: http://pandas.pydata.org/pandas-docs/stable/indexing.html#indexing-view-versus-copy\n",
      "  from ipykernel import kernelapp as app\n"
     ]
    }
   ],
   "source": [
    "#drop some attributes that will not be used in modelling\n",
    "df_clean.drop(['airline_name','link','title','author','author_country','date','content','aircraft','route','recommended'],axis=1, inplace=True)\n"
   ]
  },
  {
   "cell_type": "code",
   "execution_count": 123,
   "metadata": {
    "collapsed": false
   },
   "outputs": [
    {
     "data": {
      "text/html": [
       "<div>\n",
       "<table border=\"1\" class=\"dataframe\">\n",
       "  <thead>\n",
       "    <tr style=\"text-align: right;\">\n",
       "      <th></th>\n",
       "      <th>type_traveller</th>\n",
       "      <th>cabin_flown</th>\n",
       "      <th>overall_rating</th>\n",
       "      <th>seat_comfort_rating</th>\n",
       "      <th>cabin_staff_rating</th>\n",
       "      <th>food_beverages_rating</th>\n",
       "      <th>inflight_entertainment_rating</th>\n",
       "      <th>ground_service_rating</th>\n",
       "      <th>wifi_connectivity_rating</th>\n",
       "      <th>value_money_rating</th>\n",
       "    </tr>\n",
       "  </thead>\n",
       "  <tbody>\n",
       "    <tr>\n",
       "      <th>14773</th>\n",
       "      <td>FamilyLeisure</td>\n",
       "      <td>Economy</td>\n",
       "      <td>5.0</td>\n",
       "      <td>3.0</td>\n",
       "      <td>1.0</td>\n",
       "      <td>2.0</td>\n",
       "      <td>3.0</td>\n",
       "      <td>4.0</td>\n",
       "      <td>3.0</td>\n",
       "      <td>3.0</td>\n",
       "    </tr>\n",
       "    <tr>\n",
       "      <th>14783</th>\n",
       "      <td>Couple Leisure</td>\n",
       "      <td>Business Class</td>\n",
       "      <td>7.0</td>\n",
       "      <td>3.0</td>\n",
       "      <td>3.0</td>\n",
       "      <td>3.0</td>\n",
       "      <td>4.0</td>\n",
       "      <td>2.0</td>\n",
       "      <td>2.0</td>\n",
       "      <td>3.0</td>\n",
       "    </tr>\n",
       "    <tr>\n",
       "      <th>14784</th>\n",
       "      <td>Couple Leisure</td>\n",
       "      <td>Economy</td>\n",
       "      <td>9.0</td>\n",
       "      <td>5.0</td>\n",
       "      <td>4.0</td>\n",
       "      <td>4.0</td>\n",
       "      <td>5.0</td>\n",
       "      <td>4.0</td>\n",
       "      <td>NaN</td>\n",
       "      <td>5.0</td>\n",
       "    </tr>\n",
       "    <tr>\n",
       "      <th>14794</th>\n",
       "      <td>Couple Leisure</td>\n",
       "      <td>Business Class</td>\n",
       "      <td>10.0</td>\n",
       "      <td>5.0</td>\n",
       "      <td>5.0</td>\n",
       "      <td>5.0</td>\n",
       "      <td>5.0</td>\n",
       "      <td>4.0</td>\n",
       "      <td>5.0</td>\n",
       "      <td>4.0</td>\n",
       "    </tr>\n",
       "    <tr>\n",
       "      <th>14795</th>\n",
       "      <td>FamilyLeisure</td>\n",
       "      <td>Economy</td>\n",
       "      <td>6.0</td>\n",
       "      <td>4.0</td>\n",
       "      <td>3.0</td>\n",
       "      <td>5.0</td>\n",
       "      <td>5.0</td>\n",
       "      <td>3.0</td>\n",
       "      <td>1.0</td>\n",
       "      <td>3.0</td>\n",
       "    </tr>\n",
       "  </tbody>\n",
       "</table>\n",
       "</div>"
      ],
      "text/plain": [
       "       type_traveller     cabin_flown  overall_rating  seat_comfort_rating  \\\n",
       "14773   FamilyLeisure         Economy             5.0                  3.0   \n",
       "14783  Couple Leisure  Business Class             7.0                  3.0   \n",
       "14784  Couple Leisure         Economy             9.0                  5.0   \n",
       "14794  Couple Leisure  Business Class            10.0                  5.0   \n",
       "14795   FamilyLeisure         Economy             6.0                  4.0   \n",
       "\n",
       "       cabin_staff_rating  food_beverages_rating  \\\n",
       "14773                 1.0                    2.0   \n",
       "14783                 3.0                    3.0   \n",
       "14784                 4.0                    4.0   \n",
       "14794                 5.0                    5.0   \n",
       "14795                 3.0                    5.0   \n",
       "\n",
       "       inflight_entertainment_rating  ground_service_rating  \\\n",
       "14773                            3.0                    4.0   \n",
       "14783                            4.0                    2.0   \n",
       "14784                            5.0                    4.0   \n",
       "14794                            5.0                    4.0   \n",
       "14795                            5.0                    3.0   \n",
       "\n",
       "       wifi_connectivity_rating  value_money_rating  \n",
       "14773                       3.0                 3.0  \n",
       "14783                       2.0                 3.0  \n",
       "14784                       NaN                 5.0  \n",
       "14794                       5.0                 4.0  \n",
       "14795                       1.0                 3.0  "
      ]
     },
     "execution_count": 123,
     "metadata": {},
     "output_type": "execute_result"
    }
   ],
   "source": [
    "df_clean.head()"
   ]
  },
  {
   "cell_type": "code",
   "execution_count": 124,
   "metadata": {
    "collapsed": false,
    "scrolled": true
   },
   "outputs": [
    {
     "name": "stderr",
     "output_type": "stream",
     "text": [
      "C:\\Users\\Bao Tram\\AppData\\Local\\Continuum\\Anaconda3\\lib\\site-packages\\pandas\\core\\generic.py:3191: SettingWithCopyWarning: \n",
      "A value is trying to be set on a copy of a slice from a DataFrame\n",
      "\n",
      "See the caveats in the documentation: http://pandas.pydata.org/pandas-docs/stable/indexing.html#indexing-view-versus-copy\n",
      "  self._update_inplace(new_data)\n"
     ]
    }
   ],
   "source": [
    "#deal with missing values\n",
    "df_clean=df_clean.fillna({'ground_service_rating':0, 'wifi_connectivity_rating':0,'seat_comfort_rating':0,'cabin_staff_rating':0,'food_beverages_rating':0,'inflight_entertainment_rating':0, 'value_money_rating':0}, inplace=True)\n"
   ]
  },
  {
   "cell_type": "code",
   "execution_count": 125,
   "metadata": {
    "collapsed": false
   },
   "outputs": [],
   "source": [
    "#change types cabin flown and traveler types into category type\n",
    "df_cabin_flown= pd.get_dummies(df_clean['cabin_flown'])\n",
    "df_clean=pd.concat([df_clean, df_cabin_flown], axis=1)\n",
    "df_clean.drop(['cabin_flown'], axis=1, inplace=True)\n",
    "\n",
    "df_type_traveller= pd.get_dummies(df_clean['type_traveller'])\n",
    "df_clean=pd.concat([df_clean, df_type_traveller], axis=1)\n",
    "df_clean.drop(['type_traveller'], axis=1, inplace=True)"
   ]
  },
  {
   "cell_type": "code",
   "execution_count": 126,
   "metadata": {
    "collapsed": false
   },
   "outputs": [
    {
     "data": {
      "text/plain": [
       "False"
      ]
     },
     "execution_count": 126,
     "metadata": {},
     "output_type": "execute_result"
    }
   ],
   "source": [
    "df_clean.isnull().values.any() #check if there are any missing values in dataframe"
   ]
  },
  {
   "cell_type": "code",
   "execution_count": 127,
   "metadata": {
    "collapsed": false
   },
   "outputs": [
    {
     "data": {
      "text/html": [
       "<div>\n",
       "<table border=\"1\" class=\"dataframe\">\n",
       "  <thead>\n",
       "    <tr style=\"text-align: right;\">\n",
       "      <th></th>\n",
       "      <th>overall_rating</th>\n",
       "      <th>seat_comfort_rating</th>\n",
       "      <th>cabin_staff_rating</th>\n",
       "      <th>food_beverages_rating</th>\n",
       "      <th>inflight_entertainment_rating</th>\n",
       "      <th>ground_service_rating</th>\n",
       "      <th>wifi_connectivity_rating</th>\n",
       "      <th>value_money_rating</th>\n",
       "      <th>Business Class</th>\n",
       "      <th>Economy</th>\n",
       "      <th>First Class</th>\n",
       "      <th>Premium Economy</th>\n",
       "      <th>Business</th>\n",
       "      <th>Couple Leisure</th>\n",
       "      <th>FamilyLeisure</th>\n",
       "      <th>Solo Leisure</th>\n",
       "    </tr>\n",
       "  </thead>\n",
       "  <tbody>\n",
       "    <tr>\n",
       "      <th>14773</th>\n",
       "      <td>5.0</td>\n",
       "      <td>3.0</td>\n",
       "      <td>1.0</td>\n",
       "      <td>2.0</td>\n",
       "      <td>3.0</td>\n",
       "      <td>4.0</td>\n",
       "      <td>3.0</td>\n",
       "      <td>3.0</td>\n",
       "      <td>0.0</td>\n",
       "      <td>1.0</td>\n",
       "      <td>0.0</td>\n",
       "      <td>0.0</td>\n",
       "      <td>0.0</td>\n",
       "      <td>0.0</td>\n",
       "      <td>1.0</td>\n",
       "      <td>0.0</td>\n",
       "    </tr>\n",
       "    <tr>\n",
       "      <th>14783</th>\n",
       "      <td>7.0</td>\n",
       "      <td>3.0</td>\n",
       "      <td>3.0</td>\n",
       "      <td>3.0</td>\n",
       "      <td>4.0</td>\n",
       "      <td>2.0</td>\n",
       "      <td>2.0</td>\n",
       "      <td>3.0</td>\n",
       "      <td>1.0</td>\n",
       "      <td>0.0</td>\n",
       "      <td>0.0</td>\n",
       "      <td>0.0</td>\n",
       "      <td>0.0</td>\n",
       "      <td>1.0</td>\n",
       "      <td>0.0</td>\n",
       "      <td>0.0</td>\n",
       "    </tr>\n",
       "    <tr>\n",
       "      <th>14784</th>\n",
       "      <td>9.0</td>\n",
       "      <td>5.0</td>\n",
       "      <td>4.0</td>\n",
       "      <td>4.0</td>\n",
       "      <td>5.0</td>\n",
       "      <td>4.0</td>\n",
       "      <td>0.0</td>\n",
       "      <td>5.0</td>\n",
       "      <td>0.0</td>\n",
       "      <td>1.0</td>\n",
       "      <td>0.0</td>\n",
       "      <td>0.0</td>\n",
       "      <td>0.0</td>\n",
       "      <td>1.0</td>\n",
       "      <td>0.0</td>\n",
       "      <td>0.0</td>\n",
       "    </tr>\n",
       "    <tr>\n",
       "      <th>14794</th>\n",
       "      <td>10.0</td>\n",
       "      <td>5.0</td>\n",
       "      <td>5.0</td>\n",
       "      <td>5.0</td>\n",
       "      <td>5.0</td>\n",
       "      <td>4.0</td>\n",
       "      <td>5.0</td>\n",
       "      <td>4.0</td>\n",
       "      <td>1.0</td>\n",
       "      <td>0.0</td>\n",
       "      <td>0.0</td>\n",
       "      <td>0.0</td>\n",
       "      <td>0.0</td>\n",
       "      <td>1.0</td>\n",
       "      <td>0.0</td>\n",
       "      <td>0.0</td>\n",
       "    </tr>\n",
       "    <tr>\n",
       "      <th>14795</th>\n",
       "      <td>6.0</td>\n",
       "      <td>4.0</td>\n",
       "      <td>3.0</td>\n",
       "      <td>5.0</td>\n",
       "      <td>5.0</td>\n",
       "      <td>3.0</td>\n",
       "      <td>1.0</td>\n",
       "      <td>3.0</td>\n",
       "      <td>0.0</td>\n",
       "      <td>1.0</td>\n",
       "      <td>0.0</td>\n",
       "      <td>0.0</td>\n",
       "      <td>0.0</td>\n",
       "      <td>0.0</td>\n",
       "      <td>1.0</td>\n",
       "      <td>0.0</td>\n",
       "    </tr>\n",
       "  </tbody>\n",
       "</table>\n",
       "</div>"
      ],
      "text/plain": [
       "       overall_rating  seat_comfort_rating  cabin_staff_rating  \\\n",
       "14773             5.0                  3.0                 1.0   \n",
       "14783             7.0                  3.0                 3.0   \n",
       "14784             9.0                  5.0                 4.0   \n",
       "14794            10.0                  5.0                 5.0   \n",
       "14795             6.0                  4.0                 3.0   \n",
       "\n",
       "       food_beverages_rating  inflight_entertainment_rating  \\\n",
       "14773                    2.0                            3.0   \n",
       "14783                    3.0                            4.0   \n",
       "14784                    4.0                            5.0   \n",
       "14794                    5.0                            5.0   \n",
       "14795                    5.0                            5.0   \n",
       "\n",
       "       ground_service_rating  wifi_connectivity_rating  value_money_rating  \\\n",
       "14773                    4.0                       3.0                 3.0   \n",
       "14783                    2.0                       2.0                 3.0   \n",
       "14784                    4.0                       0.0                 5.0   \n",
       "14794                    4.0                       5.0                 4.0   \n",
       "14795                    3.0                       1.0                 3.0   \n",
       "\n",
       "       Business Class  Economy  First Class  Premium Economy  Business  \\\n",
       "14773             0.0      1.0          0.0              0.0       0.0   \n",
       "14783             1.0      0.0          0.0              0.0       0.0   \n",
       "14784             0.0      1.0          0.0              0.0       0.0   \n",
       "14794             1.0      0.0          0.0              0.0       0.0   \n",
       "14795             0.0      1.0          0.0              0.0       0.0   \n",
       "\n",
       "       Couple Leisure  FamilyLeisure  Solo Leisure  \n",
       "14773             0.0            1.0           0.0  \n",
       "14783             1.0            0.0           0.0  \n",
       "14784             1.0            0.0           0.0  \n",
       "14794             1.0            0.0           0.0  \n",
       "14795             0.0            1.0           0.0  "
      ]
     },
     "execution_count": 127,
     "metadata": {},
     "output_type": "execute_result"
    }
   ],
   "source": [
    "df_clean.head()"
   ]
  },
  {
   "cell_type": "code",
   "execution_count": 128,
   "metadata": {
    "collapsed": false
   },
   "outputs": [
    {
     "data": {
      "text/plain": [
       "(690, 16)"
      ]
     },
     "execution_count": 128,
     "metadata": {},
     "output_type": "execute_result"
    }
   ],
   "source": [
    "df_clean.shape"
   ]
  },
  {
   "cell_type": "markdown",
   "metadata": {},
   "source": [
    "## Descriptive analysis"
   ]
  },
  {
   "cell_type": "code",
   "execution_count": 129,
   "metadata": {
    "collapsed": false
   },
   "outputs": [
    {
     "data": {
      "text/html": [
       "<div>\n",
       "<table border=\"1\" class=\"dataframe\">\n",
       "  <thead>\n",
       "    <tr style=\"text-align: right;\">\n",
       "      <th></th>\n",
       "      <th>overall_rating</th>\n",
       "      <th>seat_comfort_rating</th>\n",
       "      <th>cabin_staff_rating</th>\n",
       "      <th>food_beverages_rating</th>\n",
       "      <th>inflight_entertainment_rating</th>\n",
       "      <th>ground_service_rating</th>\n",
       "      <th>wifi_connectivity_rating</th>\n",
       "      <th>value_money_rating</th>\n",
       "      <th>Business Class</th>\n",
       "      <th>Economy</th>\n",
       "      <th>First Class</th>\n",
       "      <th>Premium Economy</th>\n",
       "      <th>Business</th>\n",
       "      <th>Couple Leisure</th>\n",
       "      <th>FamilyLeisure</th>\n",
       "      <th>Solo Leisure</th>\n",
       "    </tr>\n",
       "  </thead>\n",
       "  <tbody>\n",
       "    <tr>\n",
       "      <th>overall_rating</th>\n",
       "      <td>1.000000</td>\n",
       "      <td>0.670180</td>\n",
       "      <td>0.810329</td>\n",
       "      <td>0.772947</td>\n",
       "      <td>0.568852</td>\n",
       "      <td>0.103665</td>\n",
       "      <td>0.064943</td>\n",
       "      <td>0.829394</td>\n",
       "      <td>0.074364</td>\n",
       "      <td>-0.120849</td>\n",
       "      <td>0.099232</td>\n",
       "      <td>0.046328</td>\n",
       "      <td>0.088609</td>\n",
       "      <td>0.075582</td>\n",
       "      <td>-0.057244</td>\n",
       "      <td>0.002258</td>\n",
       "    </tr>\n",
       "    <tr>\n",
       "      <th>seat_comfort_rating</th>\n",
       "      <td>0.670180</td>\n",
       "      <td>1.000000</td>\n",
       "      <td>0.551196</td>\n",
       "      <td>0.505741</td>\n",
       "      <td>0.459390</td>\n",
       "      <td>0.112242</td>\n",
       "      <td>0.117953</td>\n",
       "      <td>0.603930</td>\n",
       "      <td>0.106063</td>\n",
       "      <td>-0.176245</td>\n",
       "      <td>0.153644</td>\n",
       "      <td>0.044313</td>\n",
       "      <td>0.070033</td>\n",
       "      <td>0.035002</td>\n",
       "      <td>0.012336</td>\n",
       "      <td>0.002804</td>\n",
       "    </tr>\n",
       "    <tr>\n",
       "      <th>cabin_staff_rating</th>\n",
       "      <td>0.810329</td>\n",
       "      <td>0.551196</td>\n",
       "      <td>1.000000</td>\n",
       "      <td>0.735693</td>\n",
       "      <td>0.435756</td>\n",
       "      <td>0.105153</td>\n",
       "      <td>0.044169</td>\n",
       "      <td>0.711109</td>\n",
       "      <td>0.147460</td>\n",
       "      <td>-0.185545</td>\n",
       "      <td>0.089168</td>\n",
       "      <td>0.042244</td>\n",
       "      <td>0.093723</td>\n",
       "      <td>0.068379</td>\n",
       "      <td>-0.061072</td>\n",
       "      <td>0.004832</td>\n",
       "    </tr>\n",
       "    <tr>\n",
       "      <th>food_beverages_rating</th>\n",
       "      <td>0.772947</td>\n",
       "      <td>0.505741</td>\n",
       "      <td>0.735693</td>\n",
       "      <td>1.000000</td>\n",
       "      <td>0.521793</td>\n",
       "      <td>0.062415</td>\n",
       "      <td>0.069900</td>\n",
       "      <td>0.687278</td>\n",
       "      <td>0.028939</td>\n",
       "      <td>-0.090893</td>\n",
       "      <td>0.128433</td>\n",
       "      <td>0.043507</td>\n",
       "      <td>0.072633</td>\n",
       "      <td>0.054413</td>\n",
       "      <td>-0.058801</td>\n",
       "      <td>-0.020301</td>\n",
       "    </tr>\n",
       "    <tr>\n",
       "      <th>inflight_entertainment_rating</th>\n",
       "      <td>0.568852</td>\n",
       "      <td>0.459390</td>\n",
       "      <td>0.435756</td>\n",
       "      <td>0.521793</td>\n",
       "      <td>1.000000</td>\n",
       "      <td>0.023675</td>\n",
       "      <td>0.044062</td>\n",
       "      <td>0.543963</td>\n",
       "      <td>0.032046</td>\n",
       "      <td>-0.079792</td>\n",
       "      <td>0.100829</td>\n",
       "      <td>0.028443</td>\n",
       "      <td>0.027528</td>\n",
       "      <td>0.059177</td>\n",
       "      <td>-0.081091</td>\n",
       "      <td>-0.066321</td>\n",
       "    </tr>\n",
       "    <tr>\n",
       "      <th>ground_service_rating</th>\n",
       "      <td>0.103665</td>\n",
       "      <td>0.112242</td>\n",
       "      <td>0.105153</td>\n",
       "      <td>0.062415</td>\n",
       "      <td>0.023675</td>\n",
       "      <td>1.000000</td>\n",
       "      <td>0.678599</td>\n",
       "      <td>0.070685</td>\n",
       "      <td>-0.090116</td>\n",
       "      <td>0.063622</td>\n",
       "      <td>0.049846</td>\n",
       "      <td>-0.010948</td>\n",
       "      <td>0.334688</td>\n",
       "      <td>0.424046</td>\n",
       "      <td>0.482897</td>\n",
       "      <td>0.527587</td>\n",
       "    </tr>\n",
       "    <tr>\n",
       "      <th>wifi_connectivity_rating</th>\n",
       "      <td>0.064943</td>\n",
       "      <td>0.117953</td>\n",
       "      <td>0.044169</td>\n",
       "      <td>0.069900</td>\n",
       "      <td>0.044062</td>\n",
       "      <td>0.678599</td>\n",
       "      <td>1.000000</td>\n",
       "      <td>0.060752</td>\n",
       "      <td>-0.033380</td>\n",
       "      <td>-0.017401</td>\n",
       "      <td>0.107143</td>\n",
       "      <td>-0.007933</td>\n",
       "      <td>0.163993</td>\n",
       "      <td>0.392229</td>\n",
       "      <td>0.360858</td>\n",
       "      <td>0.348791</td>\n",
       "    </tr>\n",
       "    <tr>\n",
       "      <th>value_money_rating</th>\n",
       "      <td>0.829394</td>\n",
       "      <td>0.603930</td>\n",
       "      <td>0.711109</td>\n",
       "      <td>0.687278</td>\n",
       "      <td>0.543963</td>\n",
       "      <td>0.070685</td>\n",
       "      <td>0.060752</td>\n",
       "      <td>1.000000</td>\n",
       "      <td>-0.004692</td>\n",
       "      <td>-0.018545</td>\n",
       "      <td>0.047525</td>\n",
       "      <td>0.011115</td>\n",
       "      <td>0.050866</td>\n",
       "      <td>0.063894</td>\n",
       "      <td>-0.052787</td>\n",
       "      <td>-0.005559</td>\n",
       "    </tr>\n",
       "    <tr>\n",
       "      <th>Business Class</th>\n",
       "      <td>0.074364</td>\n",
       "      <td>0.106063</td>\n",
       "      <td>0.147460</td>\n",
       "      <td>0.028939</td>\n",
       "      <td>0.032046</td>\n",
       "      <td>-0.090116</td>\n",
       "      <td>-0.033380</td>\n",
       "      <td>-0.004692</td>\n",
       "      <td>1.000000</td>\n",
       "      <td>-0.884454</td>\n",
       "      <td>-0.144568</td>\n",
       "      <td>-0.023826</td>\n",
       "      <td>0.010869</td>\n",
       "      <td>-0.009221</td>\n",
       "      <td>-0.095148</td>\n",
       "      <td>-0.073271</td>\n",
       "    </tr>\n",
       "    <tr>\n",
       "      <th>Economy</th>\n",
       "      <td>-0.120849</td>\n",
       "      <td>-0.176245</td>\n",
       "      <td>-0.185545</td>\n",
       "      <td>-0.090893</td>\n",
       "      <td>-0.079792</td>\n",
       "      <td>0.063622</td>\n",
       "      <td>-0.017401</td>\n",
       "      <td>-0.018545</td>\n",
       "      <td>-0.884454</td>\n",
       "      <td>1.000000</td>\n",
       "      <td>-0.326910</td>\n",
       "      <td>-0.053877</td>\n",
       "      <td>-0.066227</td>\n",
       "      <td>-0.023518</td>\n",
       "      <td>0.093327</td>\n",
       "      <td>0.089486</td>\n",
       "    </tr>\n",
       "    <tr>\n",
       "      <th>First Class</th>\n",
       "      <td>0.099232</td>\n",
       "      <td>0.153644</td>\n",
       "      <td>0.089168</td>\n",
       "      <td>0.128433</td>\n",
       "      <td>0.100829</td>\n",
       "      <td>0.049846</td>\n",
       "      <td>0.107143</td>\n",
       "      <td>0.047525</td>\n",
       "      <td>-0.144568</td>\n",
       "      <td>-0.326910</td>\n",
       "      <td>1.000000</td>\n",
       "      <td>-0.008807</td>\n",
       "      <td>0.120622</td>\n",
       "      <td>0.070293</td>\n",
       "      <td>-0.004358</td>\n",
       "      <td>-0.040955</td>\n",
       "    </tr>\n",
       "    <tr>\n",
       "      <th>Premium Economy</th>\n",
       "      <td>0.046328</td>\n",
       "      <td>0.044313</td>\n",
       "      <td>0.042244</td>\n",
       "      <td>0.043507</td>\n",
       "      <td>0.028443</td>\n",
       "      <td>-0.010948</td>\n",
       "      <td>-0.007933</td>\n",
       "      <td>0.011115</td>\n",
       "      <td>-0.023826</td>\n",
       "      <td>-0.053877</td>\n",
       "      <td>-0.008807</td>\n",
       "      <td>1.000000</td>\n",
       "      <td>-0.003568</td>\n",
       "      <td>-0.005068</td>\n",
       "      <td>-0.006914</td>\n",
       "      <td>-0.006750</td>\n",
       "    </tr>\n",
       "    <tr>\n",
       "      <th>Business</th>\n",
       "      <td>0.088609</td>\n",
       "      <td>0.070033</td>\n",
       "      <td>0.093723</td>\n",
       "      <td>0.072633</td>\n",
       "      <td>0.027528</td>\n",
       "      <td>0.334688</td>\n",
       "      <td>0.163993</td>\n",
       "      <td>0.050866</td>\n",
       "      <td>0.010869</td>\n",
       "      <td>-0.066227</td>\n",
       "      <td>0.120622</td>\n",
       "      <td>-0.003568</td>\n",
       "      <td>1.000000</td>\n",
       "      <td>-0.012460</td>\n",
       "      <td>-0.016997</td>\n",
       "      <td>-0.016594</td>\n",
       "    </tr>\n",
       "    <tr>\n",
       "      <th>Couple Leisure</th>\n",
       "      <td>0.075582</td>\n",
       "      <td>0.035002</td>\n",
       "      <td>0.068379</td>\n",
       "      <td>0.054413</td>\n",
       "      <td>0.059177</td>\n",
       "      <td>0.424046</td>\n",
       "      <td>0.392229</td>\n",
       "      <td>0.063894</td>\n",
       "      <td>-0.009221</td>\n",
       "      <td>-0.023518</td>\n",
       "      <td>0.070293</td>\n",
       "      <td>-0.005068</td>\n",
       "      <td>-0.012460</td>\n",
       "      <td>1.000000</td>\n",
       "      <td>-0.024143</td>\n",
       "      <td>-0.023571</td>\n",
       "    </tr>\n",
       "    <tr>\n",
       "      <th>FamilyLeisure</th>\n",
       "      <td>-0.057244</td>\n",
       "      <td>0.012336</td>\n",
       "      <td>-0.061072</td>\n",
       "      <td>-0.058801</td>\n",
       "      <td>-0.081091</td>\n",
       "      <td>0.482897</td>\n",
       "      <td>0.360858</td>\n",
       "      <td>-0.052787</td>\n",
       "      <td>-0.095148</td>\n",
       "      <td>0.093327</td>\n",
       "      <td>-0.004358</td>\n",
       "      <td>-0.006914</td>\n",
       "      <td>-0.016997</td>\n",
       "      <td>-0.024143</td>\n",
       "      <td>1.000000</td>\n",
       "      <td>-0.032153</td>\n",
       "    </tr>\n",
       "    <tr>\n",
       "      <th>Solo Leisure</th>\n",
       "      <td>0.002258</td>\n",
       "      <td>0.002804</td>\n",
       "      <td>0.004832</td>\n",
       "      <td>-0.020301</td>\n",
       "      <td>-0.066321</td>\n",
       "      <td>0.527587</td>\n",
       "      <td>0.348791</td>\n",
       "      <td>-0.005559</td>\n",
       "      <td>-0.073271</td>\n",
       "      <td>0.089486</td>\n",
       "      <td>-0.040955</td>\n",
       "      <td>-0.006750</td>\n",
       "      <td>-0.016594</td>\n",
       "      <td>-0.023571</td>\n",
       "      <td>-0.032153</td>\n",
       "      <td>1.000000</td>\n",
       "    </tr>\n",
       "  </tbody>\n",
       "</table>\n",
       "</div>"
      ],
      "text/plain": [
       "                               overall_rating  seat_comfort_rating  \\\n",
       "overall_rating                       1.000000             0.670180   \n",
       "seat_comfort_rating                  0.670180             1.000000   \n",
       "cabin_staff_rating                   0.810329             0.551196   \n",
       "food_beverages_rating                0.772947             0.505741   \n",
       "inflight_entertainment_rating        0.568852             0.459390   \n",
       "ground_service_rating                0.103665             0.112242   \n",
       "wifi_connectivity_rating             0.064943             0.117953   \n",
       "value_money_rating                   0.829394             0.603930   \n",
       "Business Class                       0.074364             0.106063   \n",
       "Economy                             -0.120849            -0.176245   \n",
       "First Class                          0.099232             0.153644   \n",
       "Premium Economy                      0.046328             0.044313   \n",
       "Business                             0.088609             0.070033   \n",
       "Couple Leisure                       0.075582             0.035002   \n",
       "FamilyLeisure                       -0.057244             0.012336   \n",
       "Solo Leisure                         0.002258             0.002804   \n",
       "\n",
       "                               cabin_staff_rating  food_beverages_rating  \\\n",
       "overall_rating                           0.810329               0.772947   \n",
       "seat_comfort_rating                      0.551196               0.505741   \n",
       "cabin_staff_rating                       1.000000               0.735693   \n",
       "food_beverages_rating                    0.735693               1.000000   \n",
       "inflight_entertainment_rating            0.435756               0.521793   \n",
       "ground_service_rating                    0.105153               0.062415   \n",
       "wifi_connectivity_rating                 0.044169               0.069900   \n",
       "value_money_rating                       0.711109               0.687278   \n",
       "Business Class                           0.147460               0.028939   \n",
       "Economy                                 -0.185545              -0.090893   \n",
       "First Class                              0.089168               0.128433   \n",
       "Premium Economy                          0.042244               0.043507   \n",
       "Business                                 0.093723               0.072633   \n",
       "Couple Leisure                           0.068379               0.054413   \n",
       "FamilyLeisure                           -0.061072              -0.058801   \n",
       "Solo Leisure                             0.004832              -0.020301   \n",
       "\n",
       "                               inflight_entertainment_rating  \\\n",
       "overall_rating                                      0.568852   \n",
       "seat_comfort_rating                                 0.459390   \n",
       "cabin_staff_rating                                  0.435756   \n",
       "food_beverages_rating                               0.521793   \n",
       "inflight_entertainment_rating                       1.000000   \n",
       "ground_service_rating                               0.023675   \n",
       "wifi_connectivity_rating                            0.044062   \n",
       "value_money_rating                                  0.543963   \n",
       "Business Class                                      0.032046   \n",
       "Economy                                            -0.079792   \n",
       "First Class                                         0.100829   \n",
       "Premium Economy                                     0.028443   \n",
       "Business                                            0.027528   \n",
       "Couple Leisure                                      0.059177   \n",
       "FamilyLeisure                                      -0.081091   \n",
       "Solo Leisure                                       -0.066321   \n",
       "\n",
       "                               ground_service_rating  \\\n",
       "overall_rating                              0.103665   \n",
       "seat_comfort_rating                         0.112242   \n",
       "cabin_staff_rating                          0.105153   \n",
       "food_beverages_rating                       0.062415   \n",
       "inflight_entertainment_rating               0.023675   \n",
       "ground_service_rating                       1.000000   \n",
       "wifi_connectivity_rating                    0.678599   \n",
       "value_money_rating                          0.070685   \n",
       "Business Class                             -0.090116   \n",
       "Economy                                     0.063622   \n",
       "First Class                                 0.049846   \n",
       "Premium Economy                            -0.010948   \n",
       "Business                                    0.334688   \n",
       "Couple Leisure                              0.424046   \n",
       "FamilyLeisure                               0.482897   \n",
       "Solo Leisure                                0.527587   \n",
       "\n",
       "                               wifi_connectivity_rating  value_money_rating  \\\n",
       "overall_rating                                 0.064943            0.829394   \n",
       "seat_comfort_rating                            0.117953            0.603930   \n",
       "cabin_staff_rating                             0.044169            0.711109   \n",
       "food_beverages_rating                          0.069900            0.687278   \n",
       "inflight_entertainment_rating                  0.044062            0.543963   \n",
       "ground_service_rating                          0.678599            0.070685   \n",
       "wifi_connectivity_rating                       1.000000            0.060752   \n",
       "value_money_rating                             0.060752            1.000000   \n",
       "Business Class                                -0.033380           -0.004692   \n",
       "Economy                                       -0.017401           -0.018545   \n",
       "First Class                                    0.107143            0.047525   \n",
       "Premium Economy                               -0.007933            0.011115   \n",
       "Business                                       0.163993            0.050866   \n",
       "Couple Leisure                                 0.392229            0.063894   \n",
       "FamilyLeisure                                  0.360858           -0.052787   \n",
       "Solo Leisure                                   0.348791           -0.005559   \n",
       "\n",
       "                               Business Class   Economy  First Class  \\\n",
       "overall_rating                       0.074364 -0.120849     0.099232   \n",
       "seat_comfort_rating                  0.106063 -0.176245     0.153644   \n",
       "cabin_staff_rating                   0.147460 -0.185545     0.089168   \n",
       "food_beverages_rating                0.028939 -0.090893     0.128433   \n",
       "inflight_entertainment_rating        0.032046 -0.079792     0.100829   \n",
       "ground_service_rating               -0.090116  0.063622     0.049846   \n",
       "wifi_connectivity_rating            -0.033380 -0.017401     0.107143   \n",
       "value_money_rating                  -0.004692 -0.018545     0.047525   \n",
       "Business Class                       1.000000 -0.884454    -0.144568   \n",
       "Economy                             -0.884454  1.000000    -0.326910   \n",
       "First Class                         -0.144568 -0.326910     1.000000   \n",
       "Premium Economy                     -0.023826 -0.053877    -0.008807   \n",
       "Business                             0.010869 -0.066227     0.120622   \n",
       "Couple Leisure                      -0.009221 -0.023518     0.070293   \n",
       "FamilyLeisure                       -0.095148  0.093327    -0.004358   \n",
       "Solo Leisure                        -0.073271  0.089486    -0.040955   \n",
       "\n",
       "                               Premium Economy  Business  Couple Leisure  \\\n",
       "overall_rating                        0.046328  0.088609        0.075582   \n",
       "seat_comfort_rating                   0.044313  0.070033        0.035002   \n",
       "cabin_staff_rating                    0.042244  0.093723        0.068379   \n",
       "food_beverages_rating                 0.043507  0.072633        0.054413   \n",
       "inflight_entertainment_rating         0.028443  0.027528        0.059177   \n",
       "ground_service_rating                -0.010948  0.334688        0.424046   \n",
       "wifi_connectivity_rating             -0.007933  0.163993        0.392229   \n",
       "value_money_rating                    0.011115  0.050866        0.063894   \n",
       "Business Class                       -0.023826  0.010869       -0.009221   \n",
       "Economy                              -0.053877 -0.066227       -0.023518   \n",
       "First Class                          -0.008807  0.120622        0.070293   \n",
       "Premium Economy                       1.000000 -0.003568       -0.005068   \n",
       "Business                             -0.003568  1.000000       -0.012460   \n",
       "Couple Leisure                       -0.005068 -0.012460        1.000000   \n",
       "FamilyLeisure                        -0.006914 -0.016997       -0.024143   \n",
       "Solo Leisure                         -0.006750 -0.016594       -0.023571   \n",
       "\n",
       "                               FamilyLeisure  Solo Leisure  \n",
       "overall_rating                     -0.057244      0.002258  \n",
       "seat_comfort_rating                 0.012336      0.002804  \n",
       "cabin_staff_rating                 -0.061072      0.004832  \n",
       "food_beverages_rating              -0.058801     -0.020301  \n",
       "inflight_entertainment_rating      -0.081091     -0.066321  \n",
       "ground_service_rating               0.482897      0.527587  \n",
       "wifi_connectivity_rating            0.360858      0.348791  \n",
       "value_money_rating                 -0.052787     -0.005559  \n",
       "Business Class                     -0.095148     -0.073271  \n",
       "Economy                             0.093327      0.089486  \n",
       "First Class                        -0.004358     -0.040955  \n",
       "Premium Economy                    -0.006914     -0.006750  \n",
       "Business                           -0.016997     -0.016594  \n",
       "Couple Leisure                     -0.024143     -0.023571  \n",
       "FamilyLeisure                       1.000000     -0.032153  \n",
       "Solo Leisure                       -0.032153      1.000000  "
      ]
     },
     "execution_count": 129,
     "metadata": {},
     "output_type": "execute_result"
    }
   ],
   "source": [
    "df_clean.corr()"
   ]
  },
  {
   "cell_type": "markdown",
   "metadata": {},
   "source": [
    "*From the above table, we see that there are much correlations between cabin staff, food beverages rating and value money rating. Hence, there might be huge bias in case of OLS due to multi-colinearity*"
   ]
  },
  {
   "cell_type": "code",
   "execution_count": 130,
   "metadata": {
    "collapsed": false
   },
   "outputs": [
    {
     "data": {
      "image/png": "[encoded data removed]",
      "text/plain": [
       "<matplotlib.figure.Figure at 0x179e676c208>"
      ]
     },
     "metadata": {},
     "output_type": "display_data"
    }
   ],
   "source": [
    "df_emi['year']=df_emi.date.dt.year\n",
    "df_emi.groupby('year')[['overall_rating']].mean().plot()\n",
    "plt.title('Overall rating over years')\n",
    "plt.yticks(np.arange(0,10,1))\n",
    "plt.legend().remove()\n",
    "plt.show()"
   ]
  },
  {
   "cell_type": "markdown",
   "metadata": {},
   "source": [
    "*The overall rating has risen slightly from around 5.7 to 6.0 point on scale of 10 in 2010-2015 period, which may suggest there has not been much improvement in rating for Emirates airlines.* "
   ]
  },
  {
   "cell_type": "code",
   "execution_count": 131,
   "metadata": {
    "collapsed": false
   },
   "outputs": [
    {
     "data": {
      "image/png": "[encoded data removed]",
      "text/plain": [
       "<matplotlib.figure.Figure at 0x179e6772550>"
      ]
     },
     "metadata": {},
     "output_type": "display_data"
    }
   ],
   "source": [
    "df_emi.groupby('cabin_flown')[['overall_rating']].mean().plot(kind='bar')\n",
    "plt.title('Overall rating over each cabin flown type')\n",
    "plt.legend().remove()\n",
    "plt.show()"
   ]
  },
  {
   "cell_type": "code",
   "execution_count": 132,
   "metadata": {
    "collapsed": false
   },
   "outputs": [
    {
     "data": {
      "text/plain": [
       "cabin_flown\n",
       "Business Class     194\n",
       "Economy            461\n",
       "First Class         35\n",
       "Premium Economy      1\n",
       "dtype: int64"
      ]
     },
     "execution_count": 132,
     "metadata": {},
     "output_type": "execute_result"
    }
   ],
   "source": [
    "df_emi.groupby('cabin_flown').size()"
   ]
  },
  {
   "cell_type": "markdown",
   "metadata": {},
   "source": [
    "*The rating is similar for economy and business class (around 6.5), while first class seems to enjoy more for Emirates service (nearly 8/10). There is only 1 data point for premium economy class, so we cannot infer much from this.*"
   ]
  },
  {
   "cell_type": "code",
   "execution_count": 133,
   "metadata": {
    "collapsed": false
   },
   "outputs": [
    {
     "data": {
      "image/png": "[encoded data removed]",
      "text/plain": [
       "<matplotlib.figure.Figure at 0x179e6657f98>"
      ]
     },
     "metadata": {},
     "output_type": "display_data"
    }
   ],
   "source": [
    "df_emi.groupby('type_traveller')[['overall_rating']].mean().plot(kind='bar')\n",
    "plt.title('Overall rating over traveller type')\n",
    "plt.yticks(np.arange(0,10,1))\n",
    "plt.legend().remove()\n",
    "plt.show()"
   ]
  },
  {
   "cell_type": "markdown",
   "metadata": {},
   "source": [
    "*Business and couple show much more preference in Emirate services while family and solo traveller seem rather dissatisfied (less than 6 score).*"
   ]
  },
  {
   "cell_type": "code",
   "execution_count": 134,
   "metadata": {
    "collapsed": false
   },
   "outputs": [
    {
     "data": {
      "text/plain": [
       "Ttest_indResult(statistic=4.1861727820116901, pvalue=0.00010667963246993432)"
      ]
     },
     "execution_count": 134,
     "metadata": {},
     "output_type": "execute_result"
    }
   ],
   "source": [
    "# Test Ho: the mean of overall rating for business/couple and family/solo traveller are equal\n",
    "bi_cou=df_emi[(df_emi.type_traveller=='Business')|(df_emi.type_traveller=='Couple Leisure')].overall_rating\n",
    "fa_solo=df_emi[(df_emi.type_traveller=='FamilyLeisure')|(df_emi.type_traveller=='Solo Leisure')].overall_rating\n",
    "stats.ttest_ind_from_stats(bi_cou.mean(), bi_cou.std(),len(bi_cou),fa_solo.mean(), fa_solo.std(),len(fa_solo), equal_var=False)"
   ]
  },
  {
   "cell_type": "markdown",
   "metadata": {},
   "source": [
    "*p_value< 0.01, so we can reject the null hypothesis. We may then continue to segment to see what accounts for the difference* "
   ]
  },
  {
   "cell_type": "code",
   "execution_count": 135,
   "metadata": {
    "collapsed": false
   },
   "outputs": [
    {
     "data": {
      "image/png": "[encoded data removed]",
      "text/plain": [
       "<matplotlib.figure.Figure at 0x179e651a780>"
      ]
     },
     "metadata": {},
     "output_type": "display_data"
    }
   ],
   "source": [
    "df_emi.groupby('recommended')[['overall_rating']].mean().plot(kind='bar')\n",
    "plt.title('Correlation between overall rating and being recommended')\n",
    "plt.yticks(np.arange(0,10,1))\n",
    "plt.legend().remove()\n",
    "plt.show()"
   ]
  },
  {
   "cell_type": "markdown",
   "metadata": {},
   "source": [
    "*This shows strong positive correlation between overall rating and being recommended. Hence, we only choose one for our analysis* "
   ]
  },
  {
   "cell_type": "code",
   "execution_count": 136,
   "metadata": {
    "collapsed": false
   },
   "outputs": [
    {
     "data": {
      "image/png": "[encoded data removed]",
      "text/plain": [
       "<matplotlib.figure.Figure at 0x179e655f208>"
      ]
     },
     "metadata": {},
     "output_type": "display_data"
    }
   ],
   "source": [
    "df_emi.groupby('food_beverages_rating')[['overall_rating']].mean().plot(kind='bar')\n",
    "plt.title('Correlation between overall rating and food beverage rating')\n",
    "plt.yticks(np.arange(0,10,1))\n",
    "plt.legend().remove()\n",
    "plt.show()"
   ]
  },
  {
   "cell_type": "markdown",
   "metadata": {},
   "source": [
    "*This relationship also makes sense. The higher score for food beverages, the higher the overall score.*"
   ]
  },
  {
   "cell_type": "code",
   "execution_count": 137,
   "metadata": {
    "collapsed": false
   },
   "outputs": [
    {
     "data": {
      "image/png": "[encoded data removed]",
      "text/plain": [
       "<matplotlib.figure.Figure at 0x179e7c42358>"
      ]
     },
     "metadata": {},
     "output_type": "display_data"
    }
   ],
   "source": [
    "df_emi.groupby('inflight_entertainment_rating')[['overall_rating']].mean().plot(kind='bar')\n",
    "plt.title('Correlation between overall rating and inflight entertainment')\n",
    "plt.yticks(np.arange(0,10,1))\n",
    "plt.legend().remove()\n",
    "plt.show()"
   ]
  },
  {
   "cell_type": "markdown",
   "metadata": {},
   "source": [
    "## Modelling"
   ]
  },
  {
   "cell_type": "markdown",
   "metadata": {},
   "source": [
    "In order to get the most important features that may affect overall rating, the following steps are conducted:\n",
    "    * Classifiers: OLS, Ridge regression,  Random forest\n",
    "    * Divide dataset into train/testset (0.75/0.25), grid search and cross validation with 5 folds \n",
    "    * Metrics: mean squared error"
   ]
  },
  {
   "cell_type": "code",
   "execution_count": 138,
   "metadata": {
    "collapsed": false
   },
   "outputs": [],
   "source": [
    "y=df_clean.overall_rating\n",
    "X=df_clean.drop(['overall_rating'], axis=1)"
   ]
  },
  {
   "cell_type": "code",
   "execution_count": 139,
   "metadata": {
    "collapsed": false
   },
   "outputs": [],
   "source": [
    "from sklearn.model_selection import train_test_split\n",
    "Xlr, Xtestlr, ylr, ytestlr = train_test_split(X,y,random_state=1)\n",
    "from sklearn.metrics import mean_squared_error\n",
    "from sklearn.metrics import mean_absolute_error"
   ]
  },
  {
   "cell_type": "markdown",
   "metadata": {},
   "source": [
    "### Simple OLS"
   ]
  },
  {
   "cell_type": "code",
   "execution_count": 140,
   "metadata": {
    "collapsed": false
   },
   "outputs": [
    {
     "name": "stdout",
     "output_type": "stream",
     "text": [
      "                            OLS Regression Results                            \n",
      "==============================================================================\n",
      "Dep. Variable:         overall_rating   R-squared:                       0.836\n",
      "Model:                            OLS   Adj. R-squared:                  0.831\n",
      "Method:                 Least Squares   F-statistic:                     182.3\n",
      "Date:                Tue, 01 Nov 2016   Prob (F-statistic):          1.85e-186\n",
      "Time:                        17:14:37   Log-Likelihood:                -850.84\n",
      "No. Observations:                 517   AIC:                             1732.\n",
      "Df Residuals:                     502   BIC:                             1795.\n",
      "Df Model:                          14                                         \n",
      "Covariance Type:            nonrobust                                         \n",
      "=================================================================================================\n",
      "                                    coef    std err          t      P>|t|      [95.0% Conf. Int.]\n",
      "-------------------------------------------------------------------------------------------------\n",
      "seat_comfort_rating               0.4258      0.061      6.951      0.000         0.305     0.546\n",
      "cabin_staff_rating                0.6065      0.062      9.768      0.000         0.485     0.729\n",
      "food_beverages_rating             0.5103      0.067      7.673      0.000         0.380     0.641\n",
      "inflight_entertainment_rating     0.1894      0.065      2.928      0.004         0.062     0.316\n",
      "ground_service_rating             0.1099      0.140      0.784      0.433        -0.165     0.385\n",
      "wifi_connectivity_rating         -0.0959      0.109     -0.883      0.378        -0.309     0.117\n",
      "value_money_rating                0.7516      0.071     10.530      0.000         0.611     0.892\n",
      "Business Class                   -2.4337      0.270     -9.026      0.000        -2.963    -1.904\n",
      "Economy                          -2.6142      0.247    -10.583      0.000        -3.099    -2.129\n",
      "First Class                      -2.5611      0.387     -6.626      0.000        -3.321    -1.802\n",
      "Premium Economy                  -1.6666      1.311     -1.271      0.204        -4.243     0.910\n",
      "Business                         -0.0498      1.057     -0.047      0.962        -2.127     2.027\n",
      "Couple Leisure                    0.1443      0.668      0.216      0.829        -1.168     1.457\n",
      "FamilyLeisure                    -0.3959      0.594     -0.666      0.505        -1.563     0.771\n",
      "Solo Leisure                      0.3649      0.567      0.643      0.521        -0.750     1.480\n",
      "==============================================================================\n",
      "Omnibus:                      106.575   Durbin-Watson:                   2.006\n",
      "Prob(Omnibus):                  0.000   Jarque-Bera (JB):              298.703\n",
      "Skew:                          -0.995   Prob(JB):                     1.37e-65\n",
      "Kurtosis:                       6.147   Cond. No.                         201.\n",
      "==============================================================================\n",
      "\n",
      "Warnings:\n",
      "[1] Standard Errors assume that the covariance matrix of the errors is correctly specified.\n",
      "mean squared error on ols: 1.62098608223\n"
     ]
    }
   ],
   "source": [
    "import statsmodels.api as sm\n",
    "model=sm.OLS(ylr, Xlr)\n",
    "results = model.fit()\n",
    "print(results.summary())\n",
    "print('mean squared error on ols:', results.mse_resid)"
   ]
  },
  {
   "cell_type": "markdown",
   "metadata": {},
   "source": [
    "#### Result analysis\n",
    "\n",
    "* Though R^2 is quite high 83%, the assumptions for OLS may not hold (multi-colinearity). Thus, the coefficients may be biased.\n",
    "\n",
    "* Ground service, wifi connectivity and traveller type have no correlation with the overall rating as they are not statistically significant (at 5% significance level).\n",
    "* MSE=1.62 (for later comparison purpose)"
   ]
  },
  {
   "cell_type": "markdown",
   "metadata": {},
   "source": [
    "### Ridge regression"
   ]
  },
  {
   "cell_type": "code",
   "execution_count": 160,
   "metadata": {
    "collapsed": false
   },
   "outputs": [
    {
     "name": "stdout",
     "output_type": "stream",
     "text": [
      "alpha= 25\n",
      "mean squared error on train set: 1.5797133701\n",
      "mean squared error on test set: 1.72306537139\n"
     ]
    }
   ],
   "source": [
    "#version 1\n",
    "from sklearn.feature_selection import SelectFromModel\n",
    "from sklearn.linear_model import RidgeCV\n",
    "from sklearn.metrics import make_scorer as scorer\n",
    "\n",
    "ridge_model=RidgeCV(alphas=(0,0.1,0.5,0.7,1.0,5.0,7.0, 10.0,12,15,20,25), cv=5, scoring='mean_squared_error')\n",
    "ridge_model.fit(Xlr,ylr)\n",
    "\n",
    "\n",
    "print('alpha=', ridge_model.alpha_)\n",
    "print('mean squared error on train set:', mean_squared_error(ylr,ridge_model.predict(Xlr)))\n",
    "print('mean squared error on test set:', mean_squared_error(ytestlr,ridge_model.predict(Xtestlr)))\n"
   ]
  },
  {
   "cell_type": "markdown",
   "metadata": {},
   "source": [
    "*MSE actually keeps decreasing as regularization parameter increases. This suggests that we have underfitting problem, so in this case, I will attempt to add more polynominals in the model."
   ]
  },
  {
   "cell_type": "code",
   "execution_count": 163,
   "metadata": {
    "collapsed": false
   },
   "outputs": [
    {
     "name": "stdout",
     "output_type": "stream",
     "text": [
      "25 1.65537769077\n"
     ]
    }
   ],
   "source": [
    "#version 2\n",
    "from sklearn.model_selection import cross_val_score\n",
    "from sklearn.metrics import mean_squared_error\n",
    "def mse(clf, X_train, y_train):\n",
    "    predictions = clf.predict(X_train)\n",
    "    return mean_squared_error(y_train, predictions)\n",
    "alphas=[0,0.1,0.5,0.7,1,5,7, 10,12,15,20,25]\n",
    "mse_min=5\n",
    "best_para=[]\n",
    "for i in alphas:\n",
    "    score = cross_val_score(Ridge(alpha=i), Xlr, ylr, scoring=mse, cv=5)\n",
    "    mse_cv=score.mean()\n",
    "    if mse_cv< mse_min:\n",
    "        best_para=i\n",
    "        mse_min=mse_cv\n",
    "print(best_para,mse_min)"
   ]
  },
  {
   "cell_type": "markdown",
   "metadata": {},
   "source": [
    "### Random forest"
   ]
  },
  {
   "cell_type": "code",
   "execution_count": 29,
   "metadata": {
    "collapsed": false
   },
   "outputs": [
    {
     "name": "stdout",
     "output_type": "stream",
     "text": [
      "{'n_estimators': 300, 'max_depth': 10, 'min_samples_split': 4}\n"
     ]
    }
   ],
   "source": [
    "\n",
    "from sklearn.ensemble import RandomForestRegressor\n",
    "from sklearn.model_selection import GridSearchCV\n",
    "forest=RandomForestRegressor(max_features = \"sqrt\", random_state=1)\n",
    "param_grid = { \"n_estimators\"      : [200, 300],\n",
    "           \"max_depth\"         : [10, 20],\n",
    "           \"min_samples_split\" : [2, 4]}\n",
    "%timeit\n",
    "grid_search = GridSearchCV(forest, param_grid, n_jobs=-1, cv=5, scoring='mean_squared_error')\n",
    "grid_search.fit(Xlr, ylr)\n",
    "print(grid_search.best_params_)"
   ]
  },
  {
   "cell_type": "code",
   "execution_count": 30,
   "metadata": {
    "collapsed": false
   },
   "outputs": [
    {
     "name": "stdout",
     "output_type": "stream",
     "text": [
      "best mean squared error: -1.76147231555\n"
     ]
    }
   ],
   "source": [
    "best_max_depth, best_samples_splits, best_n_esti=grid_search.best_params_.values()\n",
    "print('best mean squared error:',grid_search.best_score_)"
   ]
  },
  {
   "cell_type": "code",
   "execution_count": 31,
   "metadata": {
    "collapsed": false
   },
   "outputs": [
    {
     "name": "stdout",
     "output_type": "stream",
     "text": [
      "1. feature 6 (0.402903), value_money_rating\n",
      "2. feature 1 (0.259955), cabin_staff_rating\n",
      "3. feature 2 (0.147647), food_beverages_rating\n",
      "4. feature 0 (0.117869), seat_comfort_rating\n",
      "5. feature 3 (0.028640), inflight_entertainment_rating\n",
      "6. feature 8 (0.012288), Economy\n",
      "7. feature 4 (0.011599), ground_service_rating\n",
      "8. feature 9 (0.008017), First Class\n",
      "9. feature 7 (0.005898), Business Class\n",
      "10. feature 13 (0.001932), FamilyLeisure\n"
     ]
    }
   ],
   "source": [
    "forest=RandomForestRegressor(max_features = \"sqrt\", random_state=1,n_estimators=best_n_esti, min_samples_split=best_samples_splits,\n",
    "                             max_depth=best_max_depth).fit(Xlr,ylr)\n",
    "importances = forest.feature_importances_\n",
    "names=list(Xlr.columns.values)\n",
    "features = []\n",
    "indices = np.argsort(importances)[::-1]\n",
    "\n",
    "for f in range(len(importances)):\n",
    "    print(\"%d. feature %d (%f), %s\" % (f + 1, indices[f], importances[indices[f]], names[indices[f]]))\n",
    "    features.append(indices[f])\n",
    "    # Print only first 10 most important variables\n",
    "    if len(features) >= 10:\n",
    "        break\n",
    "featurenames = [names[feature] for feature in features]"
   ]
  },
  {
   "cell_type": "code",
   "execution_count": 32,
   "metadata": {
    "collapsed": false
   },
   "outputs": [
    {
     "name": "stdout",
     "output_type": "stream",
     "text": [
      "Feature ranking:\n"
     ]
    },
    {
     "data": {
      "image/png": "[encoded data removed]",
      "text/plain": [
       "<matplotlib.figure.Figure at 0x179e7716438>"
      ]
     },
     "metadata": {},
     "output_type": "display_data"
    }
   ],
   "source": [
    "std = np.std([tree.feature_importances_ for tree in forest.estimators_],axis=0)\n",
    "\n",
    "# Plot the feature importances of the forest\n",
    "print('Feature ranking:')\n",
    "fig=plt.figure()\n",
    "plt.title(\"Feature importances\")\n",
    "plt.bar(range(10), importances[indices[0:10]],\n",
    "       color=\"r\", yerr=std[indices[0:10]], align=\"center\")\n",
    "plt.xticks(range(len(features)), featurenames,rotation=60)\n",
    "plt.show()\n",
    "fig.savefig('feature important.png')"
   ]
  },
  {
   "cell_type": "code",
   "execution_count": 33,
   "metadata": {
    "collapsed": false
   },
   "outputs": [
    {
     "name": "stdout",
     "output_type": "stream",
     "text": [
      "mean squared error on train set: 1.29789805624\n",
      "mean squared error on test set: 1.67489100997\n"
     ]
    }
   ],
   "source": [
    "print('mean squared error on train set:', mean_squared_error(ylr,forest.predict(Xlr) ))\n",
    "print('mean squared error on test set:', mean_squared_error(ytestlr,forest.predict(Xtestlr)))"
   ]
  },
  {
   "cell_type": "markdown",
   "metadata": {},
   "source": [
    "#### Result analysis\n",
    "\n",
    "*Based on MSE, we see that Ridge regression perform the best among these 3 models for both train and test set. Hence, we will use Ridge regression for building our model.*"
   ]
  },
  {
   "cell_type": "markdown",
   "metadata": {},
   "source": [
    "In the following, I group the rating for each feature where 1-3 is recorded as low, and 4-5 as high. Then, I take the median of predicted overall rating over these subsets of each feature. "
   ]
  },
  {
   "cell_type": "code",
   "execution_count": 42,
   "metadata": {
    "collapsed": false
   },
   "outputs": [],
   "source": [
    "data_predict=Xtestlr.copy()\n",
    "data_predict['value_money_low']=(data_predict.value_money_rating<=3)*1\n",
    "data_predict['cabin_low']=(data_predict.cabin_staff_rating<=3)*1\n",
    "data_predict['seat_comfort_low']=(data_predict.seat_comfort_rating<=3)*1\n",
    "data_predict['food_beverages_low']=(data_predict.food_beverages_rating<=3)*1\n",
    "data_predict['inflight_entertainment_low']=(data_predict.inflight_entertainment_rating<=3)*1\n",
    "data_predict['y']=ridge_model.predict(Xtestlr)"
   ]
  },
  {
   "cell_type": "code",
   "execution_count": 39,
   "metadata": {
    "collapsed": false
   },
   "outputs": [
    {
     "data": {
      "text/plain": [
       "value_money_low  cabin_low  seat_comfort_low  food_beverages_low  inflight_entertainment_low\n",
       "0                0          0                 0                   0                             9.054797\n",
       "                                                                  1                             8.257525\n",
       "                                              1                   0                             7.679798\n",
       "                                                                  1                             7.021597\n",
       "                            1                 0                   0                             7.671911\n",
       "                                              1                   0                             6.787368\n",
       "                 1          0                 0                   0                             6.217271\n",
       "                                                                  1                             6.514782\n",
       "                                              1                   0                             6.240723\n",
       "                                                                  1                             6.002420\n",
       "                            1                 0                   0                             6.496953\n",
       "                                              1                   0                             5.247458\n",
       "                                                                  1                             4.235601\n",
       "1                0          0                 0                   0                             6.643374\n",
       "                                                                  1                             5.554021\n",
       "                                              1                   0                             7.144610\n",
       "                                                                  1                             5.689808\n",
       "                            1                 0                   0                             6.253269\n",
       "                                                                  1                             5.273754\n",
       "                                              1                   0                             5.434260\n",
       "                                                                  1                             3.334494\n",
       "                 1          0                 0                   0                             5.240745\n",
       "                                              1                   0                             3.809769\n",
       "                                                                  1                             3.463249\n",
       "                            1                 0                   0                             4.086426\n",
       "                                              1                   0                             2.964474\n",
       "                                                                  1                             1.411994\n",
       "Name: y, dtype: float64"
      ]
     },
     "execution_count": 39,
     "metadata": {},
     "output_type": "execute_result"
    }
   ],
   "source": [
    "pd.pivot_table(data=data_predict,columns=None, index=['value_money_low','cabin_low','seat_comfort_low','food_beverages_low','inflight_entertainment_low'],values='y', aggfunc='mean')"
   ]
  },
  {
   "cell_type": "markdown",
   "metadata": {},
   "source": [
    "##### The above table can be interpreted as follows:\n",
    "\n",
    "We may go upwards or downwards in this table. If we take from bottom up, we see when everything is True, that is when every of these features have low rating, the median overall rating will be 2.538 point. Raising inflight entertainment rating from low (1-3) to high rate (4-5), the overall rating increases by nearly 1 point. And the analysis continues this way. This table can serve as a relative reference table for performance tracking purpose.  \n"
   ]
  },
  {
   "cell_type": "code",
   "execution_count": null,
   "metadata": {
    "collapsed": true
   },
   "outputs": [],
   "source": []
  }
 ],
 "metadata": {
  "anaconda-cloud": {},
  "kernelspec": {
   "display_name": "Python [default]",
   "language": "python",
   "name": "python3"
  },
  "language_info": {
   "codemirror_mode": {
    "name": "ipython",
    "version": 3
   },
   "file_extension": ".py",
   "mimetype": "text/x-python",
   "name": "python",
   "nbconvert_exporter": "python",
   "pygments_lexer": "ipython3",
   "version": "3.5.2"
  }
 },
 "nbformat": 4,
 "nbformat_minor": 1
}
